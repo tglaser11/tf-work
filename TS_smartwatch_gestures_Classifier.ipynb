{
  "nbformat": 4,
  "nbformat_minor": 0,
  "metadata": {
    "colab": {
      "name": "TS_smartwatch_gestures-Classifier.ipynb",
      "provenance": [],
      "mount_file_id": "13hQQRJj9EnLqdsDuUjssa3xjObaclNmB",
      "authorship_tag": "ABX9TyM9un43x3CaeVpjWcXT0bC5"
    },
    "kernelspec": {
      "name": "python3",
      "display_name": "Python 3"
    },
    "language_info": {
      "name": "python"
    }
  },
  "cells": [
    {
      "cell_type": "code",
      "execution_count": 2,
      "metadata": {
        "id": "UWrXFtqJAM9j"
      },
      "outputs": [],
      "source": [
        "import tensorflow as tf\n",
        "import tensorflow_datasets as tfds\n",
        "\n",
        "import numpy as np\n",
        "import pandas as pd\n",
        "import matplotlib.pyplot as plt\n"
      ]
    },
    {
      "cell_type": "code",
      "source": [
        "import os\n",
        "def list_files(filepath, filetype):\n",
        "   paths = []\n",
        "   for root, dirs, files in os.walk(filepath):\n",
        "      for file in files:\n",
        "         if file.lower().endswith(filetype.lower()):\n",
        "            paths.append(os.path.join(root, file))\n",
        "   return(paths)"
      ],
      "metadata": {
        "id": "MzTjmzzkAzw8"
      },
      "execution_count": 4,
      "outputs": []
    },
    {
      "cell_type": "code",
      "source": [
        "data_files = list_files('/content/drive/MyDrive/data/smart_watch/smartwatch_gestures','txt')"
      ],
      "metadata": {
        "id": "gBgv8PDrBJzl"
      },
      "execution_count": 13,
      "outputs": []
    },
    {
      "cell_type": "code",
      "source": [
        "data_files[:5], data_files[-5:]"
      ],
      "metadata": {
        "colab": {
          "base_uri": "https://localhost:8080/"
        },
        "id": "h1gwqXfdGIXp",
        "outputId": "2eab40dd-06db-4a0e-d249-1935269be581"
      },
      "execution_count": 14,
      "outputs": [
        {
          "output_type": "execute_result",
          "data": {
            "text/plain": [
              "(['/content/drive/MyDrive/data/smart_watch/smartwatch_gestures/U01/07/13.txt',\n",
              "  '/content/drive/MyDrive/data/smart_watch/smartwatch_gestures/U01/07/01.txt',\n",
              "  '/content/drive/MyDrive/data/smart_watch/smartwatch_gestures/U01/07/14.txt',\n",
              "  '/content/drive/MyDrive/data/smart_watch/smartwatch_gestures/U01/07/15.txt',\n",
              "  '/content/drive/MyDrive/data/smart_watch/smartwatch_gestures/U01/07/02.txt'],\n",
              " ['/content/drive/MyDrive/data/smart_watch/smartwatch_gestures/U08/14/08.txt',\n",
              "  '/content/drive/MyDrive/data/smart_watch/smartwatch_gestures/U08/14/20.txt',\n",
              "  '/content/drive/MyDrive/data/smart_watch/smartwatch_gestures/U08/14/07.txt',\n",
              "  '/content/drive/MyDrive/data/smart_watch/smartwatch_gestures/U08/14/13.txt',\n",
              "  '/content/drive/MyDrive/data/smart_watch/smartwatch_gestures/U08/14/11.txt'])"
            ]
          },
          "metadata": {},
          "execution_count": 14
        }
      ]
    },
    {
      "cell_type": "code",
      "source": [
        "# Create new dataframe to hold data\n",
        "df = pd.DataFrame()\n",
        "\n",
        "# Create columns for user and gesture from dir tree: /<user>/<gesture>/XX.txt\n",
        "# File column labels: System.currentTimeMillis() System.nanoTime() event.timestamp event.values[0] event.values[1] event.values[2]\n",
        "df.columns = ['']"
      ],
      "metadata": {
        "id": "e4VK0R_UI5xZ"
      },
      "execution_count": 15,
      "outputs": []
    },
    {
      "cell_type": "code",
      "source": [
        "def import_gesture_data_from_files(filepath, filetype):\n",
        "   # 1. identify all the files and their paths in the data set\n",
        "   paths = []\n",
        "   for root, dirs, files in os.walk(filepath):\n",
        "      for file in files:\n",
        "         if file.lower().endswith(filetype.lower()):\n",
        "            paths.append(os.path.join(root, file))\n",
        "   # 2. \n",
        "   return(paths)"
      ],
      "metadata": {
        "id": "LAQv2I28G6GZ"
      },
      "execution_count": 16,
      "outputs": []
    },
    {
      "cell_type": "code",
      "source": [
        ""
      ],
      "metadata": {
        "id": "AKElIX2zI9sb"
      },
      "execution_count": null,
      "outputs": []
    }
  ]
}