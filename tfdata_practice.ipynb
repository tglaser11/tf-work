{
  "nbformat": 4,
  "nbformat_minor": 0,
  "metadata": {
    "colab": {
      "name": "tfdata_practice.ipynb",
      "provenance": [],
      "authorship_tag": "ABX9TyN7M59/b1aw4IxlQoy9H9hF"
    },
    "kernelspec": {
      "name": "python3",
      "display_name": "Python 3"
    },
    "language_info": {
      "name": "python"
    }
  },
  "cells": [
    {
      "cell_type": "code",
      "execution_count": 3,
      "metadata": {
        "id": "xCLhgnYru4ob"
      },
      "outputs": [],
      "source": [
        "import matplotlib.pyplot as plt\n",
        "import tensorflow as tf\n",
        "from tensorflow.keras.datasets.fashion_mnist import load_data\n",
        "from tensorflow.keras.layers import Dense, Flatten\n",
        "from tensorflow.keras.models import Sequential\n",
        "\n"
      ]
    },
    {
      "cell_type": "code",
      "source": [
        "(train_image, train_label), (test_image, test_label) = load_data()"
      ],
      "metadata": {
        "colab": {
          "base_uri": "https://localhost:8080/"
        },
        "id": "NAYFmlb7wJIr",
        "outputId": "ccc9d02e-5e7d-4592-f163-fe8a1ad8b586"
      },
      "execution_count": 4,
      "outputs": [
        {
          "output_type": "stream",
          "name": "stdout",
          "text": [
            "Downloading data from https://storage.googleapis.com/tensorflow/tf-keras-datasets/train-labels-idx1-ubyte.gz\n",
            "32768/29515 [=================================] - 0s 0us/step\n",
            "40960/29515 [=========================================] - 0s 0us/step\n",
            "Downloading data from https://storage.googleapis.com/tensorflow/tf-keras-datasets/train-images-idx3-ubyte.gz\n",
            "26427392/26421880 [==============================] - 0s 0us/step\n",
            "26435584/26421880 [==============================] - 0s 0us/step\n",
            "Downloading data from https://storage.googleapis.com/tensorflow/tf-keras-datasets/t10k-labels-idx1-ubyte.gz\n",
            "16384/5148 [===============================================================================================] - 0s 0us/step\n",
            "Downloading data from https://storage.googleapis.com/tensorflow/tf-keras-datasets/t10k-images-idx3-ubyte.gz\n",
            "4423680/4422102 [==============================] - 0s 0us/step\n",
            "4431872/4422102 [==============================] - 0s 0us/step\n"
          ]
        }
      ]
    },
    {
      "cell_type": "code",
      "source": [
        "train_image.shape, train_label.shape, test_image.shape, test_label.shape"
      ],
      "metadata": {
        "colab": {
          "base_uri": "https://localhost:8080/"
        },
        "id": "_CUFnBa4wJ_8",
        "outputId": "5aaab5c9-2ef0-477c-f2e2-ec60a8f63c47"
      },
      "execution_count": 6,
      "outputs": [
        {
          "output_type": "execute_result",
          "data": {
            "text/plain": [
              "((60000, 28, 28), (60000,), (10000, 28, 28), (10000,))"
            ]
          },
          "metadata": {},
          "execution_count": 6
        }
      ]
    },
    {
      "cell_type": "code",
      "source": [
        "model = Sequential([\n",
        "                    Flatten(input_shape=(28,28)),\n",
        "                    Dense(100, activation='relu'),\n",
        "                    Dense(100, activation='relu'),\n",
        "                    Dense(10, activation='sigmoid')\n",
        "])"
      ],
      "metadata": {
        "id": "CcMx7hqHwV0P"
      },
      "execution_count": 7,
      "outputs": []
    },
    {
      "cell_type": "code",
      "source": [
        "model.compile(optimizer='adam', \n",
        "              loss='sparse_categorical_crossentropy',\n",
        "              metrics='sparse_categorical_accuracy')"
      ],
      "metadata": {
        "id": "OIrrSBUXxYZ7"
      },
      "execution_count": 8,
      "outputs": []
    },
    {
      "cell_type": "code",
      "source": [
        "history = model.fit(train_image, train_label, batch_size=32, epochs=25,\n",
        "                    validation_data=(test_image, test_label))"
      ],
      "metadata": {
        "colab": {
          "base_uri": "https://localhost:8080/"
        },
        "id": "Bd2YSQjrxon1",
        "outputId": "3472498f-6fa5-483a-afc2-00854ec241c7"
      },
      "execution_count": 10,
      "outputs": [
        {
          "output_type": "stream",
          "name": "stdout",
          "text": [
            "Epoch 1/25\n",
            "1875/1875 [==============================] - 4s 2ms/step - loss: 0.3819 - sparse_categorical_accuracy: 0.8633 - val_loss: 0.4251 - val_sparse_categorical_accuracy: 0.8545\n",
            "Epoch 2/25\n",
            "1875/1875 [==============================] - 3s 2ms/step - loss: 0.3749 - sparse_categorical_accuracy: 0.8640 - val_loss: 0.4255 - val_sparse_categorical_accuracy: 0.8516\n",
            "Epoch 3/25\n",
            "1875/1875 [==============================] - 4s 2ms/step - loss: 0.3665 - sparse_categorical_accuracy: 0.8668 - val_loss: 0.4243 - val_sparse_categorical_accuracy: 0.8518\n",
            "Epoch 4/25\n",
            "1875/1875 [==============================] - 4s 2ms/step - loss: 0.3642 - sparse_categorical_accuracy: 0.8677 - val_loss: 0.4078 - val_sparse_categorical_accuracy: 0.8614\n",
            "Epoch 5/25\n",
            "1875/1875 [==============================] - 4s 2ms/step - loss: 0.3561 - sparse_categorical_accuracy: 0.8692 - val_loss: 0.4521 - val_sparse_categorical_accuracy: 0.8415\n",
            "Epoch 6/25\n",
            "1875/1875 [==============================] - 4s 2ms/step - loss: 0.3527 - sparse_categorical_accuracy: 0.8712 - val_loss: 0.4536 - val_sparse_categorical_accuracy: 0.8500\n",
            "Epoch 7/25\n",
            "1875/1875 [==============================] - 5s 3ms/step - loss: 0.3488 - sparse_categorical_accuracy: 0.8742 - val_loss: 0.4522 - val_sparse_categorical_accuracy: 0.8554\n",
            "Epoch 8/25\n",
            "1875/1875 [==============================] - 4s 2ms/step - loss: 0.3483 - sparse_categorical_accuracy: 0.8741 - val_loss: 0.4158 - val_sparse_categorical_accuracy: 0.8599\n",
            "Epoch 9/25\n",
            "1875/1875 [==============================] - 4s 2ms/step - loss: 0.3441 - sparse_categorical_accuracy: 0.8756 - val_loss: 0.4234 - val_sparse_categorical_accuracy: 0.8560\n",
            "Epoch 10/25\n",
            "1875/1875 [==============================] - 4s 2ms/step - loss: 0.3437 - sparse_categorical_accuracy: 0.8765 - val_loss: 0.4432 - val_sparse_categorical_accuracy: 0.8639\n",
            "Epoch 11/25\n",
            "1875/1875 [==============================] - 4s 2ms/step - loss: 0.3410 - sparse_categorical_accuracy: 0.8777 - val_loss: 0.4764 - val_sparse_categorical_accuracy: 0.8463\n",
            "Epoch 12/25\n",
            "1875/1875 [==============================] - 4s 2ms/step - loss: 0.3415 - sparse_categorical_accuracy: 0.8767 - val_loss: 0.4559 - val_sparse_categorical_accuracy: 0.8623\n",
            "Epoch 13/25\n",
            "1875/1875 [==============================] - 3s 2ms/step - loss: 0.3401 - sparse_categorical_accuracy: 0.8787 - val_loss: 0.4595 - val_sparse_categorical_accuracy: 0.8465\n",
            "Epoch 14/25\n",
            "1875/1875 [==============================] - 3s 2ms/step - loss: 0.3354 - sparse_categorical_accuracy: 0.8794 - val_loss: 0.4305 - val_sparse_categorical_accuracy: 0.8589\n",
            "Epoch 15/25\n",
            "1875/1875 [==============================] - 4s 2ms/step - loss: 0.3318 - sparse_categorical_accuracy: 0.8805 - val_loss: 0.4446 - val_sparse_categorical_accuracy: 0.8589\n",
            "Epoch 16/25\n",
            "1875/1875 [==============================] - 3s 2ms/step - loss: 0.3345 - sparse_categorical_accuracy: 0.8809 - val_loss: 0.4510 - val_sparse_categorical_accuracy: 0.8599\n",
            "Epoch 17/25\n",
            "1875/1875 [==============================] - 3s 2ms/step - loss: 0.3295 - sparse_categorical_accuracy: 0.8821 - val_loss: 0.4349 - val_sparse_categorical_accuracy: 0.8637\n",
            "Epoch 18/25\n",
            "1875/1875 [==============================] - 3s 2ms/step - loss: 0.3274 - sparse_categorical_accuracy: 0.8816 - val_loss: 0.4646 - val_sparse_categorical_accuracy: 0.8523\n",
            "Epoch 19/25\n",
            "1875/1875 [==============================] - 3s 2ms/step - loss: 0.3212 - sparse_categorical_accuracy: 0.8846 - val_loss: 0.5067 - val_sparse_categorical_accuracy: 0.8540\n",
            "Epoch 20/25\n",
            "1875/1875 [==============================] - 3s 2ms/step - loss: 0.3277 - sparse_categorical_accuracy: 0.8817 - val_loss: 0.4536 - val_sparse_categorical_accuracy: 0.8666\n",
            "Epoch 21/25\n",
            "1875/1875 [==============================] - 3s 2ms/step - loss: 0.3179 - sparse_categorical_accuracy: 0.8851 - val_loss: 0.4431 - val_sparse_categorical_accuracy: 0.8691\n",
            "Epoch 22/25\n",
            "1875/1875 [==============================] - 3s 2ms/step - loss: 0.3150 - sparse_categorical_accuracy: 0.8860 - val_loss: 0.4411 - val_sparse_categorical_accuracy: 0.8635\n",
            "Epoch 23/25\n",
            "1875/1875 [==============================] - 3s 2ms/step - loss: 0.3276 - sparse_categorical_accuracy: 0.8831 - val_loss: 0.4388 - val_sparse_categorical_accuracy: 0.8525\n",
            "Epoch 24/25\n",
            "1875/1875 [==============================] - 3s 2ms/step - loss: 0.3128 - sparse_categorical_accuracy: 0.8869 - val_loss: 0.4419 - val_sparse_categorical_accuracy: 0.8619\n",
            "Epoch 25/25\n",
            "1875/1875 [==============================] - 3s 2ms/step - loss: 0.3235 - sparse_categorical_accuracy: 0.8858 - val_loss: 0.4547 - val_sparse_categorical_accuracy: 0.8525\n"
          ]
        }
      ]
    },
    {
      "cell_type": "code",
      "source": [
        "print(model.evaluate(test_image, test_label))"
      ],
      "metadata": {
        "colab": {
          "base_uri": "https://localhost:8080/"
        },
        "id": "QCXzrrggx5FH",
        "outputId": "ba6abccc-9154-4be1-9fdc-877a7f6e388c"
      },
      "execution_count": 11,
      "outputs": [
        {
          "output_type": "stream",
          "name": "stdout",
          "text": [
            "313/313 [==============================] - 0s 1ms/step - loss: 0.4547 - sparse_categorical_accuracy: 0.8525\n",
            "[0.45465776324272156, 0.8525000214576721]\n"
          ]
        }
      ]
    },
    {
      "cell_type": "code",
      "source": [
        "## use tf.data\n",
        "ds = tf.data.Dataset.from_tensor_slices((train_image, train_label))"
      ],
      "metadata": {
        "id": "3obplnolyNV0"
      },
      "execution_count": 12,
      "outputs": []
    },
    {
      "cell_type": "code",
      "source": [
        "history2 = model.fit(ds.batch(32).prefetch(tf.data.AUTOTUNE),\n",
        "                      epochs=20,\n",
        "                      validation_data=(test_image, test_label))"
      ],
      "metadata": {
        "colab": {
          "base_uri": "https://localhost:8080/"
        },
        "id": "ek65FTn40saK",
        "outputId": "eaaeafed-c6c3-4b24-b6cc-64d900e2ebe5"
      },
      "execution_count": 17,
      "outputs": [
        {
          "output_type": "stream",
          "name": "stdout",
          "text": [
            "Epoch 1/20\n",
            "1875/1875 [==============================] - 6s 3ms/step - loss: 0.3007 - sparse_categorical_accuracy: 0.8936 - val_loss: 0.6583 - val_sparse_categorical_accuracy: 0.8597\n",
            "Epoch 2/20\n",
            "1875/1875 [==============================] - 5s 3ms/step - loss: 0.3134 - sparse_categorical_accuracy: 0.8913 - val_loss: 0.6888 - val_sparse_categorical_accuracy: 0.8470\n",
            "Epoch 3/20\n",
            "1875/1875 [==============================] - 5s 3ms/step - loss: 0.2817 - sparse_categorical_accuracy: 0.8981 - val_loss: 0.6984 - val_sparse_categorical_accuracy: 0.8468\n",
            "Epoch 4/20\n",
            "1875/1875 [==============================] - 5s 3ms/step - loss: 0.2869 - sparse_categorical_accuracy: 0.8970 - val_loss: 0.7369 - val_sparse_categorical_accuracy: 0.8573\n",
            "Epoch 5/20\n",
            "1875/1875 [==============================] - 5s 3ms/step - loss: 0.2872 - sparse_categorical_accuracy: 0.8985 - val_loss: 0.5701 - val_sparse_categorical_accuracy: 0.8481\n",
            "Epoch 6/20\n",
            "1875/1875 [==============================] - 6s 3ms/step - loss: 0.2967 - sparse_categorical_accuracy: 0.8954 - val_loss: 0.7338 - val_sparse_categorical_accuracy: 0.8511\n",
            "Epoch 7/20\n",
            "1875/1875 [==============================] - 5s 3ms/step - loss: 0.2984 - sparse_categorical_accuracy: 0.8948 - val_loss: 0.7081 - val_sparse_categorical_accuracy: 0.8535\n",
            "Epoch 8/20\n",
            "1875/1875 [==============================] - 6s 3ms/step - loss: 0.2892 - sparse_categorical_accuracy: 0.8972 - val_loss: 0.6502 - val_sparse_categorical_accuracy: 0.8577\n",
            "Epoch 9/20\n",
            "1875/1875 [==============================] - 5s 3ms/step - loss: 0.2891 - sparse_categorical_accuracy: 0.8973 - val_loss: 0.6359 - val_sparse_categorical_accuracy: 0.8610\n",
            "Epoch 10/20\n",
            "1875/1875 [==============================] - 5s 3ms/step - loss: 0.2842 - sparse_categorical_accuracy: 0.8976 - val_loss: 0.6536 - val_sparse_categorical_accuracy: 0.8547\n",
            "Epoch 11/20\n",
            "1875/1875 [==============================] - 5s 3ms/step - loss: 0.2820 - sparse_categorical_accuracy: 0.8987 - val_loss: 0.6518 - val_sparse_categorical_accuracy: 0.8593\n",
            "Epoch 12/20\n",
            "1875/1875 [==============================] - 5s 3ms/step - loss: 0.2921 - sparse_categorical_accuracy: 0.8968 - val_loss: 0.7479 - val_sparse_categorical_accuracy: 0.8585\n",
            "Epoch 13/20\n",
            "1875/1875 [==============================] - 6s 3ms/step - loss: 0.3020 - sparse_categorical_accuracy: 0.8960 - val_loss: 0.6663 - val_sparse_categorical_accuracy: 0.8484\n",
            "Epoch 14/20\n",
            "1875/1875 [==============================] - 4s 2ms/step - loss: 0.2872 - sparse_categorical_accuracy: 0.8985 - val_loss: 0.6053 - val_sparse_categorical_accuracy: 0.8602\n",
            "Epoch 15/20\n",
            "1875/1875 [==============================] - 4s 2ms/step - loss: 0.2796 - sparse_categorical_accuracy: 0.8993 - val_loss: 0.6624 - val_sparse_categorical_accuracy: 0.8629\n",
            "Epoch 16/20\n",
            "1875/1875 [==============================] - 4s 2ms/step - loss: 0.3020 - sparse_categorical_accuracy: 0.8941 - val_loss: 0.6529 - val_sparse_categorical_accuracy: 0.8584\n",
            "Epoch 17/20\n",
            "1875/1875 [==============================] - 5s 3ms/step - loss: 0.2761 - sparse_categorical_accuracy: 0.9010 - val_loss: 0.6767 - val_sparse_categorical_accuracy: 0.8546\n",
            "Epoch 18/20\n",
            "1875/1875 [==============================] - 4s 2ms/step - loss: 0.2942 - sparse_categorical_accuracy: 0.8970 - val_loss: 0.6201 - val_sparse_categorical_accuracy: 0.8618\n",
            "Epoch 19/20\n",
            "1875/1875 [==============================] - 4s 2ms/step - loss: 0.2807 - sparse_categorical_accuracy: 0.9001 - val_loss: 0.7523 - val_sparse_categorical_accuracy: 0.8565\n",
            "Epoch 20/20\n",
            "1875/1875 [==============================] - 4s 2ms/step - loss: 0.3099 - sparse_categorical_accuracy: 0.8932 - val_loss: 0.7070 - val_sparse_categorical_accuracy: 0.8543\n"
          ]
        }
      ]
    },
    {
      "cell_type": "code",
      "source": [
        ""
      ],
      "metadata": {
        "id": "WF7EHioj1VFg"
      },
      "execution_count": null,
      "outputs": []
    }
  ]
}