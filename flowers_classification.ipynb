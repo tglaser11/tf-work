{
  "nbformat": 4,
  "nbformat_minor": 0,
  "metadata": {
    "colab": {
      "name": "flowers_classification.ipynb",
      "provenance": [],
      "authorship_tag": "ABX9TyMk6/41jmNbgt57QVE51A6L"
    },
    "kernelspec": {
      "name": "python3",
      "display_name": "Python 3"
    },
    "language_info": {
      "name": "python"
    },
    "accelerator": "GPU",
    "gpuClass": "standard"
  },
  "cells": [
    {
      "cell_type": "code",
      "execution_count": 1,
      "metadata": {
        "id": "mB3ORISPoupx"
      },
      "outputs": [],
      "source": [
        "import matplotlib.pyplot as plt\n",
        "import tensorflow as tf\n",
        "from tensorflow.keras.datasets.fashion_mnist import load_data\n",
        "from tensorflow.keras.layers import Dense, Flatten\n",
        "from tensorflow.keras.models import Sequential\n",
        "\n",
        "import pandas as pd"
      ]
    },
    {
      "cell_type": "code",
      "source": [
        "flowers = tf.keras.utils.get_file(\n",
        "    'flower_photos',\n",
        "    'https://storage.googleapis.com/download.tensorflow.org/example_images/flower_photos.tgz',\n",
        "    cache_dir='.',\n",
        "    untar=True)"
      ],
      "metadata": {
        "colab": {
          "base_uri": "https://localhost:8080/"
        },
        "id": "-k21dKv2oxZG",
        "outputId": "5c731b47-3423-4952-9253-4cfe8af977bd"
      },
      "execution_count": 2,
      "outputs": [
        {
          "output_type": "stream",
          "name": "stdout",
          "text": [
            "Downloading data from https://storage.googleapis.com/download.tensorflow.org/example_images/flower_photos.tgz\n",
            "228818944/228813984 [==============================] - 1s 0us/step\n",
            "228827136/228813984 [==============================] - 1s 0us/step\n"
          ]
        }
      ]
    },
    {
      "cell_type": "code",
      "source": [
        "flowers"
      ],
      "metadata": {
        "colab": {
          "base_uri": "https://localhost:8080/",
          "height": 36
        },
        "id": "CRCif7xmo0GD",
        "outputId": "4f878bc8-7c35-4a00-fb4b-2771d9b7b346"
      },
      "execution_count": 24,
      "outputs": [
        {
          "output_type": "execute_result",
          "data": {
            "text/plain": [
              "'./datasets/flower_photos'"
            ],
            "application/vnd.google.colaboratory.intrinsic+json": {
              "type": "string"
            }
          },
          "metadata": {},
          "execution_count": 24
        }
      ]
    },
    {
      "cell_type": "code",
      "source": [
        "from tensorflow.keras.preprocessing.image import ImageDataGenerator\n",
        "train_datagen = ImageDataGenerator(rescale=1./255, validation_split=0.2)\n",
        "train_dir = '/content/datasets/flower_photos'\n",
        "#NOTE: train_dir subdirectory is the y label\n",
        "train_data = train_datagen.flow_from_directory(train_dir,\n",
        "              batch_size=32, # number of images to process at a time \n",
        "              target_size=(224, 224), # convert all images to be 224 x 224\n",
        "              class_mode=\"categorical\", # type of problem we're working on\n",
        "              subset='training',\n",
        "              seed=42)\n",
        "\n",
        "test_data = train_datagen.flow_from_directory(train_dir,\n",
        "              batch_size=32, # number of images to process at a time \n",
        "              target_size=(224, 224), # convert all images to be 224 x 224\n",
        "              class_mode=\"categorical\", # type of problem we're working on\n",
        "              subset='validation',\n",
        "              seed=42)"
      ],
      "metadata": {
        "colab": {
          "base_uri": "https://localhost:8080/"
        },
        "id": "d5QRg1elo4kK",
        "outputId": "5f817278-9d8b-4b04-8620-9531ac1657c9"
      },
      "execution_count": 25,
      "outputs": [
        {
          "output_type": "stream",
          "name": "stdout",
          "text": [
            "Found 2939 images belonging to 5 classes.\n",
            "Found 731 images belonging to 5 classes.\n"
          ]
        }
      ]
    },
    {
      "cell_type": "code",
      "source": [
        "model_1 = tf.keras.models.Sequential([\n",
        "  tf.keras.layers.Conv2D(filters=10, \n",
        "          kernel_size=3, # can also be (3, 3)\n",
        "          activation=\"relu\", \n",
        "          input_shape=(224, 224, 3)), # first layer specifies input shape (height, width, colour channels)\n",
        "  tf.keras.layers.Conv2D(10, 3, activation=\"relu\"),\n",
        "  tf.keras.layers.MaxPool2D(pool_size=2, # pool_size can also be (2, 2)\n",
        "                       padding=\"valid\"), # padding can also be 'same'\n",
        "  tf.keras.layers.Conv2D(10, 3, activation=\"relu\"),\n",
        "  tf.keras.layers.Conv2D(10, 3, activation=\"relu\"), # activation='relu'\n",
        "  tf.keras.layers.MaxPool2D(2),\n",
        "  tf.keras.layers.Flatten(),\n",
        "  tf.keras.layers.Dense(5, activation=\"softmax\") # binary activation output\n",
        "])"
      ],
      "metadata": {
        "id": "_PAeyD0KsgCz"
      },
      "execution_count": 26,
      "outputs": []
    },
    {
      "cell_type": "code",
      "source": [
        "model_1.compile(loss=\"categorical_crossentropy\",\n",
        "              optimizer=tf.keras.optimizers.Adam(lr=0.001),\n",
        "              metrics=[\"accuracy\"])"
      ],
      "metadata": {
        "colab": {
          "base_uri": "https://localhost:8080/"
        },
        "id": "kP-WmqhLsnoL",
        "outputId": "7f69e515-c330-498f-c9f7-53ea8035de3a"
      },
      "execution_count": 27,
      "outputs": [
        {
          "output_type": "stream",
          "name": "stderr",
          "text": [
            "/usr/local/lib/python3.7/dist-packages/keras/optimizer_v2/adam.py:105: UserWarning: The `lr` argument is deprecated, use `learning_rate` instead.\n",
            "  super(Adam, self).__init__(name, **kwargs)\n"
          ]
        }
      ]
    },
    {
      "cell_type": "code",
      "source": [
        "history = model_1.fit(train_data, validation_data=test_data, epochs=5)"
      ],
      "metadata": {
        "colab": {
          "base_uri": "https://localhost:8080/"
        },
        "id": "K_Qav3Pht7ym",
        "outputId": "e5a5bec8-851c-4d01-c316-8ef891e3c40c"
      },
      "execution_count": 29,
      "outputs": [
        {
          "output_type": "stream",
          "name": "stdout",
          "text": [
            "Epoch 1/5\n",
            "92/92 [==============================] - 13s 143ms/step - loss: 1.1597 - accuracy: 0.5148 - val_loss: 1.2096 - val_accuracy: 0.4911\n",
            "Epoch 2/5\n",
            "92/92 [==============================] - 13s 139ms/step - loss: 0.9913 - accuracy: 0.6240 - val_loss: 1.2507 - val_accuracy: 0.5445\n",
            "Epoch 3/5\n",
            "92/92 [==============================] - 13s 138ms/step - loss: 0.7849 - accuracy: 0.7064 - val_loss: 1.2078 - val_accuracy: 0.5239\n",
            "Epoch 4/5\n",
            "92/92 [==============================] - 13s 138ms/step - loss: 0.5517 - accuracy: 0.8067 - val_loss: 1.3326 - val_accuracy: 0.5226\n",
            "Epoch 5/5\n",
            "92/92 [==============================] - 13s 144ms/step - loss: 0.3452 - accuracy: 0.8928 - val_loss: 1.7224 - val_accuracy: 0.5185\n"
          ]
        }
      ]
    },
    {
      "cell_type": "code",
      "source": [
        "pd.DataFrame(history.history).plot(figsize=(8, 5))\n",
        "plt.grid(True)\n",
        "plt.gca().set_ylim(0, 2) # set the vertical range to [0-1]\n",
        "plt.show()"
      ],
      "metadata": {
        "colab": {
          "base_uri": "https://localhost:8080/",
          "height": 324
        },
        "id": "sCdRzDVDuJ9f",
        "outputId": "3019a03a-a1c3-4f61-894d-82f0e1067f55"
      },
      "execution_count": 31,
      "outputs": [
        {
          "output_type": "display_data",
          "data": {
            "text/plain": [
              "<Figure size 576x360 with 1 Axes>"
            ],
            "image/png": "[encoded data removed]"
          },
          "metadata": {
            "needs_background": "light"
          }
        }
      ]
    },
    {
      "cell_type": "code",
      "source": [
        ""
      ],
      "metadata": {
        "id": "yIMPSOrWwW0C"
      },
      "execution_count": null,
      "outputs": []
    },
    {
      "cell_type": "markdown",
      "source": [
        "New model with augmented data"
      ],
      "metadata": {
        "id": "51oYdRdyyrY4"
      }
    },
    {
      "cell_type": "code",
      "source": [
        "train_datagen_aug = ImageDataGenerator(rescale=1./255, validation_split=0.2,\n",
        "                    rotation_range=20, # rotate the image slightly between 0 and 20 degrees (note: this is an int not a float)\n",
        "                    shear_range=0.2, # shear the image\n",
        "                    zoom_range=0.2, # zoom into the image\n",
        "                    width_shift_range=0.2, # shift the image width ways\n",
        "                    height_shift_range=0.2, # shift the image height ways\n",
        "                    horizontal_flip=True)\n",
        "train_dir = '/content/datasets/flower_photos'\n",
        "#NOTE: train_dir subdirectory is the y label\n",
        "train_data = train_datagen_aug.flow_from_directory(train_dir,\n",
        "              batch_size=32, # number of images to process at a time \n",
        "              target_size=(224, 224), # convert all images to be 224 x 224\n",
        "              class_mode=\"categorical\", # type of problem we're working on\n",
        "              subset='training',\n",
        "              seed=42)\n",
        "\n",
        "test_data = train_datagen_aug.flow_from_directory(train_dir,\n",
        "              batch_size=32, # number of images to process at a time \n",
        "              target_size=(224, 224), # convert all images to be 224 x 224\n",
        "              class_mode=\"categorical\", # type of problem we're working on\n",
        "              subset='validation',\n",
        "              seed=42)"
      ],
      "metadata": {
        "colab": {
          "base_uri": "https://localhost:8080/"
        },
        "id": "WAfDMNiJytsC",
        "outputId": "4795e1b1-4a72-4287-8a50-f11dc3684f16"
      },
      "execution_count": 65,
      "outputs": [
        {
          "output_type": "stream",
          "name": "stdout",
          "text": [
            "Found 2939 images belonging to 5 classes.\n",
            "Found 731 images belonging to 5 classes.\n"
          ]
        }
      ]
    },
    {
      "cell_type": "code",
      "source": [
        "model_2 = tf.keras.models.Sequential([\n",
        "  tf.keras.layers.Conv2D(filters=10, \n",
        "          kernel_size=3, # can also be (3, 3)\n",
        "          activation=\"relu\", \n",
        "          input_shape=(224, 224, 3)), # first layer specifies input shape (height, width, colour channels)\n",
        "  tf.keras.layers.Conv2D(10, 3, activation=\"relu\"),\n",
        "  tf.keras.layers.MaxPool2D(pool_size=2, # pool_size can also be (2, 2)\n",
        "                       padding=\"valid\"), # padding can also be 'same'\n",
        "  tf.keras.layers.Dropout(.2),\n",
        "  tf.keras.layers.Conv2D(10, 3, activation=\"relu\"),\n",
        "  tf.keras.layers.Conv2D(10, 3, activation=\"relu\"), # activation='relu'\n",
        "  tf.keras.layers.MaxPool2D(2),\n",
        "  tf.keras.layers.Dropout(.2),\n",
        "  tf.keras.layers.Flatten(),\n",
        "  tf.keras.layers.Dense(5, activation=\"softmax\") # binary activation output\n",
        "])"
      ],
      "metadata": {
        "id": "3BPQAqoCzB_O"
      },
      "execution_count": 66,
      "outputs": []
    },
    {
      "cell_type": "code",
      "source": [
        "model_2.compile(loss=\"categorical_crossentropy\",\n",
        "              optimizer=tf.keras.optimizers.Adam(lr=0.001),\n",
        "              metrics=[\"accuracy\"])"
      ],
      "metadata": {
        "colab": {
          "base_uri": "https://localhost:8080/"
        },
        "id": "d19glvBDzWrg",
        "outputId": "0c11f2ea-87e7-466e-fabd-7b2c93701c5c"
      },
      "execution_count": 67,
      "outputs": [
        {
          "output_type": "stream",
          "name": "stderr",
          "text": [
            "/usr/local/lib/python3.7/dist-packages/keras/optimizer_v2/adam.py:105: UserWarning: The `lr` argument is deprecated, use `learning_rate` instead.\n",
            "  super(Adam, self).__init__(name, **kwargs)\n"
          ]
        }
      ]
    },
    {
      "cell_type": "code",
      "source": [
        "history_2 = model_2.fit(train_data, validation_data=test_data, epochs=10)"
      ],
      "metadata": {
        "colab": {
          "base_uri": "https://localhost:8080/"
        },
        "id": "znbLjT4MzYcW",
        "outputId": "c5942f93-e8a2-4cc5-8b0e-b51128e1da6b"
      },
      "execution_count": 68,
      "outputs": [
        {
          "output_type": "stream",
          "name": "stdout",
          "text": [
            "Epoch 1/10\n",
            "92/92 [==============================] - 48s 513ms/step - loss: 1.5489 - accuracy: 0.3038 - val_loss: 1.4563 - val_accuracy: 0.3420\n",
            "Epoch 2/10\n",
            "92/92 [==============================] - 45s 491ms/step - loss: 1.3953 - accuracy: 0.3790 - val_loss: 1.3101 - val_accuracy: 0.4843\n",
            "Epoch 3/10\n",
            "92/92 [==============================] - 46s 498ms/step - loss: 1.2119 - accuracy: 0.4876 - val_loss: 1.2292 - val_accuracy: 0.4925\n",
            "Epoch 4/10\n",
            "92/92 [==============================] - 45s 488ms/step - loss: 1.1501 - accuracy: 0.5179 - val_loss: 1.2095 - val_accuracy: 0.5185\n",
            "Epoch 5/10\n",
            "92/92 [==============================] - 46s 500ms/step - loss: 1.0945 - accuracy: 0.5675 - val_loss: 1.1376 - val_accuracy: 0.5540\n",
            "Epoch 6/10\n",
            "92/92 [==============================] - 46s 501ms/step - loss: 1.0442 - accuracy: 0.5849 - val_loss: 1.1171 - val_accuracy: 0.5554\n",
            "Epoch 7/10\n",
            "92/92 [==============================] - 45s 489ms/step - loss: 1.0285 - accuracy: 0.5954 - val_loss: 1.0843 - val_accuracy: 0.5992\n",
            "Epoch 8/10\n",
            "92/92 [==============================] - 46s 498ms/step - loss: 0.9807 - accuracy: 0.6196 - val_loss: 1.0775 - val_accuracy: 0.5705\n",
            "Epoch 9/10\n",
            "92/92 [==============================] - 46s 498ms/step - loss: 0.9473 - accuracy: 0.6359 - val_loss: 1.1345 - val_accuracy: 0.5773\n",
            "Epoch 10/10\n",
            "92/92 [==============================] - 45s 490ms/step - loss: 0.9443 - accuracy: 0.6373 - val_loss: 1.1287 - val_accuracy: 0.5677\n"
          ]
        }
      ]
    },
    {
      "cell_type": "code",
      "source": [
        "pd.DataFrame(history_2.history).plot(figsize=(8, 5))\n",
        "plt.grid(True)\n",
        "plt.gca().set_ylim(0, 2) # set the vertical range to [0-1]\n",
        "plt.show()"
      ],
      "metadata": {
        "colab": {
          "base_uri": "https://localhost:8080/",
          "height": 324
        },
        "id": "ZfvH7K6MzeuJ",
        "outputId": "97f62ca5-1ef5-40e3-f722-14f46db7ade2"
      },
      "execution_count": 69,
      "outputs": [
        {
          "output_type": "display_data",
          "data": {
            "text/plain": [
              "<Figure size 576x360 with 1 Axes>"
            ],
            "image/png": "[encoded data removed]"
          },
          "metadata": {
            "needs_background": "light"
          }
        }
      ]
    },
    {
      "cell_type": "markdown",
      "source": [
        "Transfer Learning"
      ],
      "metadata": {
        "id": "QWcOq6Nl0yiB"
      }
    },
    {
      "cell_type": "code",
      "source": [
        "# Download the pretrained model and save it as a Keras layer\n",
        "import tensorflow_hub as hub\n",
        "\n",
        "model_url = 'https://tfhub.dev/tensorflow/efficientnet/b0/classification/1'\n",
        "IMAGE_SHAPE = (224,224)\n",
        "\n",
        "feature_extractor_layer = hub.KerasLayer(model_url,\n",
        "         trainable=False, # freeze the underlying patterns\n",
        "         name='feature_extraction_layer',\n",
        "         input_shape=IMAGE_SHAPE+(3,)) # define the input image shape"
      ],
      "metadata": {
        "id": "rGU5FGubzken"
      },
      "execution_count": 39,
      "outputs": []
    },
    {
      "cell_type": "code",
      "source": [
        "model_3 = tf.keras.Sequential([\n",
        "   feature_extractor_layer, # use the feature extraction layer as base\n",
        "   tf.keras.layers.Dense(5, activation='softmax', name='output_layer') # create our own output layer      \n",
        "\t])"
      ],
      "metadata": {
        "id": "FgzjGztN1ExA"
      },
      "execution_count": 42,
      "outputs": []
    },
    {
      "cell_type": "code",
      "source": [
        "model_3.compile(loss=\"categorical_crossentropy\",\n",
        "              optimizer=tf.keras.optimizers.Adam(lr=0.001),\n",
        "              metrics=[\"accuracy\"])"
      ],
      "metadata": {
        "colab": {
          "base_uri": "https://localhost:8080/"
        },
        "id": "17NBUyHv2qvh",
        "outputId": "6083a184-aebf-4aed-e93d-34f4bf6fa523"
      },
      "execution_count": 43,
      "outputs": [
        {
          "output_type": "stream",
          "name": "stderr",
          "text": [
            "/usr/local/lib/python3.7/dist-packages/keras/optimizer_v2/adam.py:105: UserWarning: The `lr` argument is deprecated, use `learning_rate` instead.\n",
            "  super(Adam, self).__init__(name, **kwargs)\n"
          ]
        }
      ]
    },
    {
      "cell_type": "code",
      "source": [
        "history_3 = model_3.fit(train_data, validation_data=test_data, epochs=10)"
      ],
      "metadata": {
        "colab": {
          "base_uri": "https://localhost:8080/"
        },
        "id": "NULHrTQn2zy4",
        "outputId": "363dc3ca-bc12-4f8f-cb54-470d13492309"
      },
      "execution_count": 44,
      "outputs": [
        {
          "output_type": "stream",
          "name": "stdout",
          "text": [
            "Epoch 1/10\n",
            "92/92 [==============================] - 58s 542ms/step - loss: 1.5944 - accuracy: 0.3215 - val_loss: 1.5756 - val_accuracy: 0.3653\n",
            "Epoch 2/10\n",
            "92/92 [==============================] - 46s 505ms/step - loss: 1.5595 - accuracy: 0.4570 - val_loss: 1.5416 - val_accuracy: 0.4925\n",
            "Epoch 3/10\n",
            "92/92 [==============================] - 47s 510ms/step - loss: 1.5280 - accuracy: 0.4849 - val_loss: 1.5107 - val_accuracy: 0.5048\n",
            "Epoch 4/10\n",
            "92/92 [==============================] - 47s 510ms/step - loss: 1.4991 - accuracy: 0.5134 - val_loss: 1.4842 - val_accuracy: 0.5089\n",
            "Epoch 5/10\n",
            "92/92 [==============================] - 46s 499ms/step - loss: 1.4724 - accuracy: 0.5131 - val_loss: 1.4584 - val_accuracy: 0.5089\n",
            "Epoch 6/10\n",
            "92/92 [==============================] - 47s 511ms/step - loss: 1.4439 - accuracy: 0.5400 - val_loss: 1.4283 - val_accuracy: 0.5280\n",
            "Epoch 7/10\n",
            "92/92 [==============================] - 48s 518ms/step - loss: 1.4204 - accuracy: 0.5362 - val_loss: 1.4102 - val_accuracy: 0.5349\n",
            "Epoch 8/10\n",
            "92/92 [==============================] - 49s 530ms/step - loss: 1.3967 - accuracy: 0.5529 - val_loss: 1.3826 - val_accuracy: 0.5486\n",
            "Epoch 9/10\n",
            "92/92 [==============================] - 49s 530ms/step - loss: 1.3733 - accuracy: 0.5604 - val_loss: 1.3622 - val_accuracy: 0.5540\n",
            "Epoch 10/10\n",
            "92/92 [==============================] - 49s 533ms/step - loss: 1.3524 - accuracy: 0.5624 - val_loss: 1.3410 - val_accuracy: 0.5581\n"
          ]
        }
      ]
    },
    {
      "cell_type": "code",
      "source": [
        "pd.DataFrame(history_3.history).plot(figsize=(8, 5))\n",
        "plt.grid(True)\n",
        "plt.gca().set_ylim(0, 2) # set the vertical range to [0-1]\n",
        "plt.show()"
      ],
      "metadata": {
        "colab": {
          "base_uri": "https://localhost:8080/",
          "height": 324
        },
        "id": "kiOIFxgQ2_hy",
        "outputId": "d41ee848-557b-41f1-c37b-a68a1fead59d"
      },
      "execution_count": 46,
      "outputs": [
        {
          "output_type": "display_data",
          "data": {
            "text/plain": [
              "<Figure size 576x360 with 1 Axes>"
            ],
            "image/png": "[encoded data removed]"
          },
          "metadata": {
            "needs_background": "light"
          }
        }
      ]
    },
    {
      "cell_type": "code",
      "source": [
        ""
      ],
      "metadata": {
        "id": "3TLeTNf53Flk"
      },
      "execution_count": null,
      "outputs": []
    },
    {
      "cell_type": "markdown",
      "source": [
        "use transfer learning but fine tune last 3 layers"
      ],
      "metadata": {
        "id": "6FGjBvm84Oxh"
      }
    },
    {
      "cell_type": "code",
      "source": [
        "base_model = tf.keras.applications.efficientnet.EfficientNetB0(\n",
        "    include_top=False,\n",
        "    weights='imagenet',\n",
        "    input_tensor=None,\n",
        "    input_shape=IMAGE_SHAPE+(3,),\n",
        "    pooling=None\n",
        ")\n",
        "base_model.trainable = True"
      ],
      "metadata": {
        "colab": {
          "base_uri": "https://localhost:8080/"
        },
        "id": "ffuo06_S_37Y",
        "outputId": "4735ab19-f1a2-4157-86e1-4cccd93cba08"
      },
      "execution_count": 56,
      "outputs": [
        {
          "output_type": "stream",
          "name": "stdout",
          "text": [
            "Downloading data from https://storage.googleapis.com/keras-applications/efficientnetb0_notop.h5\n",
            "16711680/16705208 [==============================] - 0s 0us/step\n",
            "16719872/16705208 [==============================] - 0s 0us/step\n"
          ]
        }
      ]
    },
    {
      "cell_type": "code",
      "source": [
        ""
      ],
      "metadata": {
        "id": "UZkoG9D34VG1"
      },
      "execution_count": 56,
      "outputs": []
    },
    {
      "cell_type": "code",
      "source": [
        "# Refreeze every layer except for the last 3\n",
        "for layer in base_model.layers[:-3]:\n",
        "  layer.trainable = False"
      ],
      "metadata": {
        "id": "1l8vUnbi6Pfi"
      },
      "execution_count": 57,
      "outputs": []
    },
    {
      "cell_type": "code",
      "source": [
        "model_4 = tf.keras.Sequential([\n",
        "   base_model, # use the feature extraction layer as base\n",
        "   tf.keras.layers.GlobalAveragePooling2D(name=\"global_average_pooling_layer\"),\n",
        "   tf.keras.layers.Dense(5, activation='softmax', name='output_layer') # create our own output layer      \n",
        "\t])"
      ],
      "metadata": {
        "id": "nnfOxVQ14oiM"
      },
      "execution_count": 61,
      "outputs": []
    },
    {
      "cell_type": "code",
      "source": [
        "model_4.compile(loss=\"categorical_crossentropy\",\n",
        "              optimizer=tf.keras.optimizers.Adam(lr=0.001),\n",
        "              metrics=[\"accuracy\"])"
      ],
      "metadata": {
        "colab": {
          "base_uri": "https://localhost:8080/"
        },
        "id": "BmTTd7eK4yRT",
        "outputId": "38de6acb-d2de-4a1e-85c1-66794946a8c3"
      },
      "execution_count": 62,
      "outputs": [
        {
          "output_type": "stream",
          "name": "stderr",
          "text": [
            "/usr/local/lib/python3.7/dist-packages/keras/optimizer_v2/adam.py:105: UserWarning: The `lr` argument is deprecated, use `learning_rate` instead.\n",
            "  super(Adam, self).__init__(name, **kwargs)\n"
          ]
        }
      ]
    },
    {
      "cell_type": "code",
      "source": [
        "history_4 = model_4.fit(train_data, validation_data=test_data, epochs=10)"
      ],
      "metadata": {
        "colab": {
          "base_uri": "https://localhost:8080/"
        },
        "id": "ES1J4Uvh446a",
        "outputId": "7e408abd-ea74-49b0-bac8-b1884eb61df5"
      },
      "execution_count": 63,
      "outputs": [
        {
          "output_type": "stream",
          "name": "stdout",
          "text": [
            "Epoch 1/10\n",
            "92/92 [==============================] - 54s 528ms/step - loss: 1.6404 - accuracy: 0.2286 - val_loss: 1.6054 - val_accuracy: 0.2175\n",
            "Epoch 2/10\n",
            "92/92 [==============================] - 48s 528ms/step - loss: 1.6252 - accuracy: 0.2259 - val_loss: 1.6022 - val_accuracy: 0.2462\n",
            "Epoch 3/10\n",
            "92/92 [==============================] - 46s 502ms/step - loss: 1.6146 - accuracy: 0.2324 - val_loss: 1.6034 - val_accuracy: 0.2627\n",
            "Epoch 4/10\n",
            "92/92 [==============================] - 48s 522ms/step - loss: 1.6116 - accuracy: 0.2351 - val_loss: 1.6234 - val_accuracy: 0.2189\n",
            "Epoch 5/10\n",
            "92/92 [==============================] - 47s 516ms/step - loss: 1.6158 - accuracy: 0.2351 - val_loss: 1.6072 - val_accuracy: 0.2449\n",
            "Epoch 6/10\n",
            "92/92 [==============================] - 47s 512ms/step - loss: 1.6142 - accuracy: 0.2314 - val_loss: 1.6164 - val_accuracy: 0.2449\n",
            "Epoch 7/10\n",
            "92/92 [==============================] - 47s 516ms/step - loss: 1.6073 - accuracy: 0.2429 - val_loss: 1.6062 - val_accuracy: 0.2449\n",
            "Epoch 8/10\n",
            "92/92 [==============================] - 47s 516ms/step - loss: 1.6069 - accuracy: 0.2392 - val_loss: 1.6001 - val_accuracy: 0.2449\n",
            "Epoch 9/10\n",
            "92/92 [==============================] - 47s 508ms/step - loss: 1.6120 - accuracy: 0.2304 - val_loss: 1.5986 - val_accuracy: 0.2449\n",
            "Epoch 10/10\n",
            "92/92 [==============================] - 50s 541ms/step - loss: 1.6082 - accuracy: 0.2385 - val_loss: 1.6157 - val_accuracy: 0.2175\n"
          ]
        }
      ]
    },
    {
      "cell_type": "code",
      "source": [
        "history_4 = model_4.fit(train_data, validation_data=test_data, epochs=10)"
      ],
      "metadata": {
        "colab": {
          "base_uri": "https://localhost:8080/",
          "height": 472
        },
        "id": "1LYvSOi-5EKn",
        "outputId": "244b8dcb-6fa6-4895-fdad-0bca5772971d"
      },
      "execution_count": 64,
      "outputs": [
        {
          "output_type": "stream",
          "name": "stdout",
          "text": [
            "Epoch 1/10\n",
            "92/92 [==============================] - 48s 520ms/step - loss: 1.6106 - accuracy: 0.2368 - val_loss: 1.6080 - val_accuracy: 0.2449\n",
            "Epoch 2/10\n",
            "35/92 [==========>...................] - ETA: 24s - loss: 1.6063 - accuracy: 0.2357"
          ]
        },
        {
          "output_type": "error",
          "ename": "KeyboardInterrupt",
          "evalue": "ignored",
          "traceback": [
            "\u001b[0;31m---------------------------------------------------------------------------\u001b[0m",
            "\u001b[0;31mKeyboardInterrupt\u001b[0m                         Traceback (most recent call last)",
            "\u001b[0;32m<ipython-input-64-6b9223df67e6>\u001b[0m in \u001b[0;36m<module>\u001b[0;34m()\u001b[0m\n\u001b[0;32m----> 1\u001b[0;31m \u001b[0mhistory_4\u001b[0m \u001b[0;34m=\u001b[0m \u001b[0mmodel_4\u001b[0m\u001b[0;34m.\u001b[0m\u001b[0mfit\u001b[0m\u001b[0;34m(\u001b[0m\u001b[0mtrain_data\u001b[0m\u001b[0;34m,\u001b[0m \u001b[0mvalidation_data\u001b[0m\u001b[0;34m=\u001b[0m\u001b[0mtest_data\u001b[0m\u001b[0;34m,\u001b[0m \u001b[0mepochs\u001b[0m\u001b[0;34m=\u001b[0m\u001b[0;36m10\u001b[0m\u001b[0;34m)\u001b[0m\u001b[0;34m\u001b[0m\u001b[0;34m\u001b[0m\u001b[0m\n\u001b[0m",
            "\u001b[0;32m/usr/local/lib/python3.7/dist-packages/keras/utils/traceback_utils.py\u001b[0m in \u001b[0;36merror_handler\u001b[0;34m(*args, **kwargs)\u001b[0m\n\u001b[1;32m     62\u001b[0m     \u001b[0mfiltered_tb\u001b[0m \u001b[0;34m=\u001b[0m \u001b[0;32mNone\u001b[0m\u001b[0;34m\u001b[0m\u001b[0;34m\u001b[0m\u001b[0m\n\u001b[1;32m     63\u001b[0m     \u001b[0;32mtry\u001b[0m\u001b[0;34m:\u001b[0m\u001b[0;34m\u001b[0m\u001b[0;34m\u001b[0m\u001b[0m\n\u001b[0;32m---> 64\u001b[0;31m       \u001b[0;32mreturn\u001b[0m \u001b[0mfn\u001b[0m\u001b[0;34m(\u001b[0m\u001b[0;34m*\u001b[0m\u001b[0margs\u001b[0m\u001b[0;34m,\u001b[0m \u001b[0;34m**\u001b[0m\u001b[0mkwargs\u001b[0m\u001b[0;34m)\u001b[0m\u001b[0;34m\u001b[0m\u001b[0;34m\u001b[0m\u001b[0m\n\u001b[0m\u001b[1;32m     65\u001b[0m     \u001b[0;32mexcept\u001b[0m \u001b[0mException\u001b[0m \u001b[0;32mas\u001b[0m \u001b[0me\u001b[0m\u001b[0;34m:\u001b[0m  \u001b[0;31m# pylint: disable=broad-except\u001b[0m\u001b[0;34m\u001b[0m\u001b[0;34m\u001b[0m\u001b[0m\n\u001b[1;32m     66\u001b[0m       \u001b[0mfiltered_tb\u001b[0m \u001b[0;34m=\u001b[0m \u001b[0m_process_traceback_frames\u001b[0m\u001b[0;34m(\u001b[0m\u001b[0me\u001b[0m\u001b[0;34m.\u001b[0m\u001b[0m__traceback__\u001b[0m\u001b[0;34m)\u001b[0m\u001b[0;34m\u001b[0m\u001b[0;34m\u001b[0m\u001b[0m\n",
            "\u001b[0;32m/usr/local/lib/python3.7/dist-packages/keras/engine/training.py\u001b[0m in \u001b[0;36mfit\u001b[0;34m(self, x, y, batch_size, epochs, verbose, callbacks, validation_split, validation_data, shuffle, class_weight, sample_weight, initial_epoch, steps_per_epoch, validation_steps, validation_batch_size, validation_freq, max_queue_size, workers, use_multiprocessing)\u001b[0m\n\u001b[1;32m   1382\u001b[0m                 _r=1):\n\u001b[1;32m   1383\u001b[0m               \u001b[0mcallbacks\u001b[0m\u001b[0;34m.\u001b[0m\u001b[0mon_train_batch_begin\u001b[0m\u001b[0;34m(\u001b[0m\u001b[0mstep\u001b[0m\u001b[0;34m)\u001b[0m\u001b[0;34m\u001b[0m\u001b[0;34m\u001b[0m\u001b[0m\n\u001b[0;32m-> 1384\u001b[0;31m               \u001b[0mtmp_logs\u001b[0m \u001b[0;34m=\u001b[0m \u001b[0mself\u001b[0m\u001b[0;34m.\u001b[0m\u001b[0mtrain_function\u001b[0m\u001b[0;34m(\u001b[0m\u001b[0miterator\u001b[0m\u001b[0;34m)\u001b[0m\u001b[0;34m\u001b[0m\u001b[0;34m\u001b[0m\u001b[0m\n\u001b[0m\u001b[1;32m   1385\u001b[0m               \u001b[0;32mif\u001b[0m \u001b[0mdata_handler\u001b[0m\u001b[0;34m.\u001b[0m\u001b[0mshould_sync\u001b[0m\u001b[0;34m:\u001b[0m\u001b[0;34m\u001b[0m\u001b[0;34m\u001b[0m\u001b[0m\n\u001b[1;32m   1386\u001b[0m                 \u001b[0mcontext\u001b[0m\u001b[0;34m.\u001b[0m\u001b[0masync_wait\u001b[0m\u001b[0;34m(\u001b[0m\u001b[0;34m)\u001b[0m\u001b[0;34m\u001b[0m\u001b[0;34m\u001b[0m\u001b[0m\n",
            "\u001b[0;32m/usr/local/lib/python3.7/dist-packages/tensorflow/python/util/traceback_utils.py\u001b[0m in \u001b[0;36merror_handler\u001b[0;34m(*args, **kwargs)\u001b[0m\n\u001b[1;32m    148\u001b[0m     \u001b[0mfiltered_tb\u001b[0m \u001b[0;34m=\u001b[0m \u001b[0;32mNone\u001b[0m\u001b[0;34m\u001b[0m\u001b[0;34m\u001b[0m\u001b[0m\n\u001b[1;32m    149\u001b[0m     \u001b[0;32mtry\u001b[0m\u001b[0;34m:\u001b[0m\u001b[0;34m\u001b[0m\u001b[0;34m\u001b[0m\u001b[0m\n\u001b[0;32m--> 150\u001b[0;31m       \u001b[0;32mreturn\u001b[0m \u001b[0mfn\u001b[0m\u001b[0;34m(\u001b[0m\u001b[0;34m*\u001b[0m\u001b[0margs\u001b[0m\u001b[0;34m,\u001b[0m \u001b[0;34m**\u001b[0m\u001b[0mkwargs\u001b[0m\u001b[0;34m)\u001b[0m\u001b[0;34m\u001b[0m\u001b[0;34m\u001b[0m\u001b[0m\n\u001b[0m\u001b[1;32m    151\u001b[0m     \u001b[0;32mexcept\u001b[0m \u001b[0mException\u001b[0m \u001b[0;32mas\u001b[0m \u001b[0me\u001b[0m\u001b[0;34m:\u001b[0m\u001b[0;34m\u001b[0m\u001b[0;34m\u001b[0m\u001b[0m\n\u001b[1;32m    152\u001b[0m       \u001b[0mfiltered_tb\u001b[0m \u001b[0;34m=\u001b[0m \u001b[0m_process_traceback_frames\u001b[0m\u001b[0;34m(\u001b[0m\u001b[0me\u001b[0m\u001b[0;34m.\u001b[0m\u001b[0m__traceback__\u001b[0m\u001b[0;34m)\u001b[0m\u001b[0;34m\u001b[0m\u001b[0;34m\u001b[0m\u001b[0m\n",
            "\u001b[0;32m/usr/local/lib/python3.7/dist-packages/tensorflow/python/eager/def_function.py\u001b[0m in \u001b[0;36m__call__\u001b[0;34m(self, *args, **kwds)\u001b[0m\n\u001b[1;32m    913\u001b[0m \u001b[0;34m\u001b[0m\u001b[0m\n\u001b[1;32m    914\u001b[0m       \u001b[0;32mwith\u001b[0m \u001b[0mOptionalXlaContext\u001b[0m\u001b[0;34m(\u001b[0m\u001b[0mself\u001b[0m\u001b[0;34m.\u001b[0m\u001b[0m_jit_compile\u001b[0m\u001b[0;34m)\u001b[0m\u001b[0;34m:\u001b[0m\u001b[0;34m\u001b[0m\u001b[0;34m\u001b[0m\u001b[0m\n\u001b[0;32m--> 915\u001b[0;31m         \u001b[0mresult\u001b[0m \u001b[0;34m=\u001b[0m \u001b[0mself\u001b[0m\u001b[0;34m.\u001b[0m\u001b[0m_call\u001b[0m\u001b[0;34m(\u001b[0m\u001b[0;34m*\u001b[0m\u001b[0margs\u001b[0m\u001b[0;34m,\u001b[0m \u001b[0;34m**\u001b[0m\u001b[0mkwds\u001b[0m\u001b[0;34m)\u001b[0m\u001b[0;34m\u001b[0m\u001b[0;34m\u001b[0m\u001b[0m\n\u001b[0m\u001b[1;32m    916\u001b[0m \u001b[0;34m\u001b[0m\u001b[0m\n\u001b[1;32m    917\u001b[0m       \u001b[0mnew_tracing_count\u001b[0m \u001b[0;34m=\u001b[0m \u001b[0mself\u001b[0m\u001b[0;34m.\u001b[0m\u001b[0mexperimental_get_tracing_count\u001b[0m\u001b[0;34m(\u001b[0m\u001b[0;34m)\u001b[0m\u001b[0;34m\u001b[0m\u001b[0;34m\u001b[0m\u001b[0m\n",
            "\u001b[0;32m/usr/local/lib/python3.7/dist-packages/tensorflow/python/eager/def_function.py\u001b[0m in \u001b[0;36m_call\u001b[0;34m(self, *args, **kwds)\u001b[0m\n\u001b[1;32m    945\u001b[0m       \u001b[0;31m# In this case we have created variables on the first call, so we run the\u001b[0m\u001b[0;34m\u001b[0m\u001b[0;34m\u001b[0m\u001b[0;34m\u001b[0m\u001b[0m\n\u001b[1;32m    946\u001b[0m       \u001b[0;31m# defunned version which is guaranteed to never create variables.\u001b[0m\u001b[0;34m\u001b[0m\u001b[0;34m\u001b[0m\u001b[0;34m\u001b[0m\u001b[0m\n\u001b[0;32m--> 947\u001b[0;31m       \u001b[0;32mreturn\u001b[0m \u001b[0mself\u001b[0m\u001b[0;34m.\u001b[0m\u001b[0m_stateless_fn\u001b[0m\u001b[0;34m(\u001b[0m\u001b[0;34m*\u001b[0m\u001b[0margs\u001b[0m\u001b[0;34m,\u001b[0m \u001b[0;34m**\u001b[0m\u001b[0mkwds\u001b[0m\u001b[0;34m)\u001b[0m  \u001b[0;31m# pylint: disable=not-callable\u001b[0m\u001b[0;34m\u001b[0m\u001b[0;34m\u001b[0m\u001b[0m\n\u001b[0m\u001b[1;32m    948\u001b[0m     \u001b[0;32melif\u001b[0m \u001b[0mself\u001b[0m\u001b[0;34m.\u001b[0m\u001b[0m_stateful_fn\u001b[0m \u001b[0;32mis\u001b[0m \u001b[0;32mnot\u001b[0m \u001b[0;32mNone\u001b[0m\u001b[0;34m:\u001b[0m\u001b[0;34m\u001b[0m\u001b[0;34m\u001b[0m\u001b[0m\n\u001b[1;32m    949\u001b[0m       \u001b[0;31m# Release the lock early so that multiple threads can perform the call\u001b[0m\u001b[0;34m\u001b[0m\u001b[0;34m\u001b[0m\u001b[0;34m\u001b[0m\u001b[0m\n",
            "\u001b[0;32m/usr/local/lib/python3.7/dist-packages/tensorflow/python/eager/function.py\u001b[0m in \u001b[0;36m__call__\u001b[0;34m(self, *args, **kwargs)\u001b[0m\n\u001b[1;32m   2955\u001b[0m        filtered_flat_args) = self._maybe_define_function(args, kwargs)\n\u001b[1;32m   2956\u001b[0m     return graph_function._call_flat(\n\u001b[0;32m-> 2957\u001b[0;31m         filtered_flat_args, captured_inputs=graph_function.captured_inputs)  # pylint: disable=protected-access\n\u001b[0m\u001b[1;32m   2958\u001b[0m \u001b[0;34m\u001b[0m\u001b[0m\n\u001b[1;32m   2959\u001b[0m   \u001b[0;34m@\u001b[0m\u001b[0mproperty\u001b[0m\u001b[0;34m\u001b[0m\u001b[0;34m\u001b[0m\u001b[0m\n",
            "\u001b[0;32m/usr/local/lib/python3.7/dist-packages/tensorflow/python/eager/function.py\u001b[0m in \u001b[0;36m_call_flat\u001b[0;34m(self, args, captured_inputs, cancellation_manager)\u001b[0m\n\u001b[1;32m   1852\u001b[0m       \u001b[0;31m# No tape is watching; skip to running the function.\u001b[0m\u001b[0;34m\u001b[0m\u001b[0;34m\u001b[0m\u001b[0;34m\u001b[0m\u001b[0m\n\u001b[1;32m   1853\u001b[0m       return self._build_call_outputs(self._inference_function.call(\n\u001b[0;32m-> 1854\u001b[0;31m           ctx, args, cancellation_manager=cancellation_manager))\n\u001b[0m\u001b[1;32m   1855\u001b[0m     forward_backward = self._select_forward_and_backward_functions(\n\u001b[1;32m   1856\u001b[0m         \u001b[0margs\u001b[0m\u001b[0;34m,\u001b[0m\u001b[0;34m\u001b[0m\u001b[0;34m\u001b[0m\u001b[0m\n",
            "\u001b[0;32m/usr/local/lib/python3.7/dist-packages/tensorflow/python/eager/function.py\u001b[0m in \u001b[0;36mcall\u001b[0;34m(self, ctx, args, cancellation_manager)\u001b[0m\n\u001b[1;32m    502\u001b[0m               \u001b[0minputs\u001b[0m\u001b[0;34m=\u001b[0m\u001b[0margs\u001b[0m\u001b[0;34m,\u001b[0m\u001b[0;34m\u001b[0m\u001b[0;34m\u001b[0m\u001b[0m\n\u001b[1;32m    503\u001b[0m               \u001b[0mattrs\u001b[0m\u001b[0;34m=\u001b[0m\u001b[0mattrs\u001b[0m\u001b[0;34m,\u001b[0m\u001b[0;34m\u001b[0m\u001b[0;34m\u001b[0m\u001b[0m\n\u001b[0;32m--> 504\u001b[0;31m               ctx=ctx)\n\u001b[0m\u001b[1;32m    505\u001b[0m         \u001b[0;32melse\u001b[0m\u001b[0;34m:\u001b[0m\u001b[0;34m\u001b[0m\u001b[0;34m\u001b[0m\u001b[0m\n\u001b[1;32m    506\u001b[0m           outputs = execute.execute_with_cancellation(\n",
            "\u001b[0;32m/usr/local/lib/python3.7/dist-packages/tensorflow/python/eager/execute.py\u001b[0m in \u001b[0;36mquick_execute\u001b[0;34m(op_name, num_outputs, inputs, attrs, ctx, name)\u001b[0m\n\u001b[1;32m     53\u001b[0m     \u001b[0mctx\u001b[0m\u001b[0;34m.\u001b[0m\u001b[0mensure_initialized\u001b[0m\u001b[0;34m(\u001b[0m\u001b[0;34m)\u001b[0m\u001b[0;34m\u001b[0m\u001b[0;34m\u001b[0m\u001b[0m\n\u001b[1;32m     54\u001b[0m     tensors = pywrap_tfe.TFE_Py_Execute(ctx._handle, device_name, op_name,\n\u001b[0;32m---> 55\u001b[0;31m                                         inputs, attrs, num_outputs)\n\u001b[0m\u001b[1;32m     56\u001b[0m   \u001b[0;32mexcept\u001b[0m \u001b[0mcore\u001b[0m\u001b[0;34m.\u001b[0m\u001b[0m_NotOkStatusException\u001b[0m \u001b[0;32mas\u001b[0m \u001b[0me\u001b[0m\u001b[0;34m:\u001b[0m\u001b[0;34m\u001b[0m\u001b[0;34m\u001b[0m\u001b[0m\n\u001b[1;32m     57\u001b[0m     \u001b[0;32mif\u001b[0m \u001b[0mname\u001b[0m \u001b[0;32mis\u001b[0m \u001b[0;32mnot\u001b[0m \u001b[0;32mNone\u001b[0m\u001b[0;34m:\u001b[0m\u001b[0;34m\u001b[0m\u001b[0;34m\u001b[0m\u001b[0m\n",
            "\u001b[0;31mKeyboardInterrupt\u001b[0m: "
          ]
        }
      ]
    },
    {
      "cell_type": "code",
      "source": [
        "pd.DataFrame(history_4.history).plot(figsize=(8, 5))\n",
        "plt.grid(True)\n",
        "plt.gca().set_ylim(0, 2) # set the vertical range to [0-1]\n",
        "plt.show()"
      ],
      "metadata": {
        "id": "jbfb9sd4Cb9a"
      },
      "execution_count": null,
      "outputs": []
    }
  ]
}