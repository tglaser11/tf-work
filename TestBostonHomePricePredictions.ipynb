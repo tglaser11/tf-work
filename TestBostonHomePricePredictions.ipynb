{
  "nbformat": 4,
  "nbformat_minor": 0,
  "metadata": {
    "colab": {
      "name": "TestBostonHomePricePredictions.ipynb",
      "provenance": [],
      "authorship_tag": "ABX9TyO2nFwJjd4iLLELiWjN+h0V"
    },
    "kernelspec": {
      "name": "python3",
      "display_name": "Python 3"
    },
    "language_info": {
      "name": "python"
    }
  },
  "cells": [
    {
      "cell_type": "code",
      "execution_count": 1,
      "metadata": {
        "id": "w_pbi4Lhnr8G"
      },
      "outputs": [],
      "source": [
        "\n",
        "import tensorflow as tf\n",
        "import pandas as pd\n",
        "import tensorflow_datasets as tfds\n",
        "import numpy as np\n",
        "import matplotlib.pyplot as plt\n",
        "\n"
      ]
    },
    {
      "cell_type": "code",
      "source": [
        "(x_train, y_train), (x_test, y_test) = tf.keras.datasets.boston_housing.load_data(\n",
        "    path='boston_housing.npz', test_split=0.2, seed=42\n",
        ")\n"
      ],
      "metadata": {
        "id": "JFSGpHIUn2Ig"
      },
      "execution_count": 8,
      "outputs": []
    },
    {
      "cell_type": "code",
      "source": [
        "x_train.shape, y_train.shape, x_test.shape, y_test.shape"
      ],
      "metadata": {
        "colab": {
          "base_uri": "https://localhost:8080/"
        },
        "id": "Tu7xlWuAn6Us",
        "outputId": "fb097416-0cd3-4352-b735-9ff936bc39c2"
      },
      "execution_count": 11,
      "outputs": [
        {
          "output_type": "execute_result",
          "data": {
            "text/plain": [
              "((404, 13), (404,), (102, 13), (102,))"
            ]
          },
          "metadata": {},
          "execution_count": 11
        }
      ]
    },
    {
      "cell_type": "markdown",
      "source": [
        "### Data\n",
        "\n",
        "Feature names in order:\n",
        "\n",
        "* CRIM     per capita crime rate by town\n",
        "* ZN       proportion of residential land zoned for lots over 25,000 sq.ft.\n",
        "* INDUS    proportion of non-retail business acres per town\n",
        "* CHAS     Charles River dummy variable (= 1 if tract bounds river; 0 otherwise)\n",
        "* NOX      nitric oxides concentration (parts per 10 million)\n",
        "* RM       average number of rooms per dwelling\n",
        "* AGE      proportion of owner-occupied units built prior to 1940\n",
        "* DIS      weighted distances to five Boston employment centres\n",
        "* RAD      index of accessibility to radial highways\n",
        "* TAX      full-value property-tax rate per 10,000\n",
        "* PTRATIO  pupil-teacher ratio by town\n",
        "* B        1000(Bk - 0.63)^2 where Bk is the proportion of blacks by town\n",
        "* LSTAT    % lower status of the population\n",
        "* MEDV     Median value of owner-occupied homes in $1000's"
      ],
      "metadata": {
        "id": "nQAmmE-DpC_i"
      }
    },
    {
      "cell_type": "code",
      "source": [
        "normalizer = tf.keras.layers.Normalization(input_shape=[1,], axis=1)\n",
        "normalizer.adapt(x_train)"
      ],
      "metadata": {
        "id": "bETS_JYYoOo6"
      },
      "execution_count": 15,
      "outputs": []
    },
    {
      "cell_type": "code",
      "source": [
        "print(normalizer.mean.numpy())\n"
      ],
      "metadata": {
        "colab": {
          "base_uri": "https://localhost:8080/"
        },
        "id": "QD4Nuw-JoseO",
        "outputId": "6a44dae7-7afd-462a-f976-87f27578df06"
      },
      "execution_count": 16,
      "outputs": [
        {
          "output_type": "stream",
          "name": "stdout",
          "text": [
            "[[3.78998899e+00 1.15680704e+01 1.12140598e+01 6.93069249e-02\n",
            "  5.54524004e-01 6.28482437e+00 6.91193085e+01 3.79225826e+00\n",
            "  9.66089153e+00 4.08960419e+02 1.84819336e+01 3.56293091e+02\n",
            "  1.28255205e+01]]\n"
          ]
        }
      ]
    },
    {
      "cell_type": "code",
      "source": [
        "\n",
        "## Callbacks\n",
        "\n",
        "# End training if no improvement seen\n",
        "early_stop_callbk = tf.keras.callbacks.EarlyStopping(monitor='val_loss', min_delta=0.05, patience=5)\n",
        "\n",
        "# Optimize LR\n",
        "opt_LR_callbk = tf.keras.callbacks.ReduceLROnPlateau(\n",
        "    monitor='val_loss',\n",
        "    factor=0.1,\n",
        "    patience=2\n",
        ")\n",
        "\n"
      ],
      "metadata": {
        "id": "JaliIOuTqWKt"
      },
      "execution_count": 18,
      "outputs": []
    },
    {
      "cell_type": "code",
      "source": [
        "def get_basic_model():\n",
        "  model = tf.keras.Sequential([\n",
        "    normalizer,\n",
        "    tf.keras.layers.Dense(10, activation='relu'),\n",
        "    tf.keras.layers.Dense(1)\n",
        "  ])\n",
        "\n",
        "  model.compile(optimizer=tf.keras.optimizers.Adam(0.01),\n",
        "                loss=tf.keras.losses.MeanSquaredError(),\n",
        "                metrics=['mse'])\n",
        "  return model\n",
        "\n"
      ],
      "metadata": {
        "id": "wZ_9UzT1qjOP"
      },
      "execution_count": 38,
      "outputs": []
    },
    {
      "cell_type": "code",
      "source": [
        "model_1 = get_basic_model()\n",
        "history_1 = model_1.fit(x_train, y_train, epochs=100, batch_size=32, validation_split=0.2, \n",
        "                callbacks=[early_stop_callbk, opt_LR_callbk])"
      ],
      "metadata": {
        "colab": {
          "base_uri": "https://localhost:8080/"
        },
        "id": "bEJetNijqoSQ",
        "outputId": "b0fbdeb0-3d34-49e2-cb91-9169aca3ceba"
      },
      "execution_count": 39,
      "outputs": [
        {
          "output_type": "stream",
          "name": "stdout",
          "text": [
            "Epoch 1/100\n",
            "WARNING:tensorflow:Model was constructed with shape (None, 1) for input KerasTensor(type_spec=TensorSpec(shape=(None, 1), dtype=tf.float32, name='normalization_input'), name='normalization_input', description=\"created by layer 'normalization_input'\"), but it was called on an input with incompatible shape (None, 13).\n",
            "WARNING:tensorflow:Model was constructed with shape (None, 1) for input KerasTensor(type_spec=TensorSpec(shape=(None, 1), dtype=tf.float32, name='normalization_input'), name='normalization_input', description=\"created by layer 'normalization_input'\"), but it was called on an input with incompatible shape (None, 13).\n",
            " 1/11 [=>............................] - ETA: 3s - loss: 587.6797 - mse: 587.6797WARNING:tensorflow:Model was constructed with shape (None, 1) for input KerasTensor(type_spec=TensorSpec(shape=(None, 1), dtype=tf.float32, name='normalization_input'), name='normalization_input', description=\"created by layer 'normalization_input'\"), but it was called on an input with incompatible shape (None, 13).\n",
            "11/11 [==============================] - 1s 17ms/step - loss: 527.3986 - mse: 527.3986 - val_loss: 534.2750 - val_mse: 534.2750 - lr: 0.0100\n",
            "Epoch 2/100\n",
            "11/11 [==============================] - 0s 6ms/step - loss: 455.7918 - mse: 455.7918 - val_loss: 446.0573 - val_mse: 446.0573 - lr: 0.0100\n",
            "Epoch 3/100\n",
            "11/11 [==============================] - 0s 4ms/step - loss: 371.6949 - mse: 371.6949 - val_loss: 343.2375 - val_mse: 343.2375 - lr: 0.0100\n",
            "Epoch 4/100\n",
            "11/11 [==============================] - 0s 6ms/step - loss: 277.0343 - mse: 277.0343 - val_loss: 232.7825 - val_mse: 232.7825 - lr: 0.0100\n",
            "Epoch 5/100\n",
            "11/11 [==============================] - 0s 4ms/step - loss: 185.9684 - mse: 185.9684 - val_loss: 144.3826 - val_mse: 144.3826 - lr: 0.0100\n",
            "Epoch 6/100\n",
            "11/11 [==============================] - 0s 4ms/step - loss: 124.8574 - mse: 124.8574 - val_loss: 93.2110 - val_mse: 93.2110 - lr: 0.0100\n",
            "Epoch 7/100\n",
            "11/11 [==============================] - 0s 4ms/step - loss: 89.6347 - mse: 89.6347 - val_loss: 65.3840 - val_mse: 65.3840 - lr: 0.0100\n",
            "Epoch 8/100\n",
            "11/11 [==============================] - 0s 5ms/step - loss: 69.6740 - mse: 69.6740 - val_loss: 49.2088 - val_mse: 49.2088 - lr: 0.0100\n",
            "Epoch 9/100\n",
            "11/11 [==============================] - 0s 4ms/step - loss: 55.3756 - mse: 55.3756 - val_loss: 37.8554 - val_mse: 37.8554 - lr: 0.0100\n",
            "Epoch 10/100\n",
            "11/11 [==============================] - 0s 4ms/step - loss: 45.4796 - mse: 45.4796 - val_loss: 30.6864 - val_mse: 30.6864 - lr: 0.0100\n",
            "Epoch 11/100\n",
            "11/11 [==============================] - 0s 4ms/step - loss: 39.0997 - mse: 39.0997 - val_loss: 26.7407 - val_mse: 26.7407 - lr: 0.0100\n",
            "Epoch 12/100\n",
            "11/11 [==============================] - 0s 6ms/step - loss: 34.6539 - mse: 34.6539 - val_loss: 24.6251 - val_mse: 24.6251 - lr: 0.0100\n",
            "Epoch 13/100\n",
            "11/11 [==============================] - 0s 6ms/step - loss: 31.1762 - mse: 31.1762 - val_loss: 23.4920 - val_mse: 23.4920 - lr: 0.0100\n",
            "Epoch 14/100\n",
            "11/11 [==============================] - 0s 5ms/step - loss: 29.1126 - mse: 29.1126 - val_loss: 22.5305 - val_mse: 22.5305 - lr: 0.0100\n",
            "Epoch 15/100\n",
            "11/11 [==============================] - 0s 4ms/step - loss: 27.0647 - mse: 27.0647 - val_loss: 22.7669 - val_mse: 22.7669 - lr: 0.0100\n",
            "Epoch 16/100\n",
            "11/11 [==============================] - 0s 4ms/step - loss: 25.4489 - mse: 25.4489 - val_loss: 21.2205 - val_mse: 21.2205 - lr: 0.0100\n",
            "Epoch 17/100\n",
            "11/11 [==============================] - 0s 4ms/step - loss: 24.3682 - mse: 24.3682 - val_loss: 20.5261 - val_mse: 20.5261 - lr: 0.0100\n",
            "Epoch 18/100\n",
            "11/11 [==============================] - 0s 4ms/step - loss: 23.5413 - mse: 23.5413 - val_loss: 20.2580 - val_mse: 20.2580 - lr: 0.0100\n",
            "Epoch 19/100\n",
            "11/11 [==============================] - 0s 4ms/step - loss: 22.5945 - mse: 22.5945 - val_loss: 19.8999 - val_mse: 19.8999 - lr: 0.0100\n",
            "Epoch 20/100\n",
            "11/11 [==============================] - 0s 4ms/step - loss: 21.5375 - mse: 21.5375 - val_loss: 19.2590 - val_mse: 19.2590 - lr: 0.0100\n",
            "Epoch 21/100\n",
            "11/11 [==============================] - 0s 4ms/step - loss: 20.7905 - mse: 20.7905 - val_loss: 18.9982 - val_mse: 18.9982 - lr: 0.0100\n",
            "Epoch 22/100\n",
            "11/11 [==============================] - 0s 4ms/step - loss: 20.0728 - mse: 20.0728 - val_loss: 18.2789 - val_mse: 18.2789 - lr: 0.0100\n",
            "Epoch 23/100\n",
            "11/11 [==============================] - 0s 5ms/step - loss: 19.4695 - mse: 19.4695 - val_loss: 17.5958 - val_mse: 17.5958 - lr: 0.0100\n",
            "Epoch 24/100\n",
            "11/11 [==============================] - 0s 4ms/step - loss: 18.9063 - mse: 18.9063 - val_loss: 17.0447 - val_mse: 17.0447 - lr: 0.0100\n",
            "Epoch 25/100\n",
            "11/11 [==============================] - 0s 4ms/step - loss: 18.1945 - mse: 18.1945 - val_loss: 16.7308 - val_mse: 16.7308 - lr: 0.0100\n",
            "Epoch 26/100\n",
            "11/11 [==============================] - 0s 6ms/step - loss: 17.6151 - mse: 17.6151 - val_loss: 17.0210 - val_mse: 17.0210 - lr: 0.0100\n",
            "Epoch 27/100\n",
            "11/11 [==============================] - 0s 6ms/step - loss: 17.2103 - mse: 17.2103 - val_loss: 16.3482 - val_mse: 16.3482 - lr: 0.0100\n",
            "Epoch 28/100\n",
            "11/11 [==============================] - 0s 6ms/step - loss: 16.5057 - mse: 16.5057 - val_loss: 16.2375 - val_mse: 16.2375 - lr: 0.0100\n",
            "Epoch 29/100\n",
            "11/11 [==============================] - 0s 4ms/step - loss: 16.3705 - mse: 16.3705 - val_loss: 15.9673 - val_mse: 15.9673 - lr: 0.0100\n",
            "Epoch 30/100\n",
            "11/11 [==============================] - 0s 6ms/step - loss: 16.2094 - mse: 16.2094 - val_loss: 15.9524 - val_mse: 15.9524 - lr: 0.0100\n",
            "Epoch 31/100\n",
            "11/11 [==============================] - 0s 6ms/step - loss: 15.5986 - mse: 15.5986 - val_loss: 14.8960 - val_mse: 14.8960 - lr: 0.0100\n",
            "Epoch 32/100\n",
            "11/11 [==============================] - 0s 6ms/step - loss: 15.9086 - mse: 15.9086 - val_loss: 15.2897 - val_mse: 15.2897 - lr: 0.0100\n",
            "Epoch 33/100\n",
            "11/11 [==============================] - 0s 5ms/step - loss: 15.0425 - mse: 15.0425 - val_loss: 14.3053 - val_mse: 14.3053 - lr: 0.0100\n",
            "Epoch 34/100\n",
            "11/11 [==============================] - 0s 4ms/step - loss: 14.5693 - mse: 14.5693 - val_loss: 14.1063 - val_mse: 14.1063 - lr: 0.0100\n",
            "Epoch 35/100\n",
            "11/11 [==============================] - 0s 4ms/step - loss: 14.2369 - mse: 14.2369 - val_loss: 14.4332 - val_mse: 14.4332 - lr: 0.0100\n",
            "Epoch 36/100\n",
            "11/11 [==============================] - 0s 6ms/step - loss: 13.9640 - mse: 13.9640 - val_loss: 14.0281 - val_mse: 14.0281 - lr: 0.0100\n",
            "Epoch 37/100\n",
            "11/11 [==============================] - 0s 4ms/step - loss: 13.7123 - mse: 13.7123 - val_loss: 13.6983 - val_mse: 13.6983 - lr: 0.0100\n",
            "Epoch 38/100\n",
            "11/11 [==============================] - 0s 6ms/step - loss: 13.4908 - mse: 13.4908 - val_loss: 13.5799 - val_mse: 13.5799 - lr: 0.0100\n",
            "Epoch 39/100\n",
            "11/11 [==============================] - 0s 4ms/step - loss: 13.4797 - mse: 13.4797 - val_loss: 12.9167 - val_mse: 12.9167 - lr: 0.0100\n",
            "Epoch 40/100\n",
            "11/11 [==============================] - 0s 6ms/step - loss: 12.9941 - mse: 12.9941 - val_loss: 12.5472 - val_mse: 12.5472 - lr: 0.0100\n",
            "Epoch 41/100\n",
            "11/11 [==============================] - 0s 6ms/step - loss: 12.7986 - mse: 12.7986 - val_loss: 12.4445 - val_mse: 12.4445 - lr: 0.0100\n",
            "Epoch 42/100\n",
            "11/11 [==============================] - 0s 4ms/step - loss: 12.5505 - mse: 12.5505 - val_loss: 12.5195 - val_mse: 12.5195 - lr: 0.0100\n",
            "Epoch 43/100\n",
            "11/11 [==============================] - 0s 4ms/step - loss: 12.3157 - mse: 12.3157 - val_loss: 12.4475 - val_mse: 12.4475 - lr: 0.0100\n",
            "Epoch 44/100\n",
            "11/11 [==============================] - 0s 7ms/step - loss: 12.1269 - mse: 12.1269 - val_loss: 12.4618 - val_mse: 12.4618 - lr: 1.0000e-03\n",
            "Epoch 45/100\n",
            "11/11 [==============================] - 0s 6ms/step - loss: 12.1165 - mse: 12.1165 - val_loss: 12.4802 - val_mse: 12.4802 - lr: 1.0000e-03\n",
            "Epoch 46/100\n",
            "11/11 [==============================] - 0s 4ms/step - loss: 12.0914 - mse: 12.0914 - val_loss: 12.4833 - val_mse: 12.4833 - lr: 1.0000e-04\n"
          ]
        }
      ]
    },
    {
      "cell_type": "code",
      "source": [
        "\n",
        "\n",
        "hist_1_df = pd.DataFrame(history_1.history)\n",
        "hist_1_df.head()\n",
        "\n"
      ],
      "metadata": {
        "colab": {
          "base_uri": "https://localhost:8080/",
          "height": 206
        },
        "id": "QvifFpGhqvyR",
        "outputId": "e7328c3e-e77a-47c0-ba48-ec8690c7a6d0"
      },
      "execution_count": 40,
      "outputs": [
        {
          "output_type": "execute_result",
          "data": {
            "text/plain": [
              "         loss         mse    val_loss     val_mse    lr\n",
              "0  527.398621  527.398621  534.274963  534.274963  0.01\n",
              "1  455.791809  455.791809  446.057343  446.057343  0.01\n",
              "2  371.694946  371.694946  343.237518  343.237518  0.01\n",
              "3  277.034302  277.034302  232.782547  232.782547  0.01\n",
              "4  185.968430  185.968430  144.382599  144.382599  0.01"
            ],
            "text/html": [
              "\n",
              "  <div id=\"df-a03a43f8-e3c7-47be-adfa-57149e518361\">\n",
              "    <div class=\"colab-df-container\">\n",
              "      <div>\n",
              "<style scoped>\n",
              "    .dataframe tbody tr th:only-of-type {\n",
              "        vertical-align: middle;\n",
              "    }\n",
              "\n",
              "    .dataframe tbody tr th {\n",
              "        vertical-align: top;\n",
              "    }\n",
              "\n",
              "    .dataframe thead th {\n",
              "        text-align: right;\n",
              "    }\n",
              "</style>\n",
              "<table border=\"1\" class=\"dataframe\">\n",
              "  <thead>\n",
              "    <tr style=\"text-align: right;\">\n",
              "      <th></th>\n",
              "      <th>loss</th>\n",
              "      <th>mse</th>\n",
              "      <th>val_loss</th>\n",
              "      <th>val_mse</th>\n",
              "      <th>lr</th>\n",
              "    </tr>\n",
              "  </thead>\n",
              "  <tbody>\n",
              "    <tr>\n",
              "      <th>0</th>\n",
              "      <td>527.398621</td>\n",
              "      <td>527.398621</td>\n",
              "      <td>534.274963</td>\n",
              "      <td>534.274963</td>\n",
              "      <td>0.01</td>\n",
              "    </tr>\n",
              "    <tr>\n",
              "      <th>1</th>\n",
              "      <td>455.791809</td>\n",
              "      <td>455.791809</td>\n",
              "      <td>446.057343</td>\n",
              "      <td>446.057343</td>\n",
              "      <td>0.01</td>\n",
              "    </tr>\n",
              "    <tr>\n",
              "      <th>2</th>\n",
              "      <td>371.694946</td>\n",
              "      <td>371.694946</td>\n",
              "      <td>343.237518</td>\n",
              "      <td>343.237518</td>\n",
              "      <td>0.01</td>\n",
              "    </tr>\n",
              "    <tr>\n",
              "      <th>3</th>\n",
              "      <td>277.034302</td>\n",
              "      <td>277.034302</td>\n",
              "      <td>232.782547</td>\n",
              "      <td>232.782547</td>\n",
              "      <td>0.01</td>\n",
              "    </tr>\n",
              "    <tr>\n",
              "      <th>4</th>\n",
              "      <td>185.968430</td>\n",
              "      <td>185.968430</td>\n",
              "      <td>144.382599</td>\n",
              "      <td>144.382599</td>\n",
              "      <td>0.01</td>\n",
              "    </tr>\n",
              "  </tbody>\n",
              "</table>\n",
              "</div>\n",
              "      <button class=\"colab-df-convert\" onclick=\"convertToInteractive('df-a03a43f8-e3c7-47be-adfa-57149e518361')\"\n",
              "              title=\"Convert this dataframe to an interactive table.\"\n",
              "              style=\"display:none;\">\n",
              "        \n",
              "  <svg xmlns=\"http://www.w3.org/2000/svg\" height=\"24px\"viewBox=\"0 0 24 24\"\n",
              "       width=\"24px\">\n",
              "    <path d=\"M0 0h24v24H0V0z\" fill=\"none\"/>\n",
              "    <path d=\"M18.56 5.44l.94 2.06.94-2.06 2.06-.94-2.06-.94-.94-2.06-.94 2.06-2.06.94zm-11 1L8.5 8.5l.94-2.06 2.06-.94-2.06-.94L8.5 2.5l-.94 2.06-2.06.94zm10 10l.94 2.06.94-2.06 2.06-.94-2.06-.94-.94-2.06-.94 2.06-2.06.94z\"/><path d=\"M17.41 7.96l-1.37-1.37c-.4-.4-.92-.59-1.43-.59-.52 0-1.04.2-1.43.59L10.3 9.45l-7.72 7.72c-.78.78-.78 2.05 0 2.83L4 21.41c.39.39.9.59 1.41.59.51 0 1.02-.2 1.41-.59l7.78-7.78 2.81-2.81c.8-.78.8-2.07 0-2.86zM5.41 20L4 18.59l7.72-7.72 1.47 1.35L5.41 20z\"/>\n",
              "  </svg>\n",
              "      </button>\n",
              "      \n",
              "  <style>\n",
              "    .colab-df-container {\n",
              "      display:flex;\n",
              "      flex-wrap:wrap;\n",
              "      gap: 12px;\n",
              "    }\n",
              "\n",
              "    .colab-df-convert {\n",
              "      background-color: #E8F0FE;\n",
              "      border: none;\n",
              "      border-radius: 50%;\n",
              "      cursor: pointer;\n",
              "      display: none;\n",
              "      fill: #1967D2;\n",
              "      height: 32px;\n",
              "      padding: 0 0 0 0;\n",
              "      width: 32px;\n",
              "    }\n",
              "\n",
              "    .colab-df-convert:hover {\n",
              "      background-color: #E2EBFA;\n",
              "      box-shadow: 0px 1px 2px rgba(60, 64, 67, 0.3), 0px 1px 3px 1px rgba(60, 64, 67, 0.15);\n",
              "      fill: #174EA6;\n",
              "    }\n",
              "\n",
              "    [theme=dark] .colab-df-convert {\n",
              "      background-color: #3B4455;\n",
              "      fill: #D2E3FC;\n",
              "    }\n",
              "\n",
              "    [theme=dark] .colab-df-convert:hover {\n",
              "      background-color: #434B5C;\n",
              "      box-shadow: 0px 1px 3px 1px rgba(0, 0, 0, 0.15);\n",
              "      filter: drop-shadow(0px 1px 2px rgba(0, 0, 0, 0.3));\n",
              "      fill: #FFFFFF;\n",
              "    }\n",
              "  </style>\n",
              "\n",
              "      <script>\n",
              "        const buttonEl =\n",
              "          document.querySelector('#df-a03a43f8-e3c7-47be-adfa-57149e518361 button.colab-df-convert');\n",
              "        buttonEl.style.display =\n",
              "          google.colab.kernel.accessAllowed ? 'block' : 'none';\n",
              "\n",
              "        async function convertToInteractive(key) {\n",
              "          const element = document.querySelector('#df-a03a43f8-e3c7-47be-adfa-57149e518361');\n",
              "          const dataTable =\n",
              "            await google.colab.kernel.invokeFunction('convertToInteractive',\n",
              "                                                     [key], {});\n",
              "          if (!dataTable) return;\n",
              "\n",
              "          const docLinkHtml = 'Like what you see? Visit the ' +\n",
              "            '<a target=\"_blank\" href=https://colab.research.google.com/notebooks/data_table.ipynb>data table notebook</a>'\n",
              "            + ' to learn more about interactive tables.';\n",
              "          element.innerHTML = '';\n",
              "          dataTable['output_type'] = 'display_data';\n",
              "          await google.colab.output.renderOutput(dataTable, element);\n",
              "          const docLink = document.createElement('div');\n",
              "          docLink.innerHTML = docLinkHtml;\n",
              "          element.appendChild(docLink);\n",
              "        }\n",
              "      </script>\n",
              "    </div>\n",
              "  </div>\n",
              "  "
            ]
          },
          "metadata": {},
          "execution_count": 40
        }
      ]
    },
    {
      "cell_type": "code",
      "source": [
        "\n",
        "\n",
        "hist_1_df.plot(figsize=(10,7), ylim=(10,500))\n",
        "\n"
      ],
      "metadata": {
        "colab": {
          "base_uri": "https://localhost:8080/",
          "height": 450
        },
        "id": "fTjrCDekrEXQ",
        "outputId": "d7239b3e-5d6b-4eba-cea7-80a2ff78a696"
      },
      "execution_count": 41,
      "outputs": [
        {
          "output_type": "execute_result",
          "data": {
            "text/plain": [
              "<matplotlib.axes._subplots.AxesSubplot at 0x7f067c8fea10>"
            ]
          },
          "metadata": {},
          "execution_count": 41
        },
        {
          "output_type": "display_data",
          "data": {
            "text/plain": [
              "<Figure size 720x504 with 1 Axes>"
            ],
            "image/png": "[encoded data removed]"
          },
          "metadata": {
            "needs_background": "light"
          }
        }
      ]
    },
    {
      "cell_type": "code",
      "source": [
        "\n",
        "\n",
        "# make predictions on test data\n",
        "y_pred = model_1.predict(x_test)\n",
        "\n"
      ],
      "metadata": {
        "colab": {
          "base_uri": "https://localhost:8080/"
        },
        "id": "TIYo__gNrIBY",
        "outputId": "f46fb2d8-3a30-4a47-b4a8-750d28c5769f"
      },
      "execution_count": 42,
      "outputs": [
        {
          "output_type": "stream",
          "name": "stdout",
          "text": [
            "WARNING:tensorflow:Model was constructed with shape (None, 1) for input KerasTensor(type_spec=TensorSpec(shape=(None, 1), dtype=tf.float32, name='normalization_input'), name='normalization_input', description=\"created by layer 'normalization_input'\"), but it was called on an input with incompatible shape (None, 13).\n"
          ]
        }
      ]
    },
    {
      "cell_type": "code",
      "source": [
        "\n",
        "\n",
        "# Measure MSE & MAE of predicitons vs. actual\n",
        "mse = tf.keras.losses.MeanSquaredError()\n",
        "mae = tf.keras.losses.MeanAbsoluteError()\n",
        "\n",
        "mse(y_test, y_pred).numpy(), mae(y_test, y_pred).numpy()\n",
        "\n"
      ],
      "metadata": {
        "colab": {
          "base_uri": "https://localhost:8080/"
        },
        "id": "3un57ijJrcb2",
        "outputId": "e1aaa482-1292-4cfd-cce4-da4221551780"
      },
      "execution_count": 43,
      "outputs": [
        {
          "output_type": "execute_result",
          "data": {
            "text/plain": [
              "(133.10094, 8.8556595)"
            ]
          },
          "metadata": {},
          "execution_count": 43
        }
      ]
    },
    {
      "cell_type": "code",
      "source": [
        ""
      ],
      "metadata": {
        "id": "tbPkTHwKr3VB"
      },
      "execution_count": 44,
      "outputs": []
    },
    {
      "cell_type": "code",
      "source": [
        ""
      ],
      "metadata": {
        "id": "ZxjzPt7ssKRG"
      },
      "execution_count": 37,
      "outputs": []
    }
  ]
}