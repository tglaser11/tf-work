{
  "nbformat": 4,
  "nbformat_minor": 0,
  "metadata": {
    "colab": {
      "name": "TimeSeries Window Generator Class.ipynb",
      "provenance": [],
      "authorship_tag": "ABX9TyMKtslmWf37cSbuFLAFMXJY"
    },
    "kernelspec": {
      "name": "python3",
      "display_name": "Python 3"
    },
    "language_info": {
      "name": "python"
    }
  },
  "cells": [
    {
      "cell_type": "code",
      "source": [
        "import os\n",
        "import datetime\n",
        "\n",
        "\n",
        "import matplotlib as mpl\n",
        "import matplotlib.pyplot as plt\n",
        "import numpy as np\n",
        "import pandas as pd\n",
        "import seaborn as sns\n",
        "import tensorflow as tf\n",
        "\n",
        "mpl.rcParams['figure.figsize'] = (8, 6)\n",
        "mpl.rcParams['axes.grid'] = False"
      ],
      "metadata": {
        "id": "laA_Rrko1Z8-"
      },
      "execution_count": 2,
      "outputs": []
    },
    {
      "cell_type": "markdown",
      "source": [
        "### Concept"
      ],
      "metadata": {
        "id": "MCl_0DgTCd5o"
      }
    },
    {
      "cell_type": "markdown",
      "source": [
        "![raw_window_1h.png](data:image/png;base64,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)"
      ],
      "metadata": {
        "id": "kAv8vz-F3peE"
      }
    },
    {
      "cell_type": "markdown",
      "source": [
        "### Window Generator Class"
      ],
      "metadata": {
        "id": "f7_d0ne8Cguh"
      }
    },
    {
      "cell_type": "code",
      "source": [
        "# Window Generator\n",
        "# shift = offset\n",
        "\n",
        "class WindowGenerator():\n",
        "  def __init__(self, input_width, label_width, shift,\n",
        "               train_df=train_df, val_df=val_df, test_df=test_df,\n",
        "               label_columns=None):\n",
        "    # Store the raw data.\n",
        "    self.train_df = train_df\n",
        "    self.val_df = val_df\n",
        "    self.test_df = test_df\n",
        "\n",
        "    # Work out the label column indices.\n",
        "    self.label_columns = label_columns\n",
        "    if label_columns is not None:\n",
        "      self.label_columns_indices = {name: i for i, name in\n",
        "                                    enumerate(label_columns)}\n",
        "    self.column_indices = {name: i for i, name in\n",
        "                           enumerate(train_df.columns)}\n",
        "\n",
        "    # Work out the window parameters.\n",
        "    self.input_width = input_width\n",
        "    self.label_width = label_width\n",
        "    self.shift = shift\n",
        "\n",
        "    self.total_window_size = input_width + shift\n",
        "\n",
        "    self.input_slice = slice(0, input_width)\n",
        "    self.input_indices = np.arange(self.total_window_size)[self.input_slice]\n",
        "\n",
        "    self.label_start = self.total_window_size - self.label_width\n",
        "    self.labels_slice = slice(self.label_start, None)\n",
        "    self.label_indices = np.arange(self.total_window_size)[self.labels_slice]\n",
        "\n",
        "  def __repr__(self):\n",
        "    return '\\n'.join([\n",
        "        f'Total window size: {self.total_window_size}',\n",
        "        f'Input indices: {self.input_indices}',\n",
        "        f'Label indices: {self.label_indices}',\n",
        "        f'Label column name(s): {self.label_columns}'])"
      ],
      "metadata": {
        "id": "LU0b_FvH3Ftk"
      },
      "execution_count": 10,
      "outputs": []
    },
    {
      "cell_type": "code",
      "source": [
        "# add a method to create data\n",
        "\n",
        "def split_window(self, features):\n",
        "  inputs = features[:, self.input_slice, :]\n",
        "  labels = features[:, self.labels_slice, :]\n",
        "  if self.label_columns is not None:\n",
        "    labels = tf.stack(\n",
        "        [labels[:, :, self.column_indices[name]] for name in self.label_columns],\n",
        "        axis=-1)\n",
        "\n",
        "  # Slicing doesn't preserve static shape information, so set the shapes\n",
        "  # manually. This way the `tf.data.Datasets` are easier to inspect.\n",
        "  inputs.set_shape([None, self.input_width, None])\n",
        "  labels.set_shape([None, self.label_width, None])\n",
        "\n",
        "  return inputs, labels\n",
        "\n",
        "WindowGenerator.split_window = split_window"
      ],
      "metadata": {
        "id": "PTOLUFvJ4VhW"
      },
      "execution_count": 15,
      "outputs": []
    },
    {
      "cell_type": "code",
      "source": [
        "# add a method to make a TF dataset \n",
        "\n",
        "def make_dataset(self, data):\n",
        "  data = np.array(data, dtype=np.float32)\n",
        "  ds = tf.keras.utils.timeseries_dataset_from_array(\n",
        "      data=data,\n",
        "      targets=None,\n",
        "      sequence_length=self.total_window_size,\n",
        "      sequence_stride=1,\n",
        "      shuffle=True,\n",
        "      batch_size=32,)\n",
        "\n",
        "  ds = ds.map(self.split_window)\n",
        "\n",
        "  return ds\n",
        "\n",
        "WindowGenerator.make_dataset = make_dataset"
      ],
      "metadata": {
        "id": "C-P4ab-T5xQp"
      },
      "execution_count": 16,
      "outputs": []
    },
    {
      "cell_type": "code",
      "source": [
        "# Add convienent properties\n",
        "\n",
        "@property\n",
        "def train(self):\n",
        "  return self.make_dataset(self.train_df)\n",
        "\n",
        "@property\n",
        "def val(self):\n",
        "  return self.make_dataset(self.val_df)\n",
        "\n",
        "@property\n",
        "def test(self):\n",
        "  return self.make_dataset(self.test_df)\n",
        "\n",
        "@property\n",
        "def example(self):\n",
        "  \"\"\"Get and cache an example batch of `inputs, labels` for plotting.\"\"\"\n",
        "  result = getattr(self, '_example', None)\n",
        "  if result is None:\n",
        "    # No example batch was found, so get one from the `.train` dataset\n",
        "    result = next(iter(self.train))\n",
        "    # And cache it for next time\n",
        "    self._example = result\n",
        "  return result\n",
        "\n",
        "WindowGenerator.train = train\n",
        "WindowGenerator.val = val\n",
        "WindowGenerator.test = test\n",
        "WindowGenerator.example = example"
      ],
      "metadata": {
        "id": "IS2sKACX6IsY"
      },
      "execution_count": 17,
      "outputs": []
    },
    {
      "cell_type": "code",
      "source": [
        "# Add a plotting function\n",
        "\n",
        "def plot(self, model=None, plot_col='T (degC)', max_subplots=3):\n",
        "  inputs, labels = self.example\n",
        "  plt.figure(figsize=(12, 8))\n",
        "  plot_col_index = self.column_indices[plot_col]\n",
        "  max_n = min(max_subplots, len(inputs))\n",
        "  for n in range(max_n):\n",
        "    plt.subplot(max_n, 1, n+1)\n",
        "    plt.ylabel(f'{plot_col} [normed]')\n",
        "    plt.plot(self.input_indices, inputs[n, :, plot_col_index],\n",
        "             label='Inputs', marker='.', zorder=-10)\n",
        "\n",
        "    if self.label_columns:\n",
        "      label_col_index = self.label_columns_indices.get(plot_col, None)\n",
        "    else:\n",
        "      label_col_index = plot_col_index\n",
        "\n",
        "    if label_col_index is None:\n",
        "      continue\n",
        "\n",
        "    plt.scatter(self.label_indices, labels[n, :, label_col_index],\n",
        "                edgecolors='k', label='Labels', c='#2ca02c', s=64)\n",
        "    if model is not None:\n",
        "      predictions = model(inputs)\n",
        "      plt.scatter(self.label_indices, predictions[n, :, label_col_index],\n",
        "                  marker='X', edgecolors='k', label='Predictions',\n",
        "                  c='#ff7f0e', s=64)\n",
        "\n",
        "    if n == 0:\n",
        "      plt.legend()\n",
        "\n",
        "  plt.xlabel('Time [h]')\n",
        "\n",
        "WindowGenerator.plot = plot"
      ],
      "metadata": {
        "id": "No0XN7tSBodb"
      },
      "execution_count": 25,
      "outputs": []
    },
    {
      "cell_type": "markdown",
      "source": [
        "### Run through example"
      ],
      "metadata": {
        "id": "dMSPm8CS-jMt"
      }
    },
    {
      "cell_type": "code",
      "source": [
        "zip_path = tf.keras.utils.get_file(\n",
        "    origin='https://storage.googleapis.com/tensorflow/tf-keras-datasets/jena_climate_2009_2016.csv.zip',\n",
        "    fname='jena_climate_2009_2016.csv.zip',\n",
        "    extract=True)\n",
        "csv_path, _ = os.path.splitext(zip_path)"
      ],
      "metadata": {
        "id": "_9vPZ897B93n"
      },
      "execution_count": null,
      "outputs": []
    },
    {
      "cell_type": "code",
      "source": [
        "df = pd.read_csv(csv_path)\n",
        "# Slice [start:stop:step], starting from index 5 take every 6th record.\n",
        "df = df[5::6]\n",
        "\n",
        "date_time = pd.to_datetime(df.pop('Date Time'), format='%d.%m.%Y %H:%M:%S')"
      ],
      "metadata": {
        "id": "lG3isYxkB90u"
      },
      "execution_count": null,
      "outputs": []
    },
    {
      "cell_type": "code",
      "source": [
        "# Replace bad data\n",
        "wv = df['wv (m/s)']\n",
        "bad_wv = wv == -9999.0\n",
        "wv[bad_wv] = 0.0\n",
        "\n",
        "max_wv = df['max. wv (m/s)']\n",
        "bad_max_wv = max_wv == -9999.0\n",
        "max_wv[bad_max_wv] = 0.0\n",
        "\n",
        "# The above inplace edits are reflected in the DataFrame.\n",
        "df['wv (m/s)'].min()"
      ],
      "metadata": {
        "id": "EtFLwrgHB9yN"
      },
      "execution_count": null,
      "outputs": []
    },
    {
      "cell_type": "code",
      "source": [
        "# convert wind direction and velocity to x and y directional velocity vectors\n",
        "\n",
        "wv = df.pop('wv (m/s)')\n",
        "max_wv = df.pop('max. wv (m/s)')\n",
        "\n",
        "# Convert to radians.\n",
        "wd_rad = df.pop('wd (deg)')*np.pi / 180\n",
        "\n",
        "# Calculate the wind x and y components.\n",
        "df['Wx'] = wv*np.cos(wd_rad)\n",
        "df['Wy'] = wv*np.sin(wd_rad)\n",
        "\n",
        "# Calculate the max wind x and y components.\n",
        "df['max Wx'] = max_wv*np.cos(wd_rad)\n",
        "df['max Wy'] = max_wv*np.sin(wd_rad)"
      ],
      "metadata": {
        "id": "lDzVvin2B9u_"
      },
      "execution_count": null,
      "outputs": []
    },
    {
      "cell_type": "code",
      "source": [
        "# Make the time stamp useful\n",
        "\n",
        "timestamp_s = date_time.map(pd.Timestamp.timestamp)\n",
        "\n",
        "day = 24*60*60\n",
        "year = (365.2425)*day\n",
        "\n",
        "df['Day sin'] = np.sin(timestamp_s * (2 * np.pi / day))\n",
        "df['Day cos'] = np.cos(timestamp_s * (2 * np.pi / day))\n",
        "df['Year sin'] = np.sin(timestamp_s * (2 * np.pi / year))\n",
        "df['Year cos'] = np.cos(timestamp_s * (2 * np.pi / year))"
      ],
      "metadata": {
        "id": "WNEk214eB9r1"
      },
      "execution_count": null,
      "outputs": []
    },
    {
      "cell_type": "code",
      "source": [
        "# Split the data into train, validation and test sets\n",
        "\n",
        "column_indices = {name: i for i, name in enumerate(df.columns)}\n",
        "\n",
        "n = len(df)\n",
        "train_df = df[0:int(n*0.7)]\n",
        "val_df = df[int(n*0.7):int(n*0.9)]\n",
        "test_df = df[int(n*0.9):]\n",
        "\n",
        "num_features = df.shape[1]"
      ],
      "metadata": {
        "id": "NwR8pLf-CSYn"
      },
      "execution_count": null,
      "outputs": []
    },
    {
      "cell_type": "code",
      "source": [
        "# Normalize the data\n",
        "\n",
        "train_mean = train_df.mean()\n",
        "train_std = train_df.std()\n",
        "\n",
        "train_df = (train_df - train_mean) / train_std\n",
        "val_df = (val_df - train_mean) / train_std\n",
        "test_df = (test_df - train_mean) / train_std"
      ],
      "metadata": {
        "id": "Jf-lsTXzCSTV"
      },
      "execution_count": null,
      "outputs": []
    },
    {
      "cell_type": "code",
      "source": [
        ""
      ],
      "metadata": {
        "id": "peXjUTbOCSNE"
      },
      "execution_count": null,
      "outputs": []
    },
    {
      "cell_type": "code",
      "source": [
        ""
      ],
      "metadata": {
        "id": "ZxedGZ7kCSJg"
      },
      "execution_count": null,
      "outputs": []
    },
    {
      "cell_type": "code",
      "source": [
        ""
      ],
      "metadata": {
        "id": "3M7LD5enB9gN"
      },
      "execution_count": null,
      "outputs": []
    },
    {
      "cell_type": "code",
      "source": [
        "# Example\n",
        "\n",
        "w2 = WindowGenerator(input_width=6, label_width=1, shift=1, train_df=train_df, val_df=val_df, test_df=test_df,\n",
        "                     label_columns=['T (degC)'])\n",
        "w2"
      ],
      "metadata": {
        "colab": {
          "base_uri": "https://localhost:8080/"
        },
        "id": "0VskHHoc6uuC",
        "outputId": "b763e1f1-6070-480d-9f90-107d9223118d"
      },
      "execution_count": 21,
      "outputs": [
        {
          "output_type": "execute_result",
          "data": {
            "text/plain": [
              "Total window size: 7\n",
              "Input indices: [0 1 2 3 4 5]\n",
              "Label indices: [6]\n",
              "Label column name(s): ['T (degC)']"
            ]
          },
          "metadata": {},
          "execution_count": 21
        }
      ]
    },
    {
      "cell_type": "code",
      "source": [
        "# Each element is an (inputs, label) pair.\n",
        "w2.train.element_spec"
      ],
      "metadata": {
        "colab": {
          "base_uri": "https://localhost:8080/"
        },
        "id": "tMLocsuY-UKC",
        "outputId": "383c7e80-5c8f-48fa-9723-2f92bf085a6a"
      },
      "execution_count": 22,
      "outputs": [
        {
          "output_type": "execute_result",
          "data": {
            "text/plain": [
              "(TensorSpec(shape=(None, 6, 19), dtype=tf.float32, name=None),\n",
              " TensorSpec(shape=(None, 1, 1), dtype=tf.float32, name=None))"
            ]
          },
          "metadata": {},
          "execution_count": 22
        }
      ]
    },
    {
      "cell_type": "code",
      "source": [
        "for example_inputs, example_labels in w2.train.take(1):\n",
        "  print(f'Inputs shape (batch, time, features): {example_inputs.shape}')\n",
        "  print(f'Labels shape (batch, time, features): {example_labels.shape}')"
      ],
      "metadata": {
        "colab": {
          "base_uri": "https://localhost:8080/"
        },
        "id": "iEddssvx-ZnU",
        "outputId": "cd05bfc3-07a4-4848-aeff-cd02c6af4994"
      },
      "execution_count": 23,
      "outputs": [
        {
          "output_type": "stream",
          "name": "stdout",
          "text": [
            "Inputs shape (batch, time, features): (32, 6, 19)\n",
            "Labels shape (batch, time, features): (32, 1, 1)\n"
          ]
        }
      ]
    },
    {
      "cell_type": "code",
      "source": [
        ""
      ],
      "metadata": {
        "colab": {
          "base_uri": "https://localhost:8080/",
          "height": 514
        },
        "id": "4Ucy8bVo-iGT",
        "outputId": "2297b452-043e-4c45-e9fb-dfd244feb3f1"
      },
      "execution_count": 24,
      "outputs": [
        {
          "output_type": "error",
          "ename": "KeyError",
          "evalue": "ignored",
          "traceback": [
            "\u001b[0;31m---------------------------------------------------------------------------\u001b[0m",
            "\u001b[0;31mKeyError\u001b[0m                                  Traceback (most recent call last)",
            "\u001b[0;32m/usr/local/lib/python3.7/dist-packages/pandas/core/indexes/base.py\u001b[0m in \u001b[0;36mget_loc\u001b[0;34m(self, key, method, tolerance)\u001b[0m\n\u001b[1;32m   3360\u001b[0m             \u001b[0;32mtry\u001b[0m\u001b[0;34m:\u001b[0m\u001b[0;34m\u001b[0m\u001b[0;34m\u001b[0m\u001b[0m\n\u001b[0;32m-> 3361\u001b[0;31m                 \u001b[0;32mreturn\u001b[0m \u001b[0mself\u001b[0m\u001b[0;34m.\u001b[0m\u001b[0m_engine\u001b[0m\u001b[0;34m.\u001b[0m\u001b[0mget_loc\u001b[0m\u001b[0;34m(\u001b[0m\u001b[0mcasted_key\u001b[0m\u001b[0;34m)\u001b[0m\u001b[0;34m\u001b[0m\u001b[0;34m\u001b[0m\u001b[0m\n\u001b[0m\u001b[1;32m   3362\u001b[0m             \u001b[0;32mexcept\u001b[0m \u001b[0mKeyError\u001b[0m \u001b[0;32mas\u001b[0m \u001b[0merr\u001b[0m\u001b[0;34m:\u001b[0m\u001b[0;34m\u001b[0m\u001b[0;34m\u001b[0m\u001b[0m\n",
            "\u001b[0;32m/usr/local/lib/python3.7/dist-packages/pandas/_libs/index.pyx\u001b[0m in \u001b[0;36mpandas._libs.index.IndexEngine.get_loc\u001b[0;34m()\u001b[0m\n",
            "\u001b[0;32m/usr/local/lib/python3.7/dist-packages/pandas/_libs/index.pyx\u001b[0m in \u001b[0;36mpandas._libs.index.IndexEngine.get_loc\u001b[0;34m()\u001b[0m\n",
            "\u001b[0;32mpandas/_libs/hashtable_class_helper.pxi\u001b[0m in \u001b[0;36mpandas._libs.hashtable.PyObjectHashTable.get_item\u001b[0;34m()\u001b[0m\n",
            "\u001b[0;32mpandas/_libs/hashtable_class_helper.pxi\u001b[0m in \u001b[0;36mpandas._libs.hashtable.PyObjectHashTable.get_item\u001b[0;34m()\u001b[0m\n",
            "\u001b[0;31mKeyError\u001b[0m: 'wv (m/s)'",
            "\nThe above exception was the direct cause of the following exception:\n",
            "\u001b[0;31mKeyError\u001b[0m                                  Traceback (most recent call last)",
            "\u001b[0;32m<ipython-input-24-7ed1b6eca947>\u001b[0m in \u001b[0;36m<module>\u001b[0;34m()\u001b[0m\n\u001b[1;32m      1\u001b[0m \u001b[0;31m# Replace bad data\u001b[0m\u001b[0;34m\u001b[0m\u001b[0;34m\u001b[0m\u001b[0;34m\u001b[0m\u001b[0m\n\u001b[0;32m----> 2\u001b[0;31m \u001b[0mwv\u001b[0m \u001b[0;34m=\u001b[0m \u001b[0mdf\u001b[0m\u001b[0;34m[\u001b[0m\u001b[0;34m'wv (m/s)'\u001b[0m\u001b[0;34m]\u001b[0m\u001b[0;34m\u001b[0m\u001b[0;34m\u001b[0m\u001b[0m\n\u001b[0m\u001b[1;32m      3\u001b[0m \u001b[0mbad_wv\u001b[0m \u001b[0;34m=\u001b[0m \u001b[0mwv\u001b[0m \u001b[0;34m==\u001b[0m \u001b[0;34m-\u001b[0m\u001b[0;36m9999.0\u001b[0m\u001b[0;34m\u001b[0m\u001b[0;34m\u001b[0m\u001b[0m\n\u001b[1;32m      4\u001b[0m \u001b[0mwv\u001b[0m\u001b[0;34m[\u001b[0m\u001b[0mbad_wv\u001b[0m\u001b[0;34m]\u001b[0m \u001b[0;34m=\u001b[0m \u001b[0;36m0.0\u001b[0m\u001b[0;34m\u001b[0m\u001b[0;34m\u001b[0m\u001b[0m\n\u001b[1;32m      5\u001b[0m \u001b[0;34m\u001b[0m\u001b[0m\n",
            "\u001b[0;32m/usr/local/lib/python3.7/dist-packages/pandas/core/frame.py\u001b[0m in \u001b[0;36m__getitem__\u001b[0;34m(self, key)\u001b[0m\n\u001b[1;32m   3456\u001b[0m             \u001b[0;32mif\u001b[0m \u001b[0mself\u001b[0m\u001b[0;34m.\u001b[0m\u001b[0mcolumns\u001b[0m\u001b[0;34m.\u001b[0m\u001b[0mnlevels\u001b[0m \u001b[0;34m>\u001b[0m \u001b[0;36m1\u001b[0m\u001b[0;34m:\u001b[0m\u001b[0;34m\u001b[0m\u001b[0;34m\u001b[0m\u001b[0m\n\u001b[1;32m   3457\u001b[0m                 \u001b[0;32mreturn\u001b[0m \u001b[0mself\u001b[0m\u001b[0;34m.\u001b[0m\u001b[0m_getitem_multilevel\u001b[0m\u001b[0;34m(\u001b[0m\u001b[0mkey\u001b[0m\u001b[0;34m)\u001b[0m\u001b[0;34m\u001b[0m\u001b[0;34m\u001b[0m\u001b[0m\n\u001b[0;32m-> 3458\u001b[0;31m             \u001b[0mindexer\u001b[0m \u001b[0;34m=\u001b[0m \u001b[0mself\u001b[0m\u001b[0;34m.\u001b[0m\u001b[0mcolumns\u001b[0m\u001b[0;34m.\u001b[0m\u001b[0mget_loc\u001b[0m\u001b[0;34m(\u001b[0m\u001b[0mkey\u001b[0m\u001b[0;34m)\u001b[0m\u001b[0;34m\u001b[0m\u001b[0;34m\u001b[0m\u001b[0m\n\u001b[0m\u001b[1;32m   3459\u001b[0m             \u001b[0;32mif\u001b[0m \u001b[0mis_integer\u001b[0m\u001b[0;34m(\u001b[0m\u001b[0mindexer\u001b[0m\u001b[0;34m)\u001b[0m\u001b[0;34m:\u001b[0m\u001b[0;34m\u001b[0m\u001b[0;34m\u001b[0m\u001b[0m\n\u001b[1;32m   3460\u001b[0m                 \u001b[0mindexer\u001b[0m \u001b[0;34m=\u001b[0m \u001b[0;34m[\u001b[0m\u001b[0mindexer\u001b[0m\u001b[0;34m]\u001b[0m\u001b[0;34m\u001b[0m\u001b[0;34m\u001b[0m\u001b[0m\n",
            "\u001b[0;32m/usr/local/lib/python3.7/dist-packages/pandas/core/indexes/base.py\u001b[0m in \u001b[0;36mget_loc\u001b[0;34m(self, key, method, tolerance)\u001b[0m\n\u001b[1;32m   3361\u001b[0m                 \u001b[0;32mreturn\u001b[0m \u001b[0mself\u001b[0m\u001b[0;34m.\u001b[0m\u001b[0m_engine\u001b[0m\u001b[0;34m.\u001b[0m\u001b[0mget_loc\u001b[0m\u001b[0;34m(\u001b[0m\u001b[0mcasted_key\u001b[0m\u001b[0;34m)\u001b[0m\u001b[0;34m\u001b[0m\u001b[0;34m\u001b[0m\u001b[0m\n\u001b[1;32m   3362\u001b[0m             \u001b[0;32mexcept\u001b[0m \u001b[0mKeyError\u001b[0m \u001b[0;32mas\u001b[0m \u001b[0merr\u001b[0m\u001b[0;34m:\u001b[0m\u001b[0;34m\u001b[0m\u001b[0;34m\u001b[0m\u001b[0m\n\u001b[0;32m-> 3363\u001b[0;31m                 \u001b[0;32mraise\u001b[0m \u001b[0mKeyError\u001b[0m\u001b[0;34m(\u001b[0m\u001b[0mkey\u001b[0m\u001b[0;34m)\u001b[0m \u001b[0;32mfrom\u001b[0m \u001b[0merr\u001b[0m\u001b[0;34m\u001b[0m\u001b[0;34m\u001b[0m\u001b[0m\n\u001b[0m\u001b[1;32m   3364\u001b[0m \u001b[0;34m\u001b[0m\u001b[0m\n\u001b[1;32m   3365\u001b[0m         \u001b[0;32mif\u001b[0m \u001b[0mis_scalar\u001b[0m\u001b[0;34m(\u001b[0m\u001b[0mkey\u001b[0m\u001b[0;34m)\u001b[0m \u001b[0;32mand\u001b[0m \u001b[0misna\u001b[0m\u001b[0;34m(\u001b[0m\u001b[0mkey\u001b[0m\u001b[0;34m)\u001b[0m \u001b[0;32mand\u001b[0m \u001b[0;32mnot\u001b[0m \u001b[0mself\u001b[0m\u001b[0;34m.\u001b[0m\u001b[0mhasnans\u001b[0m\u001b[0;34m:\u001b[0m\u001b[0;34m\u001b[0m\u001b[0;34m\u001b[0m\u001b[0m\n",
            "\u001b[0;31mKeyError\u001b[0m: 'wv (m/s)'"
          ]
        }
      ]
    },
    {
      "cell_type": "code",
      "source": [
        ""
      ],
      "metadata": {
        "id": "axafxyFtCGd7"
      },
      "execution_count": null,
      "outputs": []
    }
  ]
}