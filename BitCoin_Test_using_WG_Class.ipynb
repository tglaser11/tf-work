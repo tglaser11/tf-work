{
  "nbformat": 4,
  "nbformat_minor": 0,
  "metadata": {
    "colab": {
      "name": "BitCoin Test using WG Class.ipynb",
      "provenance": [],
      "authorship_tag": "ABX9TyNnIL4ls3BZvAFbpbGauwFa"
    },
    "kernelspec": {
      "name": "python3",
      "display_name": "Python 3"
    },
    "language_info": {
      "name": "python"
    }
  },
  "cells": [
    {
      "cell_type": "code",
      "source": [
        "import os\n",
        "import datetime\n",
        "\n",
        "\n",
        "import matplotlib as mpl\n",
        "import matplotlib.pyplot as plt\n",
        "import numpy as np\n",
        "import pandas as pd\n",
        "import seaborn as sns\n",
        "import tensorflow as tf\n",
        "\n",
        "mpl.rcParams['figure.figsize'] = (8, 6)\n",
        "mpl.rcParams['axes.grid'] = False"
      ],
      "metadata": {
        "id": "laA_Rrko1Z8-"
      },
      "execution_count": 38,
      "outputs": []
    },
    {
      "cell_type": "markdown",
      "source": [
        "### Concept"
      ],
      "metadata": {
        "id": "MCl_0DgTCd5o"
      }
    },
    {
      "cell_type": "markdown",
      "source": [
        "![raw_window_1h.png](data:image/png;base64,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)"
      ],
      "metadata": {
        "id": "kAv8vz-F3peE"
      }
    },
    {
      "cell_type": "markdown",
      "source": [
        "### Window Generator Class"
      ],
      "metadata": {
        "id": "f7_d0ne8Cguh"
      }
    },
    {
      "cell_type": "code",
      "source": [
        "# Window Generator\n",
        "# shift = offset\n",
        "\n",
        "class WindowGenerator():\n",
        "  def __init__(self, input_width, label_width, shift,\n",
        "               train_df=train_df, val_df=val_df, test_df=test_df,\n",
        "               label_columns=None):\n",
        "    # Store the raw data.\n",
        "    self.train_df = train_df\n",
        "    self.val_df = val_df\n",
        "    self.test_df = test_df\n",
        "\n",
        "    # Work out the label column indices.\n",
        "    self.label_columns = label_columns\n",
        "    if label_columns is not None:\n",
        "      self.label_columns_indices = {name: i for i, name in\n",
        "                                    enumerate(label_columns)}\n",
        "    self.column_indices = {name: i for i, name in\n",
        "                           enumerate(train_df.columns)}\n",
        "\n",
        "    # Work out the window parameters.\n",
        "    self.input_width = input_width\n",
        "    self.label_width = label_width\n",
        "    self.shift = shift\n",
        "\n",
        "    self.total_window_size = input_width + shift\n",
        "\n",
        "    self.input_slice = slice(0, input_width)\n",
        "    self.input_indices = np.arange(self.total_window_size)[self.input_slice]\n",
        "\n",
        "    self.label_start = self.total_window_size - self.label_width\n",
        "    self.labels_slice = slice(self.label_start, None)\n",
        "    self.label_indices = np.arange(self.total_window_size)[self.labels_slice]\n",
        "\n",
        "  def __repr__(self):\n",
        "    return '\\n'.join([\n",
        "        f'Total window size: {self.total_window_size}',\n",
        "        f'Input indices: {self.input_indices}',\n",
        "        f'Label indices: {self.label_indices}',\n",
        "        f'Label column name(s): {self.label_columns}'])"
      ],
      "metadata": {
        "id": "LU0b_FvH3Ftk"
      },
      "execution_count": 39,
      "outputs": []
    },
    {
      "cell_type": "code",
      "source": [
        "# add a method to create data\n",
        "\n",
        "def split_window(self, features):\n",
        "  inputs = features[:, self.input_slice, :]\n",
        "  labels = features[:, self.labels_slice, :]\n",
        "  if self.label_columns is not None:\n",
        "    labels = tf.stack(\n",
        "        [labels[:, :, self.column_indices[name]] for name in self.label_columns],\n",
        "        axis=-1)\n",
        "\n",
        "  # Slicing doesn't preserve static shape information, so set the shapes\n",
        "  # manually. This way the `tf.data.Datasets` are easier to inspect.\n",
        "  inputs.set_shape([None, self.input_width, None])\n",
        "  labels.set_shape([None, self.label_width, None])\n",
        "\n",
        "  return inputs, labels\n",
        "\n",
        "WindowGenerator.split_window = split_window"
      ],
      "metadata": {
        "id": "PTOLUFvJ4VhW"
      },
      "execution_count": 40,
      "outputs": []
    },
    {
      "cell_type": "code",
      "source": [
        "# add a method to make a TF dataset \n",
        "\n",
        "def make_dataset(self, data):\n",
        "  data = np.array(data, dtype=np.float32)\n",
        "  ds = tf.keras.utils.timeseries_dataset_from_array(\n",
        "      data=data,\n",
        "      targets=None,\n",
        "      sequence_length=self.total_window_size,\n",
        "      sequence_stride=1,\n",
        "      shuffle=True,\n",
        "      batch_size=32,)\n",
        "\n",
        "  ds = ds.map(self.split_window)\n",
        "\n",
        "  return ds\n",
        "\n",
        "WindowGenerator.make_dataset = make_dataset"
      ],
      "metadata": {
        "id": "C-P4ab-T5xQp"
      },
      "execution_count": 41,
      "outputs": []
    },
    {
      "cell_type": "code",
      "source": [
        "# Add convienent properties\n",
        "\n",
        "@property\n",
        "def train(self):\n",
        "  return self.make_dataset(self.train_df)\n",
        "\n",
        "@property\n",
        "def val(self):\n",
        "  return self.make_dataset(self.val_df)\n",
        "\n",
        "@property\n",
        "def test(self):\n",
        "  return self.make_dataset(self.test_df)\n",
        "\n",
        "@property\n",
        "def example(self):\n",
        "  \"\"\"Get and cache an example batch of `inputs, labels` for plotting.\"\"\"\n",
        "  result = getattr(self, '_example', None)\n",
        "  if result is None:\n",
        "    # No example batch was found, so get one from the `.train` dataset\n",
        "    result = next(iter(self.train))\n",
        "    # And cache it for next time\n",
        "    self._example = result\n",
        "  return result\n",
        "\n",
        "WindowGenerator.train = train\n",
        "WindowGenerator.val = val\n",
        "WindowGenerator.test = test\n",
        "WindowGenerator.example = example"
      ],
      "metadata": {
        "id": "IS2sKACX6IsY"
      },
      "execution_count": 42,
      "outputs": []
    },
    {
      "cell_type": "code",
      "source": [
        "# Add a plotting function\n",
        "\n",
        "# plot_col = thing we are trying to predict\n",
        "\n",
        "def plot(self, model=None, plot_col, max_subplots=3):\n",
        "  inputs, labels = self.example\n",
        "  plt.figure(figsize=(12, 8))\n",
        "  plot_col_index = self.column_indices[plot_col]\n",
        "  max_n = min(max_subplots, len(inputs))\n",
        "  for n in range(max_n):\n",
        "    plt.subplot(max_n, 1, n+1)\n",
        "    plt.ylabel(f'{plot_col} [normed]')\n",
        "    plt.plot(self.input_indices, inputs[n, :, plot_col_index],\n",
        "             label='Inputs', marker='.', zorder=-10)\n",
        "\n",
        "    if self.label_columns:\n",
        "      label_col_index = self.label_columns_indices.get(plot_col, None)\n",
        "    else:\n",
        "      label_col_index = plot_col_index\n",
        "\n",
        "    if label_col_index is None:\n",
        "      continue\n",
        "\n",
        "    plt.scatter(self.label_indices, labels[n, :, label_col_index],\n",
        "                edgecolors='k', label='Labels', c='#2ca02c', s=64)\n",
        "    if model is not None:\n",
        "      predictions = model(inputs)\n",
        "      plt.scatter(self.label_indices, predictions[n, :, label_col_index],\n",
        "                  marker='X', edgecolors='k', label='Predictions',\n",
        "                  c='#ff7f0e', s=64)\n",
        "\n",
        "    if n == 0:\n",
        "      plt.legend()\n",
        "\n",
        "  plt.xlabel('Time [h]')\n",
        "\n",
        "WindowGenerator.plot = plot"
      ],
      "metadata": {
        "id": "No0XN7tSBodb"
      },
      "execution_count": 43,
      "outputs": []
    },
    {
      "cell_type": "markdown",
      "source": [
        "### Run through example"
      ],
      "metadata": {
        "id": "dMSPm8CS-jMt"
      }
    },
    {
      "cell_type": "code",
      "source": [
        "# Download Bitcoin historical data from GitHub \n",
        "# Note: you'll need to select \"Raw\" to download the data in the correct format\n",
        "!wget https://raw.githubusercontent.com/mrdbourke/tensorflow-deep-learning/main/extras/BTC_USD_2013-10-01_2021-05-18-CoinDesk.csv"
      ],
      "metadata": {
        "colab": {
          "base_uri": "https://localhost:8080/"
        },
        "id": "_9vPZ897B93n",
        "outputId": "98302581-3655-4dee-f582-507f82f01483"
      },
      "execution_count": 44,
      "outputs": [
        {
          "output_type": "stream",
          "name": "stdout",
          "text": [
            "--2022-07-17 12:11:31--  https://raw.githubusercontent.com/mrdbourke/tensorflow-deep-learning/main/extras/BTC_USD_2013-10-01_2021-05-18-CoinDesk.csv\n",
            "Resolving raw.githubusercontent.com (raw.githubusercontent.com)... 185.199.108.133, 185.199.109.133, 185.199.110.133, ...\n",
            "Connecting to raw.githubusercontent.com (raw.githubusercontent.com)|185.199.108.133|:443... connected.\n",
            "HTTP request sent, awaiting response... 200 OK\n",
            "Length: 178509 (174K) [text/plain]\n",
            "Saving to: ‘BTC_USD_2013-10-01_2021-05-18-CoinDesk.csv.1’\n",
            "\n",
            "\r          BTC_USD_2   0%[                    ]       0  --.-KB/s               \rBTC_USD_2013-10-01_ 100%[===================>] 174.33K  --.-KB/s    in 0.02s   \n",
            "\n",
            "2022-07-17 12:11:31 (7.32 MB/s) - ‘BTC_USD_2013-10-01_2021-05-18-CoinDesk.csv.1’ saved [178509/178509]\n",
            "\n"
          ]
        }
      ]
    },
    {
      "cell_type": "code",
      "source": [
        "# Import with pandas \n",
        "import pandas as pd\n",
        "# Parse dates and set date column to index\n",
        "df = pd.read_csv(\"/content/BTC_USD_2013-10-01_2021-05-18-CoinDesk.csv\", \n",
        "                 parse_dates=[\"Date\"], \n",
        "                 index_col=[\"Date\"]) # parse the date column (tell pandas column 1 is a datetime)\n",
        "df.head()"
      ],
      "metadata": {
        "colab": {
          "base_uri": "https://localhost:8080/",
          "height": 238
        },
        "id": "lG3isYxkB90u",
        "outputId": "75d518fb-fc69-447c-d050-e39068fedd45"
      },
      "execution_count": 73,
      "outputs": [
        {
          "output_type": "execute_result",
          "data": {
            "text/plain": [
              "           Currency  Closing Price (USD)  24h Open (USD)  24h High (USD)  \\\n",
              "Date                                                                       \n",
              "2013-10-01      BTC            123.65499       124.30466       124.75166   \n",
              "2013-10-02      BTC            125.45500       123.65499       125.75850   \n",
              "2013-10-03      BTC            108.58483       125.45500       125.66566   \n",
              "2013-10-04      BTC            118.67466       108.58483       118.67500   \n",
              "2013-10-05      BTC            121.33866       118.67466       121.93633   \n",
              "\n",
              "            24h Low (USD)  \n",
              "Date                       \n",
              "2013-10-01      122.56349  \n",
              "2013-10-02      123.63383  \n",
              "2013-10-03       83.32833  \n",
              "2013-10-04      107.05816  \n",
              "2013-10-05      118.00566  "
            ],
            "text/html": [
              "\n",
              "  <div id=\"df-95ff66b2-aef2-475f-8a01-031c9f86cd32\">\n",
              "    <div class=\"colab-df-container\">\n",
              "      <div>\n",
              "<style scoped>\n",
              "    .dataframe tbody tr th:only-of-type {\n",
              "        vertical-align: middle;\n",
              "    }\n",
              "\n",
              "    .dataframe tbody tr th {\n",
              "        vertical-align: top;\n",
              "    }\n",
              "\n",
              "    .dataframe thead th {\n",
              "        text-align: right;\n",
              "    }\n",
              "</style>\n",
              "<table border=\"1\" class=\"dataframe\">\n",
              "  <thead>\n",
              "    <tr style=\"text-align: right;\">\n",
              "      <th></th>\n",
              "      <th>Currency</th>\n",
              "      <th>Closing Price (USD)</th>\n",
              "      <th>24h Open (USD)</th>\n",
              "      <th>24h High (USD)</th>\n",
              "      <th>24h Low (USD)</th>\n",
              "    </tr>\n",
              "    <tr>\n",
              "      <th>Date</th>\n",
              "      <th></th>\n",
              "      <th></th>\n",
              "      <th></th>\n",
              "      <th></th>\n",
              "      <th></th>\n",
              "    </tr>\n",
              "  </thead>\n",
              "  <tbody>\n",
              "    <tr>\n",
              "      <th>2013-10-01</th>\n",
              "      <td>BTC</td>\n",
              "      <td>123.65499</td>\n",
              "      <td>124.30466</td>\n",
              "      <td>124.75166</td>\n",
              "      <td>122.56349</td>\n",
              "    </tr>\n",
              "    <tr>\n",
              "      <th>2013-10-02</th>\n",
              "      <td>BTC</td>\n",
              "      <td>125.45500</td>\n",
              "      <td>123.65499</td>\n",
              "      <td>125.75850</td>\n",
              "      <td>123.63383</td>\n",
              "    </tr>\n",
              "    <tr>\n",
              "      <th>2013-10-03</th>\n",
              "      <td>BTC</td>\n",
              "      <td>108.58483</td>\n",
              "      <td>125.45500</td>\n",
              "      <td>125.66566</td>\n",
              "      <td>83.32833</td>\n",
              "    </tr>\n",
              "    <tr>\n",
              "      <th>2013-10-04</th>\n",
              "      <td>BTC</td>\n",
              "      <td>118.67466</td>\n",
              "      <td>108.58483</td>\n",
              "      <td>118.67500</td>\n",
              "      <td>107.05816</td>\n",
              "    </tr>\n",
              "    <tr>\n",
              "      <th>2013-10-05</th>\n",
              "      <td>BTC</td>\n",
              "      <td>121.33866</td>\n",
              "      <td>118.67466</td>\n",
              "      <td>121.93633</td>\n",
              "      <td>118.00566</td>\n",
              "    </tr>\n",
              "  </tbody>\n",
              "</table>\n",
              "</div>\n",
              "      <button class=\"colab-df-convert\" onclick=\"convertToInteractive('df-95ff66b2-aef2-475f-8a01-031c9f86cd32')\"\n",
              "              title=\"Convert this dataframe to an interactive table.\"\n",
              "              style=\"display:none;\">\n",
              "        \n",
              "  <svg xmlns=\"http://www.w3.org/2000/svg\" height=\"24px\"viewBox=\"0 0 24 24\"\n",
              "       width=\"24px\">\n",
              "    <path d=\"M0 0h24v24H0V0z\" fill=\"none\"/>\n",
              "    <path d=\"M18.56 5.44l.94 2.06.94-2.06 2.06-.94-2.06-.94-.94-2.06-.94 2.06-2.06.94zm-11 1L8.5 8.5l.94-2.06 2.06-.94-2.06-.94L8.5 2.5l-.94 2.06-2.06.94zm10 10l.94 2.06.94-2.06 2.06-.94-2.06-.94-.94-2.06-.94 2.06-2.06.94z\"/><path d=\"M17.41 7.96l-1.37-1.37c-.4-.4-.92-.59-1.43-.59-.52 0-1.04.2-1.43.59L10.3 9.45l-7.72 7.72c-.78.78-.78 2.05 0 2.83L4 21.41c.39.39.9.59 1.41.59.51 0 1.02-.2 1.41-.59l7.78-7.78 2.81-2.81c.8-.78.8-2.07 0-2.86zM5.41 20L4 18.59l7.72-7.72 1.47 1.35L5.41 20z\"/>\n",
              "  </svg>\n",
              "      </button>\n",
              "      \n",
              "  <style>\n",
              "    .colab-df-container {\n",
              "      display:flex;\n",
              "      flex-wrap:wrap;\n",
              "      gap: 12px;\n",
              "    }\n",
              "\n",
              "    .colab-df-convert {\n",
              "      background-color: #E8F0FE;\n",
              "      border: none;\n",
              "      border-radius: 50%;\n",
              "      cursor: pointer;\n",
              "      display: none;\n",
              "      fill: #1967D2;\n",
              "      height: 32px;\n",
              "      padding: 0 0 0 0;\n",
              "      width: 32px;\n",
              "    }\n",
              "\n",
              "    .colab-df-convert:hover {\n",
              "      background-color: #E2EBFA;\n",
              "      box-shadow: 0px 1px 2px rgba(60, 64, 67, 0.3), 0px 1px 3px 1px rgba(60, 64, 67, 0.15);\n",
              "      fill: #174EA6;\n",
              "    }\n",
              "\n",
              "    [theme=dark] .colab-df-convert {\n",
              "      background-color: #3B4455;\n",
              "      fill: #D2E3FC;\n",
              "    }\n",
              "\n",
              "    [theme=dark] .colab-df-convert:hover {\n",
              "      background-color: #434B5C;\n",
              "      box-shadow: 0px 1px 3px 1px rgba(0, 0, 0, 0.15);\n",
              "      filter: drop-shadow(0px 1px 2px rgba(0, 0, 0, 0.3));\n",
              "      fill: #FFFFFF;\n",
              "    }\n",
              "  </style>\n",
              "\n",
              "      <script>\n",
              "        const buttonEl =\n",
              "          document.querySelector('#df-95ff66b2-aef2-475f-8a01-031c9f86cd32 button.colab-df-convert');\n",
              "        buttonEl.style.display =\n",
              "          google.colab.kernel.accessAllowed ? 'block' : 'none';\n",
              "\n",
              "        async function convertToInteractive(key) {\n",
              "          const element = document.querySelector('#df-95ff66b2-aef2-475f-8a01-031c9f86cd32');\n",
              "          const dataTable =\n",
              "            await google.colab.kernel.invokeFunction('convertToInteractive',\n",
              "                                                     [key], {});\n",
              "          if (!dataTable) return;\n",
              "\n",
              "          const docLinkHtml = 'Like what you see? Visit the ' +\n",
              "            '<a target=\"_blank\" href=https://colab.research.google.com/notebooks/data_table.ipynb>data table notebook</a>'\n",
              "            + ' to learn more about interactive tables.';\n",
              "          element.innerHTML = '';\n",
              "          dataTable['output_type'] = 'display_data';\n",
              "          await google.colab.output.renderOutput(dataTable, element);\n",
              "          const docLink = document.createElement('div');\n",
              "          docLink.innerHTML = docLinkHtml;\n",
              "          element.appendChild(docLink);\n",
              "        }\n",
              "      </script>\n",
              "    </div>\n",
              "  </div>\n",
              "  "
            ]
          },
          "metadata": {},
          "execution_count": 73
        }
      ]
    },
    {
      "cell_type": "code",
      "source": [
        "# Only want closing price for each day \n",
        "df = pd.DataFrame(df[\"Closing Price (USD)\"]).rename(columns={\"Closing Price (USD)\": \"Price\"})\n",
        "df.head()"
      ],
      "metadata": {
        "colab": {
          "base_uri": "https://localhost:8080/",
          "height": 238
        },
        "id": "YnZ4veheDpYO",
        "outputId": "502a94ac-b584-43e7-82f9-f181562ca61e"
      },
      "execution_count": 74,
      "outputs": [
        {
          "output_type": "execute_result",
          "data": {
            "text/plain": [
              "                Price\n",
              "Date                 \n",
              "2013-10-01  123.65499\n",
              "2013-10-02  125.45500\n",
              "2013-10-03  108.58483\n",
              "2013-10-04  118.67466\n",
              "2013-10-05  121.33866"
            ],
            "text/html": [
              "\n",
              "  <div id=\"df-2d7f13af-3a80-45b8-bd56-00545f80a520\">\n",
              "    <div class=\"colab-df-container\">\n",
              "      <div>\n",
              "<style scoped>\n",
              "    .dataframe tbody tr th:only-of-type {\n",
              "        vertical-align: middle;\n",
              "    }\n",
              "\n",
              "    .dataframe tbody tr th {\n",
              "        vertical-align: top;\n",
              "    }\n",
              "\n",
              "    .dataframe thead th {\n",
              "        text-align: right;\n",
              "    }\n",
              "</style>\n",
              "<table border=\"1\" class=\"dataframe\">\n",
              "  <thead>\n",
              "    <tr style=\"text-align: right;\">\n",
              "      <th></th>\n",
              "      <th>Price</th>\n",
              "    </tr>\n",
              "    <tr>\n",
              "      <th>Date</th>\n",
              "      <th></th>\n",
              "    </tr>\n",
              "  </thead>\n",
              "  <tbody>\n",
              "    <tr>\n",
              "      <th>2013-10-01</th>\n",
              "      <td>123.65499</td>\n",
              "    </tr>\n",
              "    <tr>\n",
              "      <th>2013-10-02</th>\n",
              "      <td>125.45500</td>\n",
              "    </tr>\n",
              "    <tr>\n",
              "      <th>2013-10-03</th>\n",
              "      <td>108.58483</td>\n",
              "    </tr>\n",
              "    <tr>\n",
              "      <th>2013-10-04</th>\n",
              "      <td>118.67466</td>\n",
              "    </tr>\n",
              "    <tr>\n",
              "      <th>2013-10-05</th>\n",
              "      <td>121.33866</td>\n",
              "    </tr>\n",
              "  </tbody>\n",
              "</table>\n",
              "</div>\n",
              "      <button class=\"colab-df-convert\" onclick=\"convertToInteractive('df-2d7f13af-3a80-45b8-bd56-00545f80a520')\"\n",
              "              title=\"Convert this dataframe to an interactive table.\"\n",
              "              style=\"display:none;\">\n",
              "        \n",
              "  <svg xmlns=\"http://www.w3.org/2000/svg\" height=\"24px\"viewBox=\"0 0 24 24\"\n",
              "       width=\"24px\">\n",
              "    <path d=\"M0 0h24v24H0V0z\" fill=\"none\"/>\n",
              "    <path d=\"M18.56 5.44l.94 2.06.94-2.06 2.06-.94-2.06-.94-.94-2.06-.94 2.06-2.06.94zm-11 1L8.5 8.5l.94-2.06 2.06-.94-2.06-.94L8.5 2.5l-.94 2.06-2.06.94zm10 10l.94 2.06.94-2.06 2.06-.94-2.06-.94-.94-2.06-.94 2.06-2.06.94z\"/><path d=\"M17.41 7.96l-1.37-1.37c-.4-.4-.92-.59-1.43-.59-.52 0-1.04.2-1.43.59L10.3 9.45l-7.72 7.72c-.78.78-.78 2.05 0 2.83L4 21.41c.39.39.9.59 1.41.59.51 0 1.02-.2 1.41-.59l7.78-7.78 2.81-2.81c.8-.78.8-2.07 0-2.86zM5.41 20L4 18.59l7.72-7.72 1.47 1.35L5.41 20z\"/>\n",
              "  </svg>\n",
              "      </button>\n",
              "      \n",
              "  <style>\n",
              "    .colab-df-container {\n",
              "      display:flex;\n",
              "      flex-wrap:wrap;\n",
              "      gap: 12px;\n",
              "    }\n",
              "\n",
              "    .colab-df-convert {\n",
              "      background-color: #E8F0FE;\n",
              "      border: none;\n",
              "      border-radius: 50%;\n",
              "      cursor: pointer;\n",
              "      display: none;\n",
              "      fill: #1967D2;\n",
              "      height: 32px;\n",
              "      padding: 0 0 0 0;\n",
              "      width: 32px;\n",
              "    }\n",
              "\n",
              "    .colab-df-convert:hover {\n",
              "      background-color: #E2EBFA;\n",
              "      box-shadow: 0px 1px 2px rgba(60, 64, 67, 0.3), 0px 1px 3px 1px rgba(60, 64, 67, 0.15);\n",
              "      fill: #174EA6;\n",
              "    }\n",
              "\n",
              "    [theme=dark] .colab-df-convert {\n",
              "      background-color: #3B4455;\n",
              "      fill: #D2E3FC;\n",
              "    }\n",
              "\n",
              "    [theme=dark] .colab-df-convert:hover {\n",
              "      background-color: #434B5C;\n",
              "      box-shadow: 0px 1px 3px 1px rgba(0, 0, 0, 0.15);\n",
              "      filter: drop-shadow(0px 1px 2px rgba(0, 0, 0, 0.3));\n",
              "      fill: #FFFFFF;\n",
              "    }\n",
              "  </style>\n",
              "\n",
              "      <script>\n",
              "        const buttonEl =\n",
              "          document.querySelector('#df-2d7f13af-3a80-45b8-bd56-00545f80a520 button.colab-df-convert');\n",
              "        buttonEl.style.display =\n",
              "          google.colab.kernel.accessAllowed ? 'block' : 'none';\n",
              "\n",
              "        async function convertToInteractive(key) {\n",
              "          const element = document.querySelector('#df-2d7f13af-3a80-45b8-bd56-00545f80a520');\n",
              "          const dataTable =\n",
              "            await google.colab.kernel.invokeFunction('convertToInteractive',\n",
              "                                                     [key], {});\n",
              "          if (!dataTable) return;\n",
              "\n",
              "          const docLinkHtml = 'Like what you see? Visit the ' +\n",
              "            '<a target=\"_blank\" href=https://colab.research.google.com/notebooks/data_table.ipynb>data table notebook</a>'\n",
              "            + ' to learn more about interactive tables.';\n",
              "          element.innerHTML = '';\n",
              "          dataTable['output_type'] = 'display_data';\n",
              "          await google.colab.output.renderOutput(dataTable, element);\n",
              "          const docLink = document.createElement('div');\n",
              "          docLink.innerHTML = docLinkHtml;\n",
              "          element.appendChild(docLink);\n",
              "        }\n",
              "      </script>\n",
              "    </div>\n",
              "  </div>\n",
              "  "
            ]
          },
          "metadata": {},
          "execution_count": 74
        }
      ]
    },
    {
      "cell_type": "code",
      "source": [
        "# Split the data into train, validation and test sets\n",
        "\n",
        "column_indices = {name: i for i, name in enumerate(df.columns)}\n",
        "\n",
        "n = len(df)\n",
        "train_df = df[0:int(n*0.7)]\n",
        "val_df = df[int(n*0.7):int(n*0.9)]\n",
        "test_df = df[int(n*0.9):]\n",
        "\n",
        "num_features = df.shape[1]\n",
        "num_features"
      ],
      "metadata": {
        "colab": {
          "base_uri": "https://localhost:8080/"
        },
        "id": "EtFLwrgHB9yN",
        "outputId": "13331a09-6abd-44ae-8f3c-327e5e653bc1"
      },
      "execution_count": 75,
      "outputs": [
        {
          "output_type": "execute_result",
          "data": {
            "text/plain": [
              "1"
            ]
          },
          "metadata": {},
          "execution_count": 75
        }
      ]
    },
    {
      "cell_type": "code",
      "source": [
        "# Normalize the data\n",
        "'''\n",
        "train_mean = train_df.mean()\n",
        "train_std = train_df.std()\n",
        "\n",
        "train_df = (train_df - train_mean) / train_std\n",
        "val_df = (val_df - train_mean) / train_std\n",
        "test_df = (test_df - train_mean) / train_std\n",
        "'''"
      ],
      "metadata": {
        "colab": {
          "base_uri": "https://localhost:8080/",
          "height": 53
        },
        "id": "WNEk214eB9r1",
        "outputId": "9f9fe36c-1d56-43f4-eaf6-33d3faeaa521"
      },
      "execution_count": 76,
      "outputs": [
        {
          "output_type": "execute_result",
          "data": {
            "text/plain": [
              "'\\ntrain_mean = train_df.mean()\\ntrain_std = train_df.std()\\n\\ntrain_df = (train_df - train_mean) / train_std\\nval_df = (val_df - train_mean) / train_std\\ntest_df = (test_df - train_mean) / train_std\\n'"
            ],
            "application/vnd.google.colaboratory.intrinsic+json": {
              "type": "string"
            }
          },
          "metadata": {},
          "execution_count": 76
        }
      ]
    },
    {
      "cell_type": "code",
      "source": [
        "HORIZON = 7\n",
        "SHIFT = 1\n",
        "WINDOW = 7\n",
        "\n",
        "w2 = WindowGenerator(input_width=WINDOW, label_width=HORIZON, shift=SHIFT, train_df=train_df, val_df=val_df, test_df=test_df,\n",
        "                     label_columns=['Price'])\n",
        "w2"
      ],
      "metadata": {
        "colab": {
          "base_uri": "https://localhost:8080/"
        },
        "id": "NwR8pLf-CSYn",
        "outputId": "635502cc-5209-4fad-e2a0-c9b993b046d3"
      },
      "execution_count": 89,
      "outputs": [
        {
          "output_type": "execute_result",
          "data": {
            "text/plain": [
              "Total window size: 8\n",
              "Input indices: [0 1 2 3 4 5 6]\n",
              "Label indices: [1 2 3 4 5 6 7]\n",
              "Label column name(s): ['Price']"
            ]
          },
          "metadata": {},
          "execution_count": 89
        }
      ]
    },
    {
      "cell_type": "code",
      "source": [
        "w2.plot(plot_col='Price')"
      ],
      "metadata": {
        "colab": {
          "base_uri": "https://localhost:8080/",
          "height": 497
        },
        "id": "Jf-lsTXzCSTV",
        "outputId": "bb01acd1-313a-405d-bccb-a36808b8095b"
      },
      "execution_count": 90,
      "outputs": [
        {
          "output_type": "display_data",
          "data": {
            "text/plain": [
              "<Figure size 864x576 with 3 Axes>"
            ],
            "image/png": "[encoded data removed]"
          },
          "metadata": {
            "needs_background": "light"
          }
        }
      ]
    },
    {
      "cell_type": "code",
      "source": [
        "# Each element is an (inputs, label) pair.\n",
        "w2.train.element_spec"
      ],
      "metadata": {
        "colab": {
          "base_uri": "https://localhost:8080/"
        },
        "id": "peXjUTbOCSNE",
        "outputId": "72bd75eb-edbc-490d-ff06-9bb4fd390c6c"
      },
      "execution_count": 91,
      "outputs": [
        {
          "output_type": "execute_result",
          "data": {
            "text/plain": [
              "(TensorSpec(shape=(None, 7, 1), dtype=tf.float32, name=None),\n",
              " TensorSpec(shape=(None, 7, 1), dtype=tf.float32, name=None))"
            ]
          },
          "metadata": {},
          "execution_count": 91
        }
      ]
    },
    {
      "cell_type": "code",
      "source": [
        "for example_inputs, example_labels in w2.train.take(1):\n",
        "  print(f'Inputs shape (batch, time, features): {example_inputs.shape}')\n",
        "  print(f'Labels shape (batch, time, features): {example_labels.shape}')"
      ],
      "metadata": {
        "colab": {
          "base_uri": "https://localhost:8080/"
        },
        "id": "ZxedGZ7kCSJg",
        "outputId": "ca7c350a-779e-43fa-bd91-12033fd83134"
      },
      "execution_count": 92,
      "outputs": [
        {
          "output_type": "stream",
          "name": "stdout",
          "text": [
            "Inputs shape (batch, time, features): (32, 7, 1)\n",
            "Labels shape (batch, time, features): (32, 7, 1)\n"
          ]
        }
      ]
    },
    {
      "cell_type": "markdown",
      "source": [
        "### Model"
      ],
      "metadata": {
        "id": "8X9m7dlVFeT1"
      }
    },
    {
      "cell_type": "code",
      "source": [
        "MAX_EPOCHS = 20\n",
        "\n",
        "def compile_and_fit(model, window, patience=2):\n",
        "  early_stopping = tf.keras.callbacks.EarlyStopping(monitor='val_loss',\n",
        "                                                    patience=patience,\n",
        "                                                    mode='min')\n",
        "\n",
        "  model.compile(loss=tf.keras.losses.MeanAbsoluteError(),\n",
        "                optimizer=tf.keras.optimizers.Adam(),\n",
        "                metrics=[tf.keras.metrics.MeanAbsoluteError()])\n",
        "\n",
        "  history = model.fit(window.train, epochs=MAX_EPOCHS,\n",
        "                      validation_data=window.val,\n",
        "                      callbacks=[early_stopping])\n",
        "  return history"
      ],
      "metadata": {
        "id": "NE6zvW6JF-Mr"
      },
      "execution_count": 93,
      "outputs": []
    },
    {
      "cell_type": "code",
      "source": [
        "tf.random.set_seed(42)\n",
        "\n",
        "# Create model (same as model_1 except with different data input size)\n",
        "model_3 = tf.keras.Sequential([\n",
        "  tf.keras.layers.Dense(128, activation=\"relu\"),\n",
        "  tf.keras.layers.Dense(HORIZON)\n",
        "], name=\"model_3_dense\")\n",
        "\n"
      ],
      "metadata": {
        "id": "3M7LD5enB9gN"
      },
      "execution_count": 94,
      "outputs": []
    },
    {
      "cell_type": "code",
      "source": [
        "history = compile_and_fit(model_3, w2)\n"
      ],
      "metadata": {
        "colab": {
          "base_uri": "https://localhost:8080/"
        },
        "id": "0VskHHoc6uuC",
        "outputId": "9025d119-08ff-4151-d7ee-f10a8262661b"
      },
      "execution_count": 95,
      "outputs": [
        {
          "output_type": "stream",
          "name": "stdout",
          "text": [
            "Epoch 1/20\n",
            "61/61 [==============================] - 1s 12ms/step - loss: 1766.6022 - mean_absolute_error: 1766.6028 - val_loss: 2750.6414 - val_mean_absolute_error: 2750.6416\n",
            "Epoch 2/20\n",
            "61/61 [==============================] - 1s 9ms/step - loss: 242.0367 - mean_absolute_error: 242.0367 - val_loss: 227.1066 - val_mean_absolute_error: 227.1066\n",
            "Epoch 3/20\n",
            "61/61 [==============================] - 1s 9ms/step - loss: 90.3063 - mean_absolute_error: 90.3063 - val_loss: 204.9597 - val_mean_absolute_error: 204.9597\n",
            "Epoch 4/20\n",
            "61/61 [==============================] - 1s 10ms/step - loss: 89.9391 - mean_absolute_error: 89.9391 - val_loss: 204.7511 - val_mean_absolute_error: 204.7511\n",
            "Epoch 5/20\n",
            "61/61 [==============================] - 1s 9ms/step - loss: 89.7292 - mean_absolute_error: 89.7292 - val_loss: 208.0527 - val_mean_absolute_error: 208.0528\n",
            "Epoch 6/20\n",
            "61/61 [==============================] - 1s 10ms/step - loss: 89.9154 - mean_absolute_error: 89.9154 - val_loss: 204.6195 - val_mean_absolute_error: 204.6195\n",
            "Epoch 7/20\n",
            "61/61 [==============================] - 1s 10ms/step - loss: 89.9579 - mean_absolute_error: 89.9579 - val_loss: 205.3452 - val_mean_absolute_error: 205.3453\n",
            "Epoch 8/20\n",
            "61/61 [==============================] - 1s 10ms/step - loss: 89.9283 - mean_absolute_error: 89.9283 - val_loss: 205.0387 - val_mean_absolute_error: 205.0387\n"
          ]
        }
      ]
    },
    {
      "cell_type": "code",
      "source": [
        "val_performance = {}\n",
        "performance = {}"
      ],
      "metadata": {
        "id": "GZYUO8k0HTER"
      },
      "execution_count": 96,
      "outputs": []
    },
    {
      "cell_type": "code",
      "source": [
        "val_performance['Dense'] = model_3.evaluate(w2.val)\n",
        "performance['Dense'] =  model_3.evaluate(w2.test, verbose=0) "
      ],
      "metadata": {
        "colab": {
          "base_uri": "https://localhost:8080/"
        },
        "id": "tMLocsuY-UKC",
        "outputId": "0779ad07-9bfb-42fb-f2a7-394eb0aed948"
      },
      "execution_count": 97,
      "outputs": [
        {
          "output_type": "stream",
          "name": "stdout",
          "text": [
            "18/18 [==============================] - 0s 5ms/step - loss: 205.0387 - mean_absolute_error: 205.0387\n"
          ]
        }
      ]
    },
    {
      "cell_type": "code",
      "source": [
        "print('Input shape:', w2.example[0].shape)\n",
        "print('Output shape:',  model_3(w2.example[0]).shape)"
      ],
      "metadata": {
        "colab": {
          "base_uri": "https://localhost:8080/"
        },
        "id": "BnOB3pyAIW1P",
        "outputId": "8f14f5c5-f564-490d-a01f-7379638a7c5c"
      },
      "execution_count": 98,
      "outputs": [
        {
          "output_type": "stream",
          "name": "stdout",
          "text": [
            "Input shape: (32, 7, 1)\n",
            "Output shape: (32, 7, 7)\n"
          ]
        }
      ]
    },
    {
      "cell_type": "code",
      "source": [
        "pd.DataFrame(history.history).plot(figsize=(8, 5))"
      ],
      "metadata": {
        "colab": {
          "base_uri": "https://localhost:8080/",
          "height": 338
        },
        "id": "JP7wOvmaIn-S",
        "outputId": "e34b7daa-986a-429b-a789-9d23821d97bc"
      },
      "execution_count": 99,
      "outputs": [
        {
          "output_type": "execute_result",
          "data": {
            "text/plain": [
              "<matplotlib.axes._subplots.AxesSubplot at 0x7f080a1f7490>"
            ]
          },
          "metadata": {},
          "execution_count": 99
        },
        {
          "output_type": "display_data",
          "data": {
            "text/plain": [
              "<Figure size 576x360 with 1 Axes>"
            ],
            "image/png": "[encoded data removed]"
          },
          "metadata": {
            "needs_background": "light"
          }
        }
      ]
    },
    {
      "cell_type": "code",
      "source": [
        "w2.plot(model_3, plot_col='Price')"
      ],
      "metadata": {
        "colab": {
          "base_uri": "https://localhost:8080/",
          "height": 497
        },
        "id": "iEddssvx-ZnU",
        "outputId": "64427b77-28ca-41fe-9a65-64279fa1e36c"
      },
      "execution_count": 100,
      "outputs": [
        {
          "output_type": "display_data",
          "data": {
            "text/plain": [
              "<Figure size 864x576 with 3 Axes>"
            ],
            "image/png": "[encoded data removed]"
          },
          "metadata": {
            "needs_background": "light"
          }
        }
      ]
    },
    {
      "cell_type": "code",
      "source": [
        ""
      ],
      "metadata": {
        "colab": {
          "base_uri": "https://localhost:8080/",
          "height": 514
        },
        "id": "4Ucy8bVo-iGT",
        "outputId": "2297b452-043e-4c45-e9fb-dfd244feb3f1"
      },
      "execution_count": 24,
      "outputs": [
        {
          "output_type": "error",
          "ename": "KeyError",
          "evalue": "ignored",
          "traceback": [
            "\u001b[0;31m---------------------------------------------------------------------------\u001b[0m",
            "\u001b[0;31mKeyError\u001b[0m                                  Traceback (most recent call last)",
            "\u001b[0;32m/usr/local/lib/python3.7/dist-packages/pandas/core/indexes/base.py\u001b[0m in \u001b[0;36mget_loc\u001b[0;34m(self, key, method, tolerance)\u001b[0m\n\u001b[1;32m   3360\u001b[0m             \u001b[0;32mtry\u001b[0m\u001b[0;34m:\u001b[0m\u001b[0;34m\u001b[0m\u001b[0;34m\u001b[0m\u001b[0m\n\u001b[0;32m-> 3361\u001b[0;31m                 \u001b[0;32mreturn\u001b[0m \u001b[0mself\u001b[0m\u001b[0;34m.\u001b[0m\u001b[0m_engine\u001b[0m\u001b[0;34m.\u001b[0m\u001b[0mget_loc\u001b[0m\u001b[0;34m(\u001b[0m\u001b[0mcasted_key\u001b[0m\u001b[0;34m)\u001b[0m\u001b[0;34m\u001b[0m\u001b[0;34m\u001b[0m\u001b[0m\n\u001b[0m\u001b[1;32m   3362\u001b[0m             \u001b[0;32mexcept\u001b[0m \u001b[0mKeyError\u001b[0m \u001b[0;32mas\u001b[0m \u001b[0merr\u001b[0m\u001b[0;34m:\u001b[0m\u001b[0;34m\u001b[0m\u001b[0;34m\u001b[0m\u001b[0m\n",
            "\u001b[0;32m/usr/local/lib/python3.7/dist-packages/pandas/_libs/index.pyx\u001b[0m in \u001b[0;36mpandas._libs.index.IndexEngine.get_loc\u001b[0;34m()\u001b[0m\n",
            "\u001b[0;32m/usr/local/lib/python3.7/dist-packages/pandas/_libs/index.pyx\u001b[0m in \u001b[0;36mpandas._libs.index.IndexEngine.get_loc\u001b[0;34m()\u001b[0m\n",
            "\u001b[0;32mpandas/_libs/hashtable_class_helper.pxi\u001b[0m in \u001b[0;36mpandas._libs.hashtable.PyObjectHashTable.get_item\u001b[0;34m()\u001b[0m\n",
            "\u001b[0;32mpandas/_libs/hashtable_class_helper.pxi\u001b[0m in \u001b[0;36mpandas._libs.hashtable.PyObjectHashTable.get_item\u001b[0;34m()\u001b[0m\n",
            "\u001b[0;31mKeyError\u001b[0m: 'wv (m/s)'",
            "\nThe above exception was the direct cause of the following exception:\n",
            "\u001b[0;31mKeyError\u001b[0m                                  Traceback (most recent call last)",
            "\u001b[0;32m<ipython-input-24-7ed1b6eca947>\u001b[0m in \u001b[0;36m<module>\u001b[0;34m()\u001b[0m\n\u001b[1;32m      1\u001b[0m \u001b[0;31m# Replace bad data\u001b[0m\u001b[0;34m\u001b[0m\u001b[0;34m\u001b[0m\u001b[0;34m\u001b[0m\u001b[0m\n\u001b[0;32m----> 2\u001b[0;31m \u001b[0mwv\u001b[0m \u001b[0;34m=\u001b[0m \u001b[0mdf\u001b[0m\u001b[0;34m[\u001b[0m\u001b[0;34m'wv (m/s)'\u001b[0m\u001b[0;34m]\u001b[0m\u001b[0;34m\u001b[0m\u001b[0;34m\u001b[0m\u001b[0m\n\u001b[0m\u001b[1;32m      3\u001b[0m \u001b[0mbad_wv\u001b[0m \u001b[0;34m=\u001b[0m \u001b[0mwv\u001b[0m \u001b[0;34m==\u001b[0m \u001b[0;34m-\u001b[0m\u001b[0;36m9999.0\u001b[0m\u001b[0;34m\u001b[0m\u001b[0;34m\u001b[0m\u001b[0m\n\u001b[1;32m      4\u001b[0m \u001b[0mwv\u001b[0m\u001b[0;34m[\u001b[0m\u001b[0mbad_wv\u001b[0m\u001b[0;34m]\u001b[0m \u001b[0;34m=\u001b[0m \u001b[0;36m0.0\u001b[0m\u001b[0;34m\u001b[0m\u001b[0;34m\u001b[0m\u001b[0m\n\u001b[1;32m      5\u001b[0m \u001b[0;34m\u001b[0m\u001b[0m\n",
            "\u001b[0;32m/usr/local/lib/python3.7/dist-packages/pandas/core/frame.py\u001b[0m in \u001b[0;36m__getitem__\u001b[0;34m(self, key)\u001b[0m\n\u001b[1;32m   3456\u001b[0m             \u001b[0;32mif\u001b[0m \u001b[0mself\u001b[0m\u001b[0;34m.\u001b[0m\u001b[0mcolumns\u001b[0m\u001b[0;34m.\u001b[0m\u001b[0mnlevels\u001b[0m \u001b[0;34m>\u001b[0m \u001b[0;36m1\u001b[0m\u001b[0;34m:\u001b[0m\u001b[0;34m\u001b[0m\u001b[0;34m\u001b[0m\u001b[0m\n\u001b[1;32m   3457\u001b[0m                 \u001b[0;32mreturn\u001b[0m \u001b[0mself\u001b[0m\u001b[0;34m.\u001b[0m\u001b[0m_getitem_multilevel\u001b[0m\u001b[0;34m(\u001b[0m\u001b[0mkey\u001b[0m\u001b[0;34m)\u001b[0m\u001b[0;34m\u001b[0m\u001b[0;34m\u001b[0m\u001b[0m\n\u001b[0;32m-> 3458\u001b[0;31m             \u001b[0mindexer\u001b[0m \u001b[0;34m=\u001b[0m \u001b[0mself\u001b[0m\u001b[0;34m.\u001b[0m\u001b[0mcolumns\u001b[0m\u001b[0;34m.\u001b[0m\u001b[0mget_loc\u001b[0m\u001b[0;34m(\u001b[0m\u001b[0mkey\u001b[0m\u001b[0;34m)\u001b[0m\u001b[0;34m\u001b[0m\u001b[0;34m\u001b[0m\u001b[0m\n\u001b[0m\u001b[1;32m   3459\u001b[0m             \u001b[0;32mif\u001b[0m \u001b[0mis_integer\u001b[0m\u001b[0;34m(\u001b[0m\u001b[0mindexer\u001b[0m\u001b[0;34m)\u001b[0m\u001b[0;34m:\u001b[0m\u001b[0;34m\u001b[0m\u001b[0;34m\u001b[0m\u001b[0m\n\u001b[1;32m   3460\u001b[0m                 \u001b[0mindexer\u001b[0m \u001b[0;34m=\u001b[0m \u001b[0;34m[\u001b[0m\u001b[0mindexer\u001b[0m\u001b[0;34m]\u001b[0m\u001b[0;34m\u001b[0m\u001b[0;34m\u001b[0m\u001b[0m\n",
            "\u001b[0;32m/usr/local/lib/python3.7/dist-packages/pandas/core/indexes/base.py\u001b[0m in \u001b[0;36mget_loc\u001b[0;34m(self, key, method, tolerance)\u001b[0m\n\u001b[1;32m   3361\u001b[0m                 \u001b[0;32mreturn\u001b[0m \u001b[0mself\u001b[0m\u001b[0;34m.\u001b[0m\u001b[0m_engine\u001b[0m\u001b[0;34m.\u001b[0m\u001b[0mget_loc\u001b[0m\u001b[0;34m(\u001b[0m\u001b[0mcasted_key\u001b[0m\u001b[0;34m)\u001b[0m\u001b[0;34m\u001b[0m\u001b[0;34m\u001b[0m\u001b[0m\n\u001b[1;32m   3362\u001b[0m             \u001b[0;32mexcept\u001b[0m \u001b[0mKeyError\u001b[0m \u001b[0;32mas\u001b[0m \u001b[0merr\u001b[0m\u001b[0;34m:\u001b[0m\u001b[0;34m\u001b[0m\u001b[0;34m\u001b[0m\u001b[0m\n\u001b[0;32m-> 3363\u001b[0;31m                 \u001b[0;32mraise\u001b[0m \u001b[0mKeyError\u001b[0m\u001b[0;34m(\u001b[0m\u001b[0mkey\u001b[0m\u001b[0;34m)\u001b[0m \u001b[0;32mfrom\u001b[0m \u001b[0merr\u001b[0m\u001b[0;34m\u001b[0m\u001b[0;34m\u001b[0m\u001b[0m\n\u001b[0m\u001b[1;32m   3364\u001b[0m \u001b[0;34m\u001b[0m\u001b[0m\n\u001b[1;32m   3365\u001b[0m         \u001b[0;32mif\u001b[0m \u001b[0mis_scalar\u001b[0m\u001b[0;34m(\u001b[0m\u001b[0mkey\u001b[0m\u001b[0;34m)\u001b[0m \u001b[0;32mand\u001b[0m \u001b[0misna\u001b[0m\u001b[0;34m(\u001b[0m\u001b[0mkey\u001b[0m\u001b[0;34m)\u001b[0m \u001b[0;32mand\u001b[0m \u001b[0;32mnot\u001b[0m \u001b[0mself\u001b[0m\u001b[0;34m.\u001b[0m\u001b[0mhasnans\u001b[0m\u001b[0;34m:\u001b[0m\u001b[0;34m\u001b[0m\u001b[0;34m\u001b[0m\u001b[0m\n",
            "\u001b[0;31mKeyError\u001b[0m: 'wv (m/s)'"
          ]
        }
      ]
    },
    {
      "cell_type": "code",
      "source": [
        ""
      ],
      "metadata": {
        "id": "axafxyFtCGd7"
      },
      "execution_count": null,
      "outputs": []
    }
  ]
}