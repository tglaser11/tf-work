{
  "nbformat": 4,
  "nbformat_minor": 0,
  "metadata": {
    "colab": {
      "name": "imdb_classification.ipynb",
      "provenance": [],
      "authorship_tag": "ABX9TyNKJzXUDRKiSDpAoSDmkkjp"
    },
    "kernelspec": {
      "name": "python3",
      "display_name": "Python 3"
    },
    "language_info": {
      "name": "python"
    },
    "accelerator": "TPU",
    "gpuClass": "standard"
  },
  "cells": [
    {
      "cell_type": "code",
      "execution_count": 62,
      "metadata": {
        "id": "W9AlGtahthji"
      },
      "outputs": [],
      "source": [
        "import matplotlib.pyplot as plt\n",
        "import numpy as np\n",
        "import tensorflow as tf\n",
        "import tensorflow.keras.layers as layers\n",
        "\n",
        "import tensorflow_datasets as tfds"
      ]
    },
    {
      "cell_type": "code",
      "source": [
        "(train_data, test_data), ds_info = tfds.load(name=\"imdb_reviews\", # target dataset to get from TFDS\n",
        "        split=[\"train\", \"test\"], # what splits of data should we get?\n",
        "        shuffle_files=True, # shuffle files on download?\n",
        "        as_supervised=True, # download data in tuple format (sample, label),\n",
        "        with_info=True) # if so, tfds.load() returns tuple (data, ds_info)"
      ],
      "metadata": {
        "id": "Q6erDyfYuJGH"
      },
      "execution_count": 63,
      "outputs": []
    },
    {
      "cell_type": "code",
      "source": [
        "ds_info.features\n"
      ],
      "metadata": {
        "colab": {
          "base_uri": "https://localhost:8080/"
        },
        "id": "HiKYMthmuJ-Y",
        "outputId": "f7bc2ef1-0b87-41b7-9248-fa9dbf909017"
      },
      "execution_count": 64,
      "outputs": [
        {
          "output_type": "execute_result",
          "data": {
            "text/plain": [
              "FeaturesDict({\n",
              "    'label': ClassLabel(shape=(), dtype=tf.int64, num_classes=2),\n",
              "    'text': Text(shape=(), dtype=tf.string),\n",
              "})"
            ]
          },
          "metadata": {},
          "execution_count": 64
        }
      ]
    },
    {
      "cell_type": "code",
      "source": [
        "sample = train_data.take(1)\n",
        "sample"
      ],
      "metadata": {
        "colab": {
          "base_uri": "https://localhost:8080/"
        },
        "id": "csnIV1lpC3lc",
        "outputId": "80bab8a0-0c47-4383-f121-5f0f7f122a55"
      },
      "execution_count": 65,
      "outputs": [
        {
          "output_type": "execute_result",
          "data": {
            "text/plain": [
              "<TakeDataset element_spec=(TensorSpec(shape=(), dtype=tf.string, name=None), TensorSpec(shape=(), dtype=tf.int64, name=None))>"
            ]
          },
          "metadata": {},
          "execution_count": 65
        }
      ]
    },
    {
      "cell_type": "code",
      "source": [
        "for a, b in sample:\n",
        "  label = b\n",
        "  text = a.numpy().split()\n",
        "  print(label, text)\n"
      ],
      "metadata": {
        "colab": {
          "base_uri": "https://localhost:8080/"
        },
        "id": "tLg2ffgIusrR",
        "outputId": "7159dd80-3ba5-43a1-ae8e-c404637dc914"
      },
      "execution_count": 66,
      "outputs": [
        {
          "output_type": "stream",
          "name": "stdout",
          "text": [
            "tf.Tensor(0, shape=(), dtype=int64) [b'This', b'was', b'an', b'absolutely', b'terrible', b'movie.', b\"Don't\", b'be', b'lured', b'in', b'by', b'Christopher', b'Walken', b'or', b'Michael', b'Ironside.', b'Both', b'are', b'great', b'actors,', b'but', b'this', b'must', b'simply', b'be', b'their', b'worst', b'role', b'in', b'history.', b'Even', b'their', b'great', b'acting', b'could', b'not', b'redeem', b'this', b\"movie's\", b'ridiculous', b'storyline.', b'This', b'movie', b'is', b'an', b'early', b'nineties', b'US', b'propaganda', b'piece.', b'The', b'most', b'pathetic', b'scenes', b'were', b'those', b'when', b'the', b'Columbian', b'rebels', b'were', b'making', b'their', b'cases', b'for', b'revolutions.', b'Maria', b'Conchita', b'Alonso', b'appeared', b'phony,', b'and', b'her', b'pseudo-love', b'affair', b'with', b'Walken', b'was', b'nothing', b'but', b'a', b'pathetic', b'emotional', b'plug', b'in', b'a', b'movie', b'that', b'was', b'devoid', b'of', b'any', b'real', b'meaning.', b'I', b'am', b'disappointed', b'that', b'there', b'are', b'movies', b'like', b'this,', b'ruining', b\"actor's\", b'like', b'Christopher', b\"Walken's\", b'good', b'name.', b'I', b'could', b'barely', b'sit', b'through', b'it.']\n"
          ]
        }
      ]
    },
    {
      "cell_type": "code",
      "source": [
        ""
      ],
      "metadata": {
        "id": "OOyqkIvbRWTO"
      },
      "execution_count": 66,
      "outputs": []
    },
    {
      "cell_type": "code",
      "source": [
        "# Find average number of tokens (words) in training tensorflow dataset\n",
        "round(sum([len(a.numpy().split()) for a, b in train_data])/len(train_data))\n",
        "\n"
      ],
      "metadata": {
        "colab": {
          "base_uri": "https://localhost:8080/"
        },
        "id": "wjnQVjo5zW0D",
        "outputId": "8373bbc4-8359-4e99-e319-d6b22aaa3f90"
      },
      "execution_count": 67,
      "outputs": [
        {
          "output_type": "execute_result",
          "data": {
            "text/plain": [
              "234"
            ]
          },
          "metadata": {},
          "execution_count": 67
        }
      ]
    },
    {
      "cell_type": "code",
      "source": [
        "BUFFER_SIZE = 10000\n",
        "BATCH_SIZE = 64\n",
        "\n",
        "train_data = train_data.shuffle(BUFFER_SIZE).batch(BATCH_SIZE).prefetch(tf.data.AUTOTUNE)\n",
        "test_data = test_data.batch(BATCH_SIZE).prefetch(tf.data.AUTOTUNE)"
      ],
      "metadata": {
        "id": "T2_oDc9LRvtF"
      },
      "execution_count": 68,
      "outputs": []
    },
    {
      "cell_type": "markdown",
      "source": [
        ""
      ],
      "metadata": {
        "id": "qUZVYhodzWiz"
      }
    },
    {
      "cell_type": "code",
      "source": [
        "from tensorflow.keras.layers import TextVectorization\n",
        "\n",
        "text_vectorizer = TextVectorization(max_tokens=20000,\n",
        "                                    output_mode=\"int\",\n",
        "                                    output_sequence_length=300)"
      ],
      "metadata": {
        "id": "zP_rDbqgvuBv"
      },
      "execution_count": 69,
      "outputs": []
    },
    {
      "cell_type": "code",
      "source": [
        "text_vectorizer.adapt(train_data.map(lambda text, label: text))\n",
        "len(text_vectorizer.get_vocabulary())"
      ],
      "metadata": {
        "colab": {
          "base_uri": "https://localhost:8080/"
        },
        "id": "2tD05ShPN2A4",
        "outputId": "48d00140-a2f3-4cbc-81ac-999a3f775a50"
      },
      "execution_count": 70,
      "outputs": [
        {
          "output_type": "execute_result",
          "data": {
            "text/plain": [
              "20000"
            ]
          },
          "metadata": {},
          "execution_count": 70
        }
      ]
    },
    {
      "cell_type": "code",
      "source": [
        "embedding = layers.Embedding(input_dim=len(text_vectorizer.get_vocabulary()), # set input shape\n",
        "                             output_dim=128, # set size of embedding vector\n",
        "                             embeddings_initializer=\"uniform\", # default, intialize randomly\n",
        "                             # input_length=234, # how long is each input\n",
        "                             name=\"embedding_1\") "
      ],
      "metadata": {
        "id": "9C6cthhQ1aoJ"
      },
      "execution_count": 71,
      "outputs": []
    },
    {
      "cell_type": "code",
      "source": [
        ""
      ],
      "metadata": {
        "id": "-RkuEpDc2MfO"
      },
      "execution_count": 71,
      "outputs": []
    },
    {
      "cell_type": "code",
      "source": [
        "'''\n",
        "model = tf.keras.Sequential([\n",
        "     text_vectorizer,\n",
        "     embedding,\n",
        "     layers.Bidirectional(layers.LSTM(64)),\n",
        "     layers.Dense(64, activation='relu'),\n",
        "     layers.Dense(1) \n",
        "                             \n",
        "])\n",
        "'''"
      ],
      "metadata": {
        "colab": {
          "base_uri": "https://localhost:8080/",
          "height": 73
        },
        "id": "H8MfZNvVHyeV",
        "outputId": "10047402-2fa7-482c-e69c-ec9f7d8c8f08"
      },
      "execution_count": 72,
      "outputs": [
        {
          "output_type": "execute_result",
          "data": {
            "text/plain": [
              "\"\\nmodel = tf.keras.Sequential([\\n     text_vectorizer,\\n     embedding,\\n     layers.Bidirectional(layers.LSTM(64)),\\n     layers.Dense(64, activation='relu'),\\n     layers.Dense(1) \\n                             \\n])\\n\""
            ],
            "application/vnd.google.colaboratory.intrinsic+json": {
              "type": "string"
            }
          },
          "metadata": {},
          "execution_count": 72
        }
      ]
    },
    {
      "cell_type": "code",
      "source": [
        ""
      ],
      "metadata": {
        "id": "vhYDoTA6Obmc"
      },
      "execution_count": 72,
      "outputs": []
    },
    {
      "cell_type": "code",
      "source": [
        "# Create LSTM model\n",
        "inputs = layers.Input(shape=(1,), dtype=\"string\")\n",
        "x = text_vectorizer(inputs)\n",
        "x = embedding(x)\n",
        "print(x.shape)\n",
        "# x = layers.LSTM(64, return_sequences=True)(x) # return vector for each word in the Tweet (you can stack RNN cells as long as return_sequences=True)\n",
        "x = layers.LSTM(64)(x) # return vector for whole sequence\n",
        "print(x.shape)\n",
        "x = layers.Dense(64, activation=\"relu\")(x) # optional dense layer on top of output of LSTM cell\n",
        "outputs = layers.Dense(1, activation=\"sigmoid\")(x)\n",
        "model = tf.keras.Model(inputs, outputs, name=\"model_2_LSTM\")"
      ],
      "metadata": {
        "colab": {
          "base_uri": "https://localhost:8080/"
        },
        "id": "3v-pibN-LLHS",
        "outputId": "d76b452a-789d-46a2-d216-80e4ab4d20b0"
      },
      "execution_count": 73,
      "outputs": [
        {
          "output_type": "stream",
          "name": "stdout",
          "text": [
            "(None, 300, 128)\n",
            "(None, 64)\n"
          ]
        }
      ]
    },
    {
      "cell_type": "code",
      "source": [
        "model.compile(optimizer='adam',\n",
        "                  loss='binary_crossentropy', metrics=['accuracy'])"
      ],
      "metadata": {
        "id": "Tr3M2vgmJh91"
      },
      "execution_count": 74,
      "outputs": []
    },
    {
      "cell_type": "code",
      "source": [
        "\n",
        "## Callbacks\n",
        "\n",
        "# End training if no improvement seen\n",
        "early_stop_callbk = tf.keras.callbacks.EarlyStopping(monitor='val_loss', min_delta=0.01, patience=5)\n",
        "\n",
        "# Optimize LR\n",
        "opt_LR_callbk = tf.keras.callbacks.ReduceLROnPlateau(\n",
        "    monitor='val_loss',\n",
        "    factor=0.1,\n",
        "    patience=2\n",
        ")\n"
      ],
      "metadata": {
        "id": "KIstnG8wPE5q"
      },
      "execution_count": 75,
      "outputs": []
    },
    {
      "cell_type": "code",
      "source": [
        "history = model.fit(train_data, epochs=10,\n",
        "                    validation_data=test_data,\n",
        "                    validation_steps=30,\n",
        "                    callbacks=[early_stop_callbk, opt_LR_callbk])"
      ],
      "metadata": {
        "colab": {
          "base_uri": "https://localhost:8080/"
        },
        "id": "1n3xkzzSJnJ4",
        "outputId": "71d880a3-0694-4b7c-dbdd-bef8a48a05b3"
      },
      "execution_count": 76,
      "outputs": [
        {
          "output_type": "stream",
          "name": "stdout",
          "text": [
            "Epoch 1/10\n",
            "391/391 [==============================] - 150s 376ms/step - loss: 0.6912 - accuracy: 0.5177 - val_loss: 0.6870 - val_accuracy: 0.5141 - lr: 0.0010\n",
            "Epoch 2/10\n",
            "391/391 [==============================] - 175s 445ms/step - loss: 0.6522 - accuracy: 0.6087 - val_loss: 0.6648 - val_accuracy: 0.6187 - lr: 0.0010\n",
            "Epoch 3/10\n",
            "391/391 [==============================] - 173s 440ms/step - loss: 0.6049 - accuracy: 0.6655 - val_loss: 0.6410 - val_accuracy: 0.6734 - lr: 0.0010\n",
            "Epoch 4/10\n",
            "391/391 [==============================] - 171s 436ms/step - loss: 0.5647 - accuracy: 0.6856 - val_loss: 0.5583 - val_accuracy: 0.7437 - lr: 0.0010\n",
            "Epoch 5/10\n",
            "391/391 [==============================] - 172s 440ms/step - loss: 0.3486 - accuracy: 0.8467 - val_loss: 0.3800 - val_accuracy: 0.8443 - lr: 0.0010\n",
            "Epoch 6/10\n",
            "391/391 [==============================] - 172s 439ms/step - loss: 0.1922 - accuracy: 0.9307 - val_loss: 0.4012 - val_accuracy: 0.8557 - lr: 0.0010\n",
            "Epoch 7/10\n",
            "391/391 [==============================] - 171s 437ms/step - loss: 0.1185 - accuracy: 0.9627 - val_loss: 0.4357 - val_accuracy: 0.8568 - lr: 0.0010\n",
            "Epoch 8/10\n",
            "391/391 [==============================] - 173s 441ms/step - loss: 0.0646 - accuracy: 0.9836 - val_loss: 0.5038 - val_accuracy: 0.8521 - lr: 1.0000e-04\n",
            "Epoch 9/10\n",
            "391/391 [==============================] - 172s 439ms/step - loss: 0.0573 - accuracy: 0.9859 - val_loss: 0.5376 - val_accuracy: 0.8536 - lr: 1.0000e-04\n",
            "Epoch 10/10\n",
            "391/391 [==============================] - 172s 439ms/step - loss: 0.0515 - accuracy: 0.9882 - val_loss: 0.5422 - val_accuracy: 0.8526 - lr: 1.0000e-05\n"
          ]
        }
      ]
    },
    {
      "cell_type": "code",
      "source": [
        "model.summary()\n"
      ],
      "metadata": {
        "colab": {
          "base_uri": "https://localhost:8080/"
        },
        "id": "ExF9ctcSKaTb",
        "outputId": "f89937d2-7a4e-4623-a132-86f5f541d1dd"
      },
      "execution_count": 77,
      "outputs": [
        {
          "output_type": "stream",
          "name": "stdout",
          "text": [
            "Model: \"model_2_LSTM\"\n",
            "_________________________________________________________________\n",
            " Layer (type)                Output Shape              Param #   \n",
            "=================================================================\n",
            " input_5 (InputLayer)        [(None, 1)]               0         \n",
            "                                                                 \n",
            " text_vectorization_1 (TextV  (None, 300)              0         \n",
            " ectorization)                                                   \n",
            "                                                                 \n",
            " embedding_1 (Embedding)     (None, 300, 128)          2560000   \n",
            "                                                                 \n",
            " lstm_1 (LSTM)               (None, 64)                49408     \n",
            "                                                                 \n",
            " dense_2 (Dense)             (None, 64)                4160      \n",
            "                                                                 \n",
            " dense_3 (Dense)             (None, 1)                 65        \n",
            "                                                                 \n",
            "=================================================================\n",
            "Total params: 2,613,633\n",
            "Trainable params: 2,613,633\n",
            "Non-trainable params: 0\n",
            "_________________________________________________________________\n"
          ]
        }
      ]
    },
    {
      "cell_type": "code",
      "source": [
        "def plot_loss_curves(history):\n",
        "\n",
        "  loss = history.history['loss']\n",
        "  val_loss = history.history['val_loss']\n",
        "\n",
        "  accuracy = history.history['accuracy']\n",
        "  val_accuracy = history.history['val_accuracy']\n",
        "\n",
        "  epochs = range(len(history.history['loss']))\n",
        "\n",
        "  # Plot loss\n",
        "  plt.plot(epochs, loss, label='training_loss')\n",
        "  plt.plot(epochs, val_loss, label='val_loss')\n",
        "  plt.title('Loss')\n",
        "  plt.xlabel('Epochs')\n",
        "  plt.legend()\n",
        "\n",
        "  # Plot accuracy\n",
        "  plt.figure()\n",
        "  plt.plot(epochs, accuracy, label='training_accuracy')\n",
        "  plt.plot(epochs, val_accuracy, label='val_accuracy')\n",
        "  plt.title('Accuracy')\n",
        "  plt.xlabel('Epochs')\n",
        "  plt.legend();\n",
        "\n",
        "plot_loss_curves(history)"
      ],
      "metadata": {
        "colab": {
          "base_uri": "https://localhost:8080/",
          "height": 573
        },
        "id": "fC-Ww6BuYVCA",
        "outputId": "c4ad0455-a2dd-4daf-b023-0cf015657cb4"
      },
      "execution_count": 78,
      "outputs": [
        {
          "output_type": "display_data",
          "data": {
            "text/plain": [
              "<Figure size 432x288 with 1 Axes>"
            ],
            "image/png": "[encoded data removed]"
          },
          "metadata": {
            "needs_background": "light"
          }
        },
        {
          "output_type": "display_data",
          "data": {
            "text/plain": [
              "<Figure size 432x288 with 1 Axes>"
            ],
            "image/png": "[encoded data removed]"
          },
          "metadata": {
            "needs_background": "light"
          }
        }
      ]
    },
    {
      "cell_type": "code",
      "source": [
        "model.save('imbd_ltsm_class_1')"
      ],
      "metadata": {
        "colab": {
          "base_uri": "https://localhost:8080/"
        },
        "id": "3B_EgFHZYy42",
        "outputId": "257f5086-f791-4243-ce52-1f0a19f9acd4"
      },
      "execution_count": 21,
      "outputs": [
        {
          "output_type": "stream",
          "name": "stderr",
          "text": [
            "WARNING:absl:Found untraced functions such as lstm_cell_layer_call_fn, lstm_cell_layer_call_and_return_conditional_losses while saving (showing 2 of 2). These functions will not be directly callable after loading.\n"
          ]
        },
        {
          "output_type": "stream",
          "name": "stdout",
          "text": [
            "INFO:tensorflow:Assets written to: imbd_ltsm_class_1/assets\n"
          ]
        },
        {
          "output_type": "stream",
          "name": "stderr",
          "text": [
            "INFO:tensorflow:Assets written to: imbd_ltsm_class_1/assets\n",
            "WARNING:absl:<keras.layers.recurrent.LSTMCell object at 0x7f49f5fd73d0> has the same name 'LSTMCell' as a built-in Keras object. Consider renaming <class 'keras.layers.recurrent.LSTMCell'> to avoid naming conflicts when loading with `tf.keras.models.load_model`. If renaming is not possible, pass the object in the `custom_objects` parameter of the load function.\n"
          ]
        }
      ]
    },
    {
      "cell_type": "code",
      "source": [
        "'''\n",
        "model_url  = 'https://tfhub.dev/tensorflow/bert_en_uncased_L-12_H-768_A-12/4'\n",
        "\n",
        "import tensorflow_hub as hub\n",
        "feature_extractor_layer = hub.KerasLayer(model_url,\n",
        "         input_shape=[],\n",
        "         dtype=tf.string,                                 \n",
        "         trainable=False, # freeze the underlying patterns\n",
        "         name='feature_extraction_layer')\n",
        "\n",
        "'''"
      ],
      "metadata": {
        "colab": {
          "base_uri": "https://localhost:8080/",
          "height": 109
        },
        "id": "-m2n2s3gZr5x",
        "outputId": "833a97e1-2711-42cc-c228-8c35fb30dcd2"
      },
      "execution_count": 31,
      "outputs": [
        {
          "output_type": "execute_result",
          "data": {
            "text/plain": [
              "\"\\nmodel_url  = 'https://tfhub.dev/tensorflow/bert_en_uncased_L-12_H-768_A-12/4'\\n\\nimport tensorflow_hub as hub\\nfeature_extractor_layer = hub.KerasLayer(model_url,\\n         input_shape=[],\\n         dtype=tf.string,                                 \\n         trainable=False, # freeze the underlying patterns\\n         name='feature_extraction_layer')\\n\\n\""
            ],
            "application/vnd.google.colaboratory.intrinsic+json": {
              "type": "string"
            }
          },
          "metadata": {},
          "execution_count": 31
        }
      ]
    },
    {
      "cell_type": "code",
      "source": [
        "sentence_encoder_layer = hub.KerasLayer(\"https://tfhub.dev/google/universal-sentence-encoder/4\",\n",
        "                                        input_shape=[], # shape of inputs coming to our model \n",
        "                                        dtype=tf.string, # data type of inputs coming to the USE layer\n",
        "                                        trainable=False, # keep the pretrained weights (we'll create a feature extractor)\n",
        "                                        name=\"USE\") "
      ],
      "metadata": {
        "id": "rEPxfcbWfVsG"
      },
      "execution_count": 48,
      "outputs": []
    },
    {
      "cell_type": "code",
      "source": [
        ""
      ],
      "metadata": {
        "id": "GWRojD3vgYvg"
      },
      "execution_count": 43,
      "outputs": []
    },
    {
      "cell_type": "code",
      "source": [
        "\n",
        "# Create our own model\n",
        "model2 = tf.keras.Sequential([\n",
        "   sentence_encoder_layer, # use the feature extraction layer as base\n",
        "   layers.Dense(1, activation='sigmoid', name='output_layer') # create our own output layer      \n",
        "\t]) "
      ],
      "metadata": {
        "id": "YohU72-cadFd"
      },
      "execution_count": 50,
      "outputs": []
    },
    {
      "cell_type": "code",
      "source": [
        "model2.compile(optimizer='adam',\n",
        "                  loss='binary_crossentropy', metrics=['accuracy'])"
      ],
      "metadata": {
        "id": "R3OPYV9QbTBm"
      },
      "execution_count": 51,
      "outputs": []
    },
    {
      "cell_type": "code",
      "source": [
        "history = model2.fit(train_data, epochs=10,\n",
        "                    validation_data=test_data,\n",
        "                    validation_steps=30,\n",
        "                     callbacks=[early_stop_callbk, opt_LR_callbk])"
      ],
      "metadata": {
        "colab": {
          "base_uri": "https://localhost:8080/"
        },
        "id": "4EQGjLdbbbjz",
        "outputId": "e03ec316-f1ac-48db-a695-73f061efdc2e"
      },
      "execution_count": 52,
      "outputs": [
        {
          "output_type": "stream",
          "name": "stdout",
          "text": [
            "Epoch 1/10\n",
            "391/391 [==============================] - 59s 143ms/step - loss: 0.6169 - accuracy: 0.7828 - val_loss: 0.5601 - val_accuracy: 0.8068\n",
            "Epoch 2/10\n",
            "391/391 [==============================] - 49s 124ms/step - loss: 0.5192 - accuracy: 0.8239 - val_loss: 0.4903 - val_accuracy: 0.8214\n",
            "Epoch 3/10\n",
            "391/391 [==============================] - 49s 124ms/step - loss: 0.4644 - accuracy: 0.8326 - val_loss: 0.4489 - val_accuracy: 0.8333\n",
            "Epoch 4/10\n",
            "391/391 [==============================] - 49s 124ms/step - loss: 0.4303 - accuracy: 0.8380 - val_loss: 0.4216 - val_accuracy: 0.8385\n",
            "Epoch 5/10\n",
            "391/391 [==============================] - 49s 123ms/step - loss: 0.4071 - accuracy: 0.8412 - val_loss: 0.4028 - val_accuracy: 0.8417\n",
            "Epoch 6/10\n",
            "391/391 [==============================] - 48s 122ms/step - loss: 0.3906 - accuracy: 0.8455 - val_loss: 0.3892 - val_accuracy: 0.8443\n",
            "Epoch 7/10\n",
            "391/391 [==============================] - 48s 122ms/step - loss: 0.3783 - accuracy: 0.8481 - val_loss: 0.3787 - val_accuracy: 0.8495\n",
            "Epoch 8/10\n",
            "391/391 [==============================] - 49s 122ms/step - loss: 0.3687 - accuracy: 0.8502 - val_loss: 0.3708 - val_accuracy: 0.8484\n",
            "Epoch 9/10\n",
            "391/391 [==============================] - 49s 124ms/step - loss: 0.3612 - accuracy: 0.8514 - val_loss: 0.3649 - val_accuracy: 0.8505\n",
            "Epoch 10/10\n",
            "391/391 [==============================] - 50s 125ms/step - loss: 0.3552 - accuracy: 0.8538 - val_loss: 0.3597 - val_accuracy: 0.8505\n"
          ]
        }
      ]
    },
    {
      "cell_type": "code",
      "source": [
        "model2.summary()"
      ],
      "metadata": {
        "colab": {
          "base_uri": "https://localhost:8080/"
        },
        "id": "byufGTq3bg9c",
        "outputId": "b9eef288-33c5-4c42-a6b8-4ca96a8a5b8b"
      },
      "execution_count": 53,
      "outputs": [
        {
          "output_type": "stream",
          "name": "stdout",
          "text": [
            "Model: \"sequential_4\"\n",
            "_________________________________________________________________\n",
            " Layer (type)                Output Shape              Param #   \n",
            "=================================================================\n",
            " USE (KerasLayer)            (None, 512)               256797824 \n",
            "                                                                 \n",
            " output_layer (Dense)        (None, 1)                 513       \n",
            "                                                                 \n",
            "=================================================================\n",
            "Total params: 256,798,337\n",
            "Trainable params: 513\n",
            "Non-trainable params: 256,797,824\n",
            "_________________________________________________________________\n"
          ]
        }
      ]
    },
    {
      "cell_type": "code",
      "source": [
        "plot_loss_curves(history)"
      ],
      "metadata": {
        "colab": {
          "base_uri": "https://localhost:8080/",
          "height": 573
        },
        "id": "JKLNg1m2kLAG",
        "outputId": "8fb41524-62c7-4968-c2ac-894a7eb730f5"
      },
      "execution_count": 54,
      "outputs": [
        {
          "output_type": "display_data",
          "data": {
            "text/plain": [
              "<Figure size 432x288 with 1 Axes>"
            ],
            "image/png": "[encoded data removed]"
          },
          "metadata": {
            "needs_background": "light"
          }
        },
        {
          "output_type": "display_data",
          "data": {
            "text/plain": [
              "<Figure size 432x288 with 1 Axes>"
            ],
            "image/png": "[encoded data removed]"
          },
          "metadata": {
            "needs_background": "light"
          }
        }
      ]
    },
    {
      "cell_type": "code",
      "source": [
        "# Create our own model\n",
        "model3 = tf.keras.Sequential([\n",
        "   sentence_encoder_layer, # use the feature extraction layer as base\n",
        "   layers.Dense(64, activation='relu'),\n",
        "   layers.Dense(1, activation='sigmoid', name='output_layer') # create our own output layer      \n",
        "\t]) "
      ],
      "metadata": {
        "id": "hZYvV63JkLfO"
      },
      "execution_count": 55,
      "outputs": []
    },
    {
      "cell_type": "code",
      "source": [
        "model3.compile(optimizer='adam',\n",
        "                  loss='binary_crossentropy', metrics=['accuracy'])"
      ],
      "metadata": {
        "id": "0m1uNjr-mhSC"
      },
      "execution_count": 56,
      "outputs": []
    },
    {
      "cell_type": "code",
      "source": [
        "\n",
        "\n"
      ],
      "metadata": {
        "id": "NPkc_jYaoDuT"
      },
      "execution_count": 60,
      "outputs": []
    },
    {
      "cell_type": "code",
      "source": [
        "history3 = model3.fit(train_data, epochs=10,\n",
        "                    validation_data=test_data,\n",
        "                    validation_steps=30,\n",
        "                    callbacks=[early_stop_callbk, opt_LR_callbk])"
      ],
      "metadata": {
        "id": "nzf-Rnc1mih6",
        "outputId": "a2f11724-ed6f-45d5-d4d6-56633234159f",
        "colab": {
          "base_uri": "https://localhost:8080/"
        }
      },
      "execution_count": 57,
      "outputs": [
        {
          "output_type": "stream",
          "name": "stdout",
          "text": [
            "Epoch 1/10\n",
            "391/391 [==============================] - 55s 134ms/step - loss: 0.4036 - accuracy: 0.8349 - val_loss: 0.3415 - val_accuracy: 0.8516\n",
            "Epoch 2/10\n",
            "391/391 [==============================] - 59s 149ms/step - loss: 0.3268 - accuracy: 0.8592 - val_loss: 0.3376 - val_accuracy: 0.8510\n",
            "Epoch 3/10\n",
            "391/391 [==============================] - 59s 148ms/step - loss: 0.3218 - accuracy: 0.8623 - val_loss: 0.3369 - val_accuracy: 0.8505\n",
            "Epoch 4/10\n",
            "391/391 [==============================] - 57s 145ms/step - loss: 0.3183 - accuracy: 0.8639 - val_loss: 0.3346 - val_accuracy: 0.8521\n",
            "Epoch 5/10\n",
            "391/391 [==============================] - 59s 150ms/step - loss: 0.3147 - accuracy: 0.8655 - val_loss: 0.3307 - val_accuracy: 0.8562\n",
            "Epoch 6/10\n",
            "391/391 [==============================] - 63s 160ms/step - loss: 0.3117 - accuracy: 0.8667 - val_loss: 0.3322 - val_accuracy: 0.8568\n",
            "Epoch 7/10\n",
            "391/391 [==============================] - 57s 144ms/step - loss: 0.3078 - accuracy: 0.8686 - val_loss: 0.3333 - val_accuracy: 0.8562\n",
            "Epoch 8/10\n",
            "391/391 [==============================] - 57s 144ms/step - loss: 0.3044 - accuracy: 0.8696 - val_loss: 0.3316 - val_accuracy: 0.8609\n",
            "Epoch 9/10\n",
            "391/391 [==============================] - 57s 145ms/step - loss: 0.3014 - accuracy: 0.8728 - val_loss: 0.3324 - val_accuracy: 0.8594\n",
            "Epoch 10/10\n",
            "391/391 [==============================] - 58s 147ms/step - loss: 0.2978 - accuracy: 0.8728 - val_loss: 0.3286 - val_accuracy: 0.8620\n"
          ]
        }
      ]
    },
    {
      "cell_type": "code",
      "source": [
        "model3.summary()"
      ],
      "metadata": {
        "id": "JPDCoEx0mnr6",
        "outputId": "4973f666-cf47-4809-e0a1-4598ac8e62b7",
        "colab": {
          "base_uri": "https://localhost:8080/"
        }
      },
      "execution_count": 58,
      "outputs": [
        {
          "output_type": "stream",
          "name": "stdout",
          "text": [
            "Model: \"sequential_4\"\n",
            "_________________________________________________________________\n",
            " Layer (type)                Output Shape              Param #   \n",
            "=================================================================\n",
            " USE (KerasLayer)            (None, 512)               256797824 \n",
            "                                                                 \n",
            " output_layer (Dense)        (None, 1)                 513       \n",
            "                                                                 \n",
            "=================================================================\n",
            "Total params: 256,798,337\n",
            "Trainable params: 513\n",
            "Non-trainable params: 256,797,824\n",
            "_________________________________________________________________\n"
          ]
        }
      ]
    },
    {
      "cell_type": "code",
      "source": [
        "plot_loss_curves(history3)"
      ],
      "metadata": {
        "id": "tY2_wONfmr4P",
        "outputId": "e93beee4-5e12-4a89-f0a9-cc6bcad15624",
        "colab": {
          "base_uri": "https://localhost:8080/",
          "height": 573
        }
      },
      "execution_count": 59,
      "outputs": [
        {
          "output_type": "display_data",
          "data": {
            "text/plain": [
              "<Figure size 432x288 with 1 Axes>"
            ],
            "image/png": "[encoded data removed]"
          },
          "metadata": {
            "needs_background": "light"
          }
        },
        {
          "output_type": "display_data",
          "data": {
            "text/plain": [
              "<Figure size 432x288 with 1 Axes>"
            ],
            "image/png": "[encoded data removed]"
          },
          "metadata": {
            "needs_background": "light"
          }
        }
      ]
    },
    {
      "cell_type": "code",
      "source": [
        ""
      ],
      "metadata": {
        "id": "PSZgAnJ9mty0"
      },
      "execution_count": null,
      "outputs": []
    }
  ]
}